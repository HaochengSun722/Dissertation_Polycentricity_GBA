{
 "cells": [
  {
   "cell_type": "code",
   "execution_count": 1,
   "metadata": {},
   "outputs": [],
   "source": [
    "import numpy as np\n",
    "import pandas as pd\n",
    "import geopandas as gpd\n",
    "import seaborn as sns\n",
    "import matplotlib.pyplot as plt\n",
    "import matplotlib.cm as cm\n",
    "import matplotlib as mpl\n",
    "import re\n",
    "import os\n",
    "import patsy\n",
    "\n",
    "from matplotlib.colors import ListedColormap\n",
    "\n",
    "import sklearn\n",
    "from sklearn.neighbors import NearestNeighbors\n",
    "from sklearn.manifold import TSNE\n",
    "from sklearn.decomposition import PCA\n",
    "from sklearn.preprocessing import PowerTransformer, RobustScaler, StandardScaler, MinMaxScaler\n",
    "from sklearn.cluster import KMeans, DBSCAN, OPTICS\n",
    "from esda.adbscan import ADBSCAN\n",
    "from pysal.model import mgwr\n",
    "from mgwr.sel_bw import Sel_BW\n",
    "\n",
    "import random\n",
    "random.seed(42)    # For reproducibility\n",
    "np.random.seed(42) # For reproducibility\n",
    "\n",
    "# Make numeric display a bit neater\n",
    "pd.set_option('display.float_format', lambda x: '{:,.2f}'.format(x))"
   ]
  },
  {
   "cell_type": "code",
   "execution_count": 2,
   "metadata": {},
   "outputs": [],
   "source": [
    "from sklearn.linear_model import LinearRegression\n",
    "import statsmodels.api as sm\n",
    "\n",
    "from sklearn.linear_model import LogisticRegression\n",
    "from sklearn.metrics import confusion_matrix\n",
    "\n",
    "pd.set_option('display.max_rows', 300) # specifies number of rows to show\n",
    "pd.options.display.float_format = '{:40,.4f}'.format # specifies default number format to 4 decimal places\n",
    "plt.style.use('ggplot') # specifies that graphs should use ggplot styling\n",
    "%matplotlib inline"
   ]
  },
  {
   "cell_type": "code",
   "execution_count": 3,
   "metadata": {},
   "outputs": [],
   "source": [
    "tfont = {'fontname':'Liberation Sans Narrow', 'horizontalalignment':'left'}\n",
    "import math\n",
    "from geopandas import GeoDataFrame\n",
    "from sklearn.preprocessing import StandardScaler\n",
    "from sklearn.decomposition import PCA\n",
    "from sklearn.preprocessing import MinMaxScaler\n",
    "from sklearn.preprocessing import minmax_scale\n",
    "from sklearn.preprocessing import MaxAbsScaler\n",
    "from sklearn.preprocessing import StandardScaler\n",
    "import mcdm"
   ]
  },
  {
   "cell_type": "code",
   "execution_count": 4,
   "metadata": {},
   "outputs": [
    {
     "name": "stdout",
     "output_type": "stream",
     "text": [
      "Requirement already satisfied: mcdm in /opt/conda/envs/sds2020/lib/python3.7/site-packages (1.2)\n",
      "Requirement already satisfied: numpy>=1.19.2 in /opt/conda/envs/sds2020/lib/python3.7/site-packages (from mcdm) (1.21.1)\n",
      "Note: you may need to restart the kernel to use updated packages.\n"
     ]
    }
   ],
   "source": [
    "pip install mcdm"
   ]
  },
  {
   "cell_type": "code",
   "execution_count": 5,
   "metadata": {},
   "outputs": [],
   "source": [
    "##node1 bus stop count\n",
    "dg_area=gpd.read_file('metro_data/东莞/dg_area.shp',encoding=\"utf-8\")\n",
    "dg_station=gpd.read_file('metro_data/东莞/dg_station.shp',encoding=\"utf-8\")"
   ]
  },
  {
   "cell_type": "code",
   "execution_count": 6,
   "metadata": {},
   "outputs": [],
   "source": [
    "dg_station.rename(columns={'sid':'id','station_na':'station_name'},inplace=True)"
   ]
  },
  {
   "cell_type": "code",
   "execution_count": 7,
   "metadata": {},
   "outputs": [],
   "source": [
    "dg_area = pd.merge(dg_area, dg_station, on='id',how='left')"
   ]
  },
  {
   "cell_type": "code",
   "execution_count": 8,
   "metadata": {},
   "outputs": [],
   "source": [
    "dg_area=dg_area.drop(['geometry_y'],axis=1)\n",
    "dg_area.rename(columns={'geometry_x':'geometry'},inplace=True)"
   ]
  },
  {
   "cell_type": "code",
   "execution_count": 9,
   "metadata": {},
   "outputs": [],
   "source": [
    "dg_bus_station=gpd.read_file('metro_data/东莞/amap_bus_stops_dg.shp',encoding=\"utf-8\")"
   ]
  },
  {
   "cell_type": "code",
   "execution_count": 10,
   "metadata": {},
   "outputs": [],
   "source": [
    "sz_bus_station_count = gpd.sjoin(dg_bus_station, dg_area, how='right')\n",
    "sz_bus_station_count_test = sz_bus_station_count.groupby(['id'])['stop_id'].agg(busStop_Count='count').reset_index() "
   ]
  },
  {
   "cell_type": "code",
   "execution_count": 11,
   "metadata": {},
   "outputs": [],
   "source": [
    "dg_area = pd.merge(dg_area, sz_bus_station_count_test, on='id',how='left')"
   ]
  },
  {
   "cell_type": "code",
   "execution_count": 12,
   "metadata": {},
   "outputs": [],
   "source": [
    "#service time\n",
    "dg_line=gpd.read_file('metro_data/东莞/line.shp',encoding=\"utf-8\")\n",
    "dg_station_raw=gpd.read_file('metro_data/东莞/station.shp',encoding=\"utf-8\")"
   ]
  },
  {
   "cell_type": "code",
   "execution_count": 13,
   "metadata": {},
   "outputs": [
    {
     "data": {
      "text/html": [
       "<div>\n",
       "<style scoped>\n",
       "    .dataframe tbody tr th:only-of-type {\n",
       "        vertical-align: middle;\n",
       "    }\n",
       "\n",
       "    .dataframe tbody tr th {\n",
       "        vertical-align: top;\n",
       "    }\n",
       "\n",
       "    .dataframe thead th {\n",
       "        text-align: right;\n",
       "    }\n",
       "</style>\n",
       "<table border=\"1\" class=\"dataframe\">\n",
       "  <thead>\n",
       "    <tr style=\"text-align: right;\">\n",
       "      <th></th>\n",
       "      <th>line_name</th>\n",
       "      <th>start_time</th>\n",
       "      <th>end_time</th>\n",
       "      <th>start_stop</th>\n",
       "      <th>end_stop</th>\n",
       "      <th>distance</th>\n",
       "      <th>basic_pric</th>\n",
       "      <th>total_pric</th>\n",
       "      <th>geometry</th>\n",
       "    </tr>\n",
       "  </thead>\n",
       "  <tbody>\n",
       "    <tr>\n",
       "      <th>0</th>\n",
       "      <td>b'\\xe8\\xbd\\xa8\\xe9\\x81\\x93\\xe4\\xba\\xa4\\xe9\\x80...</td>\n",
       "      <td>[]</td>\n",
       "      <td>[]</td>\n",
       "      <td>东莞火车站</td>\n",
       "      <td>虎门火车站</td>\n",
       "      <td>36.94205</td>\n",
       "      <td>2</td>\n",
       "      <td>8</td>\n",
       "      <td>LINESTRING (113.85522 23.09147, 113.85424 23.0...</td>\n",
       "    </tr>\n",
       "  </tbody>\n",
       "</table>\n",
       "</div>"
      ],
      "text/plain": [
       "                                           line_name start_time end_time  \\\n",
       "0  b'\\xe8\\xbd\\xa8\\xe9\\x81\\x93\\xe4\\xba\\xa4\\xe9\\x80...         []       []   \n",
       "\n",
       "  start_stop end_stop  distance basic_pric total_pric  \\\n",
       "0      东莞火车站    虎门火车站  36.94205          2          8   \n",
       "\n",
       "                                            geometry  \n",
       "0  LINESTRING (113.85522 23.09147, 113.85424 23.0...  "
      ]
     },
     "execution_count": 13,
     "metadata": {},
     "output_type": "execute_result"
    }
   ],
   "source": [
    "dg_line"
   ]
  },
  {
   "cell_type": "code",
   "execution_count": 14,
   "metadata": {},
   "outputs": [],
   "source": [
    "dg_station_raw_sub=dg_station_raw[['line_name','station_na','lng']]"
   ]
  },
  {
   "cell_type": "code",
   "execution_count": 15,
   "metadata": {},
   "outputs": [],
   "source": [
    "dg_area=pd.merge(dg_station_raw_sub,dg_area,on='lng',how='right')"
   ]
  },
  {
   "cell_type": "code",
   "execution_count": 16,
   "metadata": {},
   "outputs": [],
   "source": [
    "dg_area=dg_area.drop(['line_name_y','station_name'],axis=1)\n",
    "dg_area.rename(columns={'line_name_x':'line_name','station_na':'station_name'},inplace=True)"
   ]
  },
  {
   "cell_type": "code",
   "execution_count": 17,
   "metadata": {},
   "outputs": [],
   "source": [
    "#NODE3 service direction number\n",
    "dg_area['Service_direction']=1"
   ]
  },
  {
   "cell_type": "code",
   "execution_count": 18,
   "metadata": {},
   "outputs": [
    {
     "name": "stderr",
     "output_type": "stream",
     "text": [
      "/opt/conda/envs/sds2020/lib/python3.7/site-packages/ipykernel_launcher.py:1: SettingWithCopyWarning: \n",
      "A value is trying to be set on a copy of a slice from a DataFrame\n",
      "\n",
      "See the caveats in the documentation: https://pandas.pydata.org/pandas-docs/stable/user_guide/indexing.html#returning-a-view-versus-a-copy\n",
      "  \"\"\"Entry point for launching an IPython kernel.\n",
      "/opt/conda/envs/sds2020/lib/python3.7/site-packages/pandas/core/indexing.py:670: SettingWithCopyWarning: \n",
      "A value is trying to be set on a copy of a slice from a DataFrame\n",
      "\n",
      "See the caveats in the documentation: https://pandas.pydata.org/pandas-docs/stable/user_guide/indexing.html#returning-a-view-versus-a-copy\n",
      "  iloc._setitem_with_indexer(indexer, value)\n",
      "/opt/conda/envs/sds2020/lib/python3.7/site-packages/ipykernel_launcher.py:2: SettingWithCopyWarning: \n",
      "A value is trying to be set on a copy of a slice from a DataFrame\n",
      "\n",
      "See the caveats in the documentation: https://pandas.pydata.org/pandas-docs/stable/user_guide/indexing.html#returning-a-view-versus-a-copy\n",
      "  \n"
     ]
    }
   ],
   "source": [
    "dg_area.Service_direction[dg_area[dg_area['station_name']=='东城']['Service_direction'].index.values]=2\n",
    "dg_area.Service_direction[dg_area[dg_area['station_name']=='鸿福路']['Service_direction'].index.values]=2"
   ]
  },
  {
   "cell_type": "code",
   "execution_count": 19,
   "metadata": {},
   "outputs": [],
   "source": [
    "##node 公交线路覆盖率\n",
    "road_total = pd.read_csv('metro_data/东莞/dg_road.csv',low_memory=False, encoding=\"utf-8\",\n",
    "                 usecols=['road_length',\"id\"])\n",
    "bus_line_length = pd.read_csv('metro_data/东莞/bus_line_length.csv',low_memory=False, encoding=\"utf-8\",\n",
    "                 usecols=['bus_line_length',\"id\"])"
   ]
  },
  {
   "cell_type": "code",
   "execution_count": 20,
   "metadata": {},
   "outputs": [],
   "source": [
    "road_total = pd.merge(road_total, bus_line_length, on='id')\n",
    "road_total['busline_Cover']=road_total.bus_line_length/road_total.road_length\n",
    "temp=road_total[['busline_Cover','id']]\n",
    "dg_area=pd.merge(dg_area,temp,on='id',how='left')"
   ]
  },
  {
   "cell_type": "code",
   "execution_count": 21,
   "metadata": {},
   "outputs": [],
   "source": [
    "#node-对外交通道路所占比例\n",
    "external_road = pd.read_csv('metro_data/东莞/external_length.csv',low_memory=False, encoding=\"utf-8\",\n",
    "                 usecols=['external_length',\"id\"])\n",
    "external_road = pd.merge(external_road, road_total, on='id')\n",
    "external_road['N_external_Coverage']=external_road.external_length/external_road.road_length\n",
    "temp=external_road[['id','N_external_Coverage']]\n",
    "dg_area=pd.merge(dg_area,temp,on='id',how='left')"
   ]
  },
  {
   "cell_type": "code",
   "execution_count": 22,
   "metadata": {},
   "outputs": [],
   "source": [
    "#Settlement-对内交通道路所占比例\n",
    "internal_road = pd.read_csv('metro_data/东莞/internal_length.csv',low_memory=False, encoding=\"utf-8\",\n",
    "                 usecols=['internal_length',\"id\"])\n",
    "internal_road = pd.merge(internal_road, road_total, on='id')\n",
    "internal_road['S_internal_Coverage']=internal_road.internal_length/internal_road.road_length\n",
    "temp=internal_road[['id','S_internal_Coverage']]\n",
    "dg_area=pd.merge(dg_area,temp,on='id',how='left')"
   ]
  },
  {
   "cell_type": "code",
   "execution_count": 23,
   "metadata": {},
   "outputs": [],
   "source": [
    "#Container 道路网密度\n",
    "area = pd.read_csv('metro_data/东莞/area.csv',low_memory=False, encoding=\"utf-8\",\n",
    "                 usecols=['area',\"id\"])\n",
    "dg_area=pd.merge(area,dg_area,on='id',how='right')\n",
    "temp=road_total[['id','road_length']]\n",
    "dg_area=pd.merge(temp,dg_area,on='id',how='right')\n",
    "dg_area['C_road_density']=dg_area.road_length/dg_area.area"
   ]
  },
  {
   "cell_type": "code",
   "execution_count": 24,
   "metadata": {},
   "outputs": [],
   "source": [
    "#place-范围内人口总数\n",
    "pop_area = pd.read_csv('metro_data/东莞/pop_dg.csv',low_memory=False, encoding=\"utf-8\",\n",
    "                 usecols=['pop',\"id\"])\n",
    "dg_pop = pop_area.groupby(['id'])['pop'].agg(P_pop_sum='sum').reset_index()\n",
    "dg_area=pd.merge(dg_pop,dg_area,on='id',how='right')"
   ]
  },
  {
   "cell_type": "code",
   "execution_count": 25,
   "metadata": {},
   "outputs": [],
   "source": [
    "#node-交通用地占比/place-基本功能占比/非基本功能占比\n",
    "basic_function = pd.read_csv('metro_data/东莞/dg_basic.csv',low_memory=False, encoding=\"utf-8\",\n",
    "                 usecols=['LU_area',\"id\"])\n",
    "unbasic_function = pd.read_csv('metro_data/东莞/dg_unbasic.csv',low_memory=False, encoding=\"utf-8\",\n",
    "                 usecols=['LU_area',\"id\"])\n",
    "transpotation_function = pd.read_csv('metro_data/东莞/dg_transportation.csv',low_memory=False, encoding=\"utf-8\",\n",
    "                 usecols=['LU_area',\"id\"])"
   ]
  },
  {
   "cell_type": "code",
   "execution_count": 26,
   "metadata": {},
   "outputs": [],
   "source": [
    "basic_function = basic_function.groupby(['id'])['LU_area'].agg(basic_sum='sum').reset_index()\n",
    "unbasic_function = unbasic_function.groupby(['id'])['LU_area'].agg(unbasic_sum='sum').reset_index()\n",
    "transpotation_function = transpotation_function.groupby(['id'])['LU_area'].agg(transpotation_sum='sum').reset_index()"
   ]
  },
  {
   "cell_type": "code",
   "execution_count": 27,
   "metadata": {},
   "outputs": [],
   "source": [
    "dg_area = pd.merge(dg_area, basic_function, on='id',how='left')\n",
    "dg_area = pd.merge(dg_area, unbasic_function, on='id',how='left')\n",
    "dg_area = pd.merge(dg_area, transpotation_function, on='id',how='left')"
   ]
  },
  {
   "cell_type": "code",
   "execution_count": 28,
   "metadata": {},
   "outputs": [],
   "source": [
    "dg_area['N_transland_Cover']=dg_area.transpotation_sum/dg_area.area\n",
    "dg_area['P_basic_Cover']=dg_area.basic_sum/dg_area.area\n",
    "dg_area['P_unbasic_Cover']=dg_area.unbasic_sum/dg_area.area"
   ]
  },
  {
   "cell_type": "code",
   "execution_count": 29,
   "metadata": {},
   "outputs": [],
   "source": [
    "dg_area= dg_area.drop(['transpotation_sum','basic_sum','unbasic_sum'],axis=1)\n",
    "dg_area['N_transland_Cover'] = dg_area['N_transland_Cover'].fillna(0)\n",
    "dg_area['P_basic_Cover'] = dg_area['P_basic_Cover'].fillna(0)\n",
    "dg_area['P_unbasic_Cover'] = dg_area['P_unbasic_Cover'].fillna(0)"
   ]
  },
  {
   "cell_type": "code",
   "execution_count": 30,
   "metadata": {},
   "outputs": [],
   "source": [
    "#Place-Degree of landuse mix---entropy 熵 Frank（2005）\n",
    "landuse_area = pd.read_csv('metro_data/东莞/dg_landuse.csv',low_memory=False, encoding=\"utf-8\",\n",
    "                 usecols=['LU_area',\"id\",'Level1'])\n",
    "test = landuse_area.groupby(['id','Level1'])['LU_area'].agg(LU_sum='sum').reset_index()\n",
    "test1 = pd.pivot_table(test, index='id', columns='Level1', values='LU_sum')\n",
    "test2 = pd.DataFrame(test1.to_records())"
   ]
  },
  {
   "cell_type": "code",
   "execution_count": 31,
   "metadata": {},
   "outputs": [
    {
     "name": "stdout",
     "output_type": "stream",
     "text": [
      "<class 'pandas.core.frame.DataFrame'>\n",
      "Int64Index: 15 entries, 0 to 14\n",
      "Data columns (total 21 columns):\n",
      " #   Column               Non-Null Count  Dtype   \n",
      "---  ------               --------------  -----   \n",
      " 0   id                   15 non-null     int64   \n",
      " 1   P_pop_sum            15 non-null     int64   \n",
      " 2   road_length          15 non-null     float64 \n",
      " 3   area                 15 non-null     int64   \n",
      " 4   line_name            15 non-null     object  \n",
      " 5   station_name         15 non-null     object  \n",
      " 6   lng                  15 non-null     object  \n",
      " 7   time                 15 non-null     int64   \n",
      " 8   geometry             15 non-null     geometry\n",
      " 9   lat                  15 non-null     object  \n",
      " 10  lng84                15 non-null     object  \n",
      " 11  lat84                15 non-null     object  \n",
      " 12  busStop_Count        15 non-null     int64   \n",
      " 13  Service_direction    15 non-null     int64   \n",
      " 14  busline_Cover        15 non-null     float64 \n",
      " 15  N_external_Coverage  15 non-null     float64 \n",
      " 16  S_internal_Coverage  15 non-null     float64 \n",
      " 17  C_road_density       15 non-null     float64 \n",
      " 18  N_transland_Cover    15 non-null     float64 \n",
      " 19  P_basic_Cover        15 non-null     float64 \n",
      " 20  P_unbasic_Cover      15 non-null     float64 \n",
      "dtypes: float64(8), geometry(1), int64(6), object(6)\n",
      "memory usage: 2.6+ KB\n"
     ]
    }
   ],
   "source": [
    "dg_area.info()"
   ]
  },
  {
   "cell_type": "code",
   "execution_count": 32,
   "metadata": {},
   "outputs": [],
   "source": [
    "test_list=[]\n",
    "for i in range (0,15):\n",
    "    p=test2.loc[[i]].isna().sum().sum()\n",
    "    test_list.append(p)"
   ]
  },
  {
   "cell_type": "code",
   "execution_count": 33,
   "metadata": {},
   "outputs": [],
   "source": [
    "test2['na_vlaue']=test_list\n",
    "test2['conf']=5\n",
    "test2['n3']=test2.conf-test2.na_vlaue"
   ]
  },
  {
   "cell_type": "code",
   "execution_count": 34,
   "metadata": {},
   "outputs": [],
   "source": [
    "test2['1'] = test2['1'].fillna(0)\n",
    "test2['2'] = test2['2'].fillna(0)\n",
    "test2['3'] = test2['3'].fillna(0)\n",
    "test2['4'] = test2['4'].fillna(0)\n",
    "test2['5'] = test2['5'].fillna(0)\n",
    "test2['sum']=test2['1']+test2['2']+test2['3']+test2['4']+test2['5']"
   ]
  },
  {
   "cell_type": "code",
   "execution_count": 35,
   "metadata": {},
   "outputs": [
    {
     "data": {
      "text/plain": [
       "True"
      ]
     },
     "execution_count": 35,
     "metadata": {},
     "output_type": "execute_result"
    }
   ],
   "source": [
    "(test2['sum'] != 0).all()"
   ]
  },
  {
   "cell_type": "code",
   "execution_count": 36,
   "metadata": {},
   "outputs": [],
   "source": [
    "LUM_list=[]\n",
    "for i in range (0,15):\n",
    "    if test2.at[i,'1']==0:\n",
    "        t1=0\n",
    "    else:\n",
    "        t1=math.log(test2.at[i,'1']/test2.at[i,'sum'])\n",
    "    if test2.at[i,'2']==0:\n",
    "        t2=0\n",
    "    else:\n",
    "        t2=math.log(test2.at[i,'2']/test2.at[i,'sum'])\n",
    "    if test2.at[i,'3']==0:\n",
    "        t3=0\n",
    "    else:\n",
    "        t3=math.log(test2.at[i,'3']/test2.at[i,'sum'])\n",
    "    if test2.at[i,'4']==0:\n",
    "        t4=0\n",
    "    else:\n",
    "        t4=math.log(test2.at[i,'4']/test2.at[i,'sum'])\n",
    "    if test2.at[i,'5']==0:\n",
    "        t5=0\n",
    "    else:\n",
    "        t5=math.log(test2.at[i,'5']/test2.at[i,'sum'])\n",
    "    p=(-1)*((test2.at[i,'1']/test2.at[i,'sum'])*t1\n",
    "                   +(test2.at[i,'2']/test2.at[i,'sum'])*t2\n",
    "                  +(test2.at[i,'3']/test2.at[i,'sum'])*t3\n",
    "                  +(test2.at[i,'4']/test2.at[i,'sum'])*t4\n",
    "                  +(test2.at[i,'5']/test2.at[i,'sum'])*t5)/math.log(test2.at[i,'n3'])\n",
    "    LUM_list.append(p)"
   ]
  },
  {
   "cell_type": "code",
   "execution_count": 37,
   "metadata": {},
   "outputs": [],
   "source": [
    "test2['P_LUM']=LUM_list\n",
    "test2['P_LUM'] = test2['P_LUM'].fillna(0)"
   ]
  },
  {
   "cell_type": "code",
   "execution_count": 38,
   "metadata": {},
   "outputs": [],
   "source": [
    "LUM_df = test2[['id', 'P_LUM']]\n",
    "dg_area = pd.merge(dg_area, LUM_df, on='id',how='left')"
   ]
  },
  {
   "cell_type": "code",
   "execution_count": 39,
   "metadata": {},
   "outputs": [],
   "source": [
    "#place2-Simpson Diversity Index(poi)\n",
    "def simpson_di(data):\n",
    "\n",
    "    \"\"\" Given a hash { 'species': count } , returns the Simpson Diversity Index\n",
    "    \n",
    "    >>> simpson_di({'a': 10, 'b': 20, 'c': 30,})\n",
    "    0.3888888888888889\n",
    "    \"\"\"\n",
    "\n",
    "    N = sum(data.values())\n",
    "    \n",
    "    def p(n, N):\n",
    "        \"\"\" Relative abundance \"\"\"\n",
    "        if n is  0:\n",
    "            return 0\n",
    "        else:\n",
    "            return (float(n)*(n-1))/(N*(N-1))\n",
    "\n",
    "    \n",
    "    return 1-sum(p(n, N) for n in data.values() if n is not 0)"
   ]
  },
  {
   "cell_type": "code",
   "execution_count": 40,
   "metadata": {},
   "outputs": [],
   "source": [
    "dg_area = GeoDataFrame(dg_area, crs=\"EPSG:4326\", geometry=dg_area.geometry)\n",
    "dg_area['P_LUM'] = dg_area['P_LUM'].fillna(0)"
   ]
  },
  {
   "cell_type": "code",
   "execution_count": 41,
   "metadata": {},
   "outputs": [],
   "source": [
    "gz_area2=dg_area.copy()"
   ]
  },
  {
   "cell_type": "code",
   "execution_count": 42,
   "metadata": {},
   "outputs": [],
   "source": [
    "gz_poi_cy=gpd.read_file('metro_data/东莞/poi/东莞市_餐饮.shp',encoding=\"utf-8\")\n",
    "gz_poi_total_count = gpd.sjoin(gz_poi_cy, gz_area2, how='right')\n",
    "gz_poi_total_count_test = gz_poi_total_count.groupby(['id'])['gml_id'].agg(cy_Count='count').reset_index()\n",
    "gz_area2 = pd.merge(gz_area2, gz_poi_total_count_test, on='id')"
   ]
  },
  {
   "cell_type": "code",
   "execution_count": 43,
   "metadata": {},
   "outputs": [],
   "source": [
    "gz_poi_ds=gpd.read_file('metro_data/东莞/poi/东莞市_大厦.shp',encoding=\"utf-8\")\n",
    "gz_poi_total_count = gpd.sjoin(gz_poi_ds, gz_area2, how='right')\n",
    "gz_poi_total_count_test = gz_poi_total_count.groupby(['station_name'])['gml_id'].agg(ds_Count='count').reset_index()\n",
    "gz_area2 = pd.merge(gz_area2, gz_poi_total_count_test, on='station_name')"
   ]
  },
  {
   "cell_type": "code",
   "execution_count": 44,
   "metadata": {},
   "outputs": [],
   "source": [
    "gz_poi_mall=gpd.read_file('metro_data/东莞/poi/东莞市_大型购物广场.shp',encoding=\"utf-8\")\n",
    "gz_poi_total_count = gpd.sjoin(gz_poi_mall, gz_area2, how='right')\n",
    "gz_poi_total_count_test = gz_poi_total_count.groupby(['station_name'])['gml_id'].agg(mall_Count='count').reset_index()\n",
    "gz_area2 = pd.merge(gz_area2, gz_poi_total_count_test, on='station_name')"
   ]
  },
  {
   "cell_type": "code",
   "execution_count": 45,
   "metadata": {},
   "outputs": [],
   "source": [
    "gz_poi_gw=gpd.read_file('metro_data/东莞/poi/东莞市_购物.shp',encoding=\"utf-8\")\n",
    "gz_poi_total_count = gpd.sjoin(gz_poi_gw, gz_area2, how='right')\n",
    "gz_poi_total_count_test = gz_poi_total_count.groupby(['station_name'])['gml_id'].agg(gw_Count='count').reset_index()\n",
    "gz_area2 = pd.merge(gz_area2, gz_poi_total_count_test, on='station_name')"
   ]
  },
  {
   "cell_type": "code",
   "execution_count": 46,
   "metadata": {},
   "outputs": [],
   "source": [
    "gz_poi_jr=gpd.read_file('metro_data/东莞/poi/东莞市_金融服务.shp',encoding=\"utf-8\")\n",
    "gz_poi_total_count = gpd.sjoin(gz_poi_jr, gz_area2, how='right')\n",
    "gz_poi_total_count_test = gz_poi_total_count.groupby(['station_name'])['gml_id'].agg(jr_Count='count').reset_index()\n",
    "gz_area2 = pd.merge(gz_area2, gz_poi_total_count_test, on='station_name')"
   ]
  },
  {
   "cell_type": "code",
   "execution_count": 47,
   "metadata": {},
   "outputs": [],
   "source": [
    "gz_poi_ky=gpd.read_file('metro_data/东莞/poi/东莞市_科研教育.shp',encoding=\"utf-8\")\n",
    "gz_poi_total_count = gpd.sjoin(gz_poi_ky, gz_area2, how='right')\n",
    "gz_poi_total_count_test = gz_poi_total_count.groupby(['station_name'])['gml_id'].agg(ky_Count='count').reset_index()\n",
    "gz_area2 = pd.merge(gz_area2, gz_poi_total_count_test, on='station_name')"
   ]
  },
  {
   "cell_type": "code",
   "execution_count": 48,
   "metadata": {},
   "outputs": [],
   "source": [
    "gz_poi_ly=gpd.read_file('metro_data/东莞/poi/东莞市_旅游.shp',encoding=\"utf-8\")\n",
    "gz_poi_total_count = gpd.sjoin(gz_poi_ly, gz_area2, how='right')\n",
    "gz_poi_total_count_test = gz_poi_total_count.groupby(['station_name'])['gml_id'].agg(ly_Count='count').reset_index()\n",
    "gz_area2 = pd.merge(gz_area2, gz_poi_total_count_test, on='station_name')"
   ]
  },
  {
   "cell_type": "code",
   "execution_count": 49,
   "metadata": {},
   "outputs": [],
   "source": [
    "gz_poi_xs=gpd.read_file('metro_data/东莞/poi/东莞市_休闲娱乐.shp',encoding=\"utf-8\")\n",
    "gz_poi_total_count = gpd.sjoin(gz_poi_xs, gz_area2, how='right')\n",
    "gz_poi_total_count_test = gz_poi_total_count.groupby(['station_name'])['gml_id'].agg(xs_Count='count').reset_index()\n",
    "gz_area2 = pd.merge(gz_area2, gz_poi_total_count_test, on='station_name')"
   ]
  },
  {
   "cell_type": "code",
   "execution_count": 50,
   "metadata": {},
   "outputs": [],
   "source": [
    "gz_poi_zf=gpd.read_file('metro_data/东莞/poi/东莞市_政府机关.shp',encoding=\"utf-8\")\n",
    "gz_poi_total_count = gpd.sjoin(gz_poi_zf, gz_area2, how='right')\n",
    "gz_poi_total_count_test = gz_poi_total_count.groupby(['station_name'])['gml_id'].agg(zf_Count='count').reset_index()\n",
    "gz_area2 = pd.merge(gz_area2, gz_poi_total_count_test, on='station_name')"
   ]
  },
  {
   "cell_type": "code",
   "execution_count": 51,
   "metadata": {},
   "outputs": [],
   "source": [
    "gz_poi_zs=gpd.read_file('metro_data/东莞/poi/东莞市_住宿.shp',encoding=\"utf-8\")\n",
    "gz_poi_total_count = gpd.sjoin(gz_poi_zs, gz_area2, how='right')\n",
    "gz_poi_total_count_test = gz_poi_total_count.groupby(['station_name'])['gml_id'].agg(zs_Count='count').reset_index()\n",
    "gz_area2 = pd.merge(gz_area2, gz_poi_total_count_test, on='station_name')"
   ]
  },
  {
   "cell_type": "code",
   "execution_count": 52,
   "metadata": {},
   "outputs": [],
   "source": [
    "gz_poi_zj=gpd.read_file('metro_data/东莞/poi/东莞市_宗教点.shp',encoding=\"utf-8\")\n",
    "gz_poi_total_count = gpd.sjoin(gz_poi_zj, gz_area2, how='right')\n",
    "gz_poi_total_count_test = gz_poi_total_count.groupby(['station_name'])['gml_id'].agg(zj_Count='count').reset_index()\n",
    "gz_area2 = pd.merge(gz_area2, gz_poi_total_count_test, on='station_name')"
   ]
  },
  {
   "cell_type": "code",
   "execution_count": 53,
   "metadata": {},
   "outputs": [],
   "source": [
    "dg_area['P_poi_Diversity']=0.1"
   ]
  },
  {
   "cell_type": "code",
   "execution_count": 54,
   "metadata": {},
   "outputs": [
    {
     "name": "stdout",
     "output_type": "stream",
     "text": [
      "<class 'geopandas.geodataframe.GeoDataFrame'>\n",
      "Int64Index: 15 entries, 0 to 14\n",
      "Data columns (total 33 columns):\n",
      " #   Column               Non-Null Count  Dtype   \n",
      "---  ------               --------------  -----   \n",
      " 0   id                   15 non-null     int64   \n",
      " 1   P_pop_sum            15 non-null     int64   \n",
      " 2   road_length          15 non-null     float64 \n",
      " 3   area                 15 non-null     int64   \n",
      " 4   line_name            15 non-null     object  \n",
      " 5   station_name         15 non-null     object  \n",
      " 6   lng                  15 non-null     object  \n",
      " 7   time                 15 non-null     int64   \n",
      " 8   geometry             15 non-null     geometry\n",
      " 9   lat                  15 non-null     object  \n",
      " 10  lng84                15 non-null     object  \n",
      " 11  lat84                15 non-null     object  \n",
      " 12  busStop_Count        15 non-null     int64   \n",
      " 13  Service_direction    15 non-null     int64   \n",
      " 14  busline_Cover        15 non-null     float64 \n",
      " 15  N_external_Coverage  15 non-null     float64 \n",
      " 16  S_internal_Coverage  15 non-null     float64 \n",
      " 17  C_road_density       15 non-null     float64 \n",
      " 18  N_transland_Cover    15 non-null     float64 \n",
      " 19  P_basic_Cover        15 non-null     float64 \n",
      " 20  P_unbasic_Cover      15 non-null     float64 \n",
      " 21  P_LUM                15 non-null     float64 \n",
      " 22  cy_Count             15 non-null     int64   \n",
      " 23  ds_Count             15 non-null     int64   \n",
      " 24  mall_Count           15 non-null     int64   \n",
      " 25  gw_Count             15 non-null     int64   \n",
      " 26  jr_Count             15 non-null     int64   \n",
      " 27  ky_Count             15 non-null     int64   \n",
      " 28  ly_Count             15 non-null     int64   \n",
      " 29  xs_Count             15 non-null     int64   \n",
      " 30  zf_Count             15 non-null     int64   \n",
      " 31  zs_Count             15 non-null     int64   \n",
      " 32  zj_Count             15 non-null     int64   \n",
      "dtypes: float64(9), geometry(1), int64(17), object(6)\n",
      "memory usage: 4.0+ KB\n"
     ]
    }
   ],
   "source": [
    "gz_area2.info()"
   ]
  },
  {
   "cell_type": "code",
   "execution_count": 55,
   "metadata": {},
   "outputs": [
    {
     "name": "stderr",
     "output_type": "stream",
     "text": [
      "/opt/conda/envs/sds2020/lib/python3.7/site-packages/ipykernel_launcher.py:6: SettingWithCopyWarning: \n",
      "A value is trying to be set on a copy of a slice from a DataFrame\n",
      "\n",
      "See the caveats in the documentation: https://pandas.pydata.org/pandas-docs/stable/user_guide/indexing.html#returning-a-view-versus-a-copy\n",
      "  \n"
     ]
    }
   ],
   "source": [
    "for i in range(0,15):\n",
    "    poi_dic={'a':gz_area2['cy_Count'][i],'b':gz_area2['ds_Count'][i],'c':gz_area2['mall_Count'][i],\n",
    "             'd':gz_area2['gw_Count'][i],'e':gz_area2['jr_Count'][i],'f':gz_area2['ky_Count'][i],\n",
    "             'g':gz_area2['ly_Count'][i],'h':gz_area2['xs_Count'][i],'i':gz_area2['zf_Count'][i],\n",
    "             'j':gz_area2['zs_Count'][i],'k':gz_area2['zj_Count'][i]}\n",
    "    dg_area['P_poi_Diversity'][i]=simpson_di(poi_dic)"
   ]
  },
  {
   "cell_type": "code",
   "execution_count": 56,
   "metadata": {},
   "outputs": [],
   "source": [
    "dg_area['P_poi_Diversity'] = dg_area['P_poi_Diversity'].fillna(0)"
   ]
  },
  {
   "cell_type": "code",
   "execution_count": 57,
   "metadata": {},
   "outputs": [],
   "source": [
    "#Settlement1 community_center count\n",
    "gz_poi_community=gpd.read_file('metro_data/东莞/poi/东莞市_居委会点.shp',encoding=\"utf-8\")\n",
    "gz_poi_total_count = gpd.sjoin(gz_poi_community, gz_area2, how='right')\n",
    "gz_poi_total_count_test = gz_poi_total_count.groupby(['id'])['gml_id'].agg(S_community_Count='count').reset_index()\n",
    "dg_area = pd.merge(dg_area, gz_poi_total_count_test, on='id')"
   ]
  },
  {
   "cell_type": "code",
   "execution_count": 58,
   "metadata": {},
   "outputs": [],
   "source": [
    "#container1 building height+area density\n",
    "gz_building_within_area = pd.read_csv('metro_data/东莞/dg_building.csv',low_memory=False, encoding=\"utf-8\",\n",
    "                 usecols=['Floor','buildarea',\"id\"])"
   ]
  },
  {
   "cell_type": "code",
   "execution_count": 59,
   "metadata": {},
   "outputs": [],
   "source": [
    "gz_building_within_area['height']=gz_building_within_area.Floor*3"
   ]
  },
  {
   "cell_type": "code",
   "execution_count": 60,
   "metadata": {},
   "outputs": [],
   "source": [
    "gz_building_within_area['buildarea'] = gz_building_within_area['buildarea'].fillna(0)\n",
    "gz_building_within_area['height'] = gz_building_within_area['height'].fillna(0)"
   ]
  },
  {
   "cell_type": "code",
   "execution_count": 61,
   "metadata": {},
   "outputs": [],
   "source": [
    "gz_building_test = gz_building_within_area.groupby(['id'])['buildarea'].agg(building_sum='sum').reset_index()\n",
    "gz_building_test2 = gz_building_within_area.groupby(['id'])['height'].agg(C_height_avg='mean').reset_index()"
   ]
  },
  {
   "cell_type": "code",
   "execution_count": 62,
   "metadata": {},
   "outputs": [],
   "source": [
    "dg_area = pd.merge(dg_area, gz_building_test, on='id',how='left')\n",
    "dg_area = pd.merge(dg_area, gz_building_test2, on='id',how='left')"
   ]
  },
  {
   "cell_type": "code",
   "execution_count": 63,
   "metadata": {},
   "outputs": [],
   "source": [
    "dg_area['building_sum'] = dg_area['building_sum'].fillna(0)\n",
    "dg_area['C_height_avg'] = dg_area['C_height_avg'].fillna(0)"
   ]
  },
  {
   "cell_type": "code",
   "execution_count": 64,
   "metadata": {},
   "outputs": [
    {
     "name": "stderr",
     "output_type": "stream",
     "text": [
      "/opt/conda/envs/sds2020/lib/python3.7/site-packages/ipykernel_launcher.py:1: UserWarning: Geometry is in a geographic CRS. Results from 'area' are likely incorrect. Use 'GeoSeries.to_crs()' to re-project geometries to a projected CRS before this operation.\n",
      "\n",
      "  \"\"\"Entry point for launching an IPython kernel.\n"
     ]
    }
   ],
   "source": [
    "dg_area['C_building_density']=dg_area.building_sum/dg_area.area"
   ]
  },
  {
   "cell_type": "code",
   "execution_count": 65,
   "metadata": {},
   "outputs": [],
   "source": [
    "dg_area=dg_area.drop(['building_sum'],axis=1)\n",
    "dg_area.rename(columns={'busStop_Count':'N_busStop_Count',\n",
    "                       'service_time':'N_service_time',\n",
    "                       'Service_direction':'N_Service_direction',\n",
    "                       'busline_Cover':'N_busline_Cover',},inplace=True)"
   ]
  },
  {
   "cell_type": "code",
   "execution_count": 66,
   "metadata": {},
   "outputs": [
    {
     "name": "stdout",
     "output_type": "stream",
     "text": [
      "<class 'geopandas.geodataframe.GeoDataFrame'>\n",
      "Int64Index: 15 entries, 0 to 14\n",
      "Data columns (total 26 columns):\n",
      " #   Column               Non-Null Count  Dtype   \n",
      "---  ------               --------------  -----   \n",
      " 0   id                   15 non-null     int64   \n",
      " 1   P_pop_sum            15 non-null     int64   \n",
      " 2   road_length          15 non-null     float64 \n",
      " 3   area                 15 non-null     int64   \n",
      " 4   line_name            15 non-null     object  \n",
      " 5   station_name         15 non-null     object  \n",
      " 6   lng                  15 non-null     object  \n",
      " 7   time                 15 non-null     int64   \n",
      " 8   geometry             15 non-null     geometry\n",
      " 9   lat                  15 non-null     object  \n",
      " 10  lng84                15 non-null     object  \n",
      " 11  lat84                15 non-null     object  \n",
      " 12  N_busStop_Count      15 non-null     int64   \n",
      " 13  N_Service_direction  15 non-null     int64   \n",
      " 14  N_busline_Cover      15 non-null     float64 \n",
      " 15  N_external_Coverage  15 non-null     float64 \n",
      " 16  S_internal_Coverage  15 non-null     float64 \n",
      " 17  C_road_density       15 non-null     float64 \n",
      " 18  N_transland_Cover    15 non-null     float64 \n",
      " 19  P_basic_Cover        15 non-null     float64 \n",
      " 20  P_unbasic_Cover      15 non-null     float64 \n",
      " 21  P_LUM                15 non-null     float64 \n",
      " 22  P_poi_Diversity      15 non-null     float64 \n",
      " 23  S_community_Count    15 non-null     int64   \n",
      " 24  C_height_avg         15 non-null     float64 \n",
      " 25  C_building_density   15 non-null     float64 \n",
      "dtypes: float64(12), geometry(1), int64(7), object(6)\n",
      "memory usage: 3.2+ KB\n"
     ]
    }
   ],
   "source": [
    "dg_area.info()"
   ]
  },
  {
   "cell_type": "code",
   "execution_count": 67,
   "metadata": {},
   "outputs": [],
   "source": [
    "###测量correlation\n",
    "dg_cor2=dg_area.copy()\n",
    "dg_cor2= dg_cor2.drop(['id','lng84','lat84','geometry','line_name','station_name','lng','lat','area','road_length','time'],axis=1)"
   ]
  },
  {
   "cell_type": "code",
   "execution_count": 68,
   "metadata": {},
   "outputs": [
    {
     "data": {
      "image/png": "[encoded data removed]",
      "text/plain": [
       "<Figure size 792x648 with 2 Axes>"
      ]
     },
     "metadata": {
      "needs_background": "light"
     },
     "output_type": "display_data"
    }
   ],
   "source": [
    "corrMatrix=dg_cor2.corr()\n",
    "# Generate a mask for the upper triangle\n",
    "mask = np.triu(np.ones_like(corrMatrix, dtype=bool))\n",
    "\n",
    "# Set up the matplotlib figure\n",
    "f, ax = plt.subplots(figsize=(11, 9))\n",
    "\n",
    "# Generate a custom diverging colormap\n",
    "cmap = sns.diverging_palette(230, 20, as_cmap=True)\n",
    "\n",
    "# Draw the heatmap with the mask and correct aspect ratio\n",
    "plot1=sns.heatmap(corrMatrix,  cmap=cmap, vmax=1, center=0,\n",
    "            square=True, linewidths=.5, cbar_kws={\"shrink\": .5})"
   ]
  },
  {
   "cell_type": "code",
   "execution_count": 69,
   "metadata": {},
   "outputs": [],
   "source": [
    "plot1.figure.savefig(\"corr_dg.png\",dpi=300)"
   ]
  },
  {
   "cell_type": "code",
   "execution_count": 70,
   "metadata": {},
   "outputs": [],
   "source": [
    "dg_area.to_csv('dg_all_variables.csv',encoding='utf-8',index=False)"
   ]
  },
  {
   "cell_type": "code",
   "execution_count": 71,
   "metadata": {},
   "outputs": [],
   "source": [
    "#分析\n",
    "dg_PCA=dg_area.copy()"
   ]
  },
  {
   "cell_type": "code",
   "execution_count": 72,
   "metadata": {},
   "outputs": [],
   "source": [
    "#PCA for Node\n",
    "features_N = ['N_busStop_Count', 'N_Service_direction', 'N_busline_Cover','N_external_Coverage','N_transland_Cover'\n",
    "           ]\n",
    "# Separating out the features\n",
    "x_N = dg_PCA.loc[:, features_N].values\n",
    "# Standardizing the features\n",
    "x_N =MinMaxScaler().fit_transform(x_N)#MinMaxScaler/StandardScaler\n",
    "\n",
    "#PCA for Plcae\n",
    "features_P = ['P_poi_Diversity', 'P_pop_sum', 'P_basic_Cover', 'P_unbasic_Cover','P_LUM'\n",
    "           ]\n",
    "# Separating out the features\n",
    "x_P = dg_PCA.loc[:, features_P].values\n",
    "# Standardizing the features\n",
    "x_P = MaxAbsScaler().fit_transform(x_P)\n",
    "\n",
    "#PCA for Settlement\n",
    "features_S = ['S_community_Count','S_internal_Coverage'\n",
    "           ]\n",
    "# Separating out the features\n",
    "x_S = dg_PCA.loc[:, features_S].values\n",
    "# Standardizing the features\n",
    "x_S = MinMaxScaler().fit_transform(x_S)\n",
    "\n",
    "#PCA for Container\n",
    "features_C = ['C_height_avg','C_building_density','C_road_density'\n",
    "           ]\n",
    "# Separating out the features\n",
    "x_C = dg_PCA.loc[:, features_C].values\n",
    "# Standardizing the features\n",
    "x_C = MinMaxScaler().fit_transform(x_C)"
   ]
  },
  {
   "cell_type": "code",
   "execution_count": 73,
   "metadata": {},
   "outputs": [],
   "source": [
    "Node_arry=mcdm.weighting.critic(x_N)\n",
    "Node_wgt=Node_arry.tolist()\n",
    "Place_arry=mcdm.weighting.critic(x_P)\n",
    "Place_wgt=Place_arry.tolist()\n",
    "Settlement_arry=mcdm.weighting.critic(x_S)\n",
    "Settlement_wgt=Settlement_arry.tolist()\n",
    "Container_arry=mcdm.weighting.critic(x_C)\n",
    "Container_wgt=Container_arry.tolist()"
   ]
  },
  {
   "cell_type": "code",
   "execution_count": 74,
   "metadata": {},
   "outputs": [],
   "source": [
    "###测量correlation\n",
    "dg_index=dg_area.copy()\n",
    "dg_index= dg_index.drop(['lng84','lat84','geometry','line_name','station_name','lng','lat','area','road_length','time','id'],axis=1)"
   ]
  },
  {
   "cell_type": "code",
   "execution_count": 75,
   "metadata": {},
   "outputs": [],
   "source": [
    "scaler = MinMaxScaler()\n",
    "# fit and transform the data\n",
    "gz_norm = pd.DataFrame(scaler.fit_transform(dg_index), columns=dg_index.columns)"
   ]
  },
  {
   "cell_type": "code",
   "execution_count": 76,
   "metadata": {},
   "outputs": [],
   "source": [
    "#计算各维度index\n",
    "gz_norm['Node_index']=gz_norm.N_busStop_Count*Node_wgt[0]+gz_norm.N_Service_direction*Node_wgt[1]+gz_norm.N_busline_Cover*Node_wgt[2]+gz_norm.N_external_Coverage*Node_wgt[3]+gz_norm.N_transland_Cover*Node_wgt[4]\n",
    "gz_norm['Place_index']=gz_norm.P_poi_Diversity*Place_wgt[0]+gz_norm.P_pop_sum*Place_wgt[1]+gz_norm.P_basic_Cover*Node_wgt[2]+gz_norm.P_unbasic_Cover*Place_wgt[3]+gz_norm.P_LUM*Place_wgt[4]\n",
    "gz_norm['Settlement_index']=gz_norm.S_community_Count*Settlement_wgt[0]+gz_norm.S_internal_Coverage*Settlement_wgt[1]\n",
    "gz_norm['Container_index']=gz_norm.C_height_avg*Container_wgt[0]+gz_norm.C_building_density*Container_wgt[1]+gz_norm.C_road_density*Container_wgt[2]"
   ]
  },
  {
   "cell_type": "code",
   "execution_count": 77,
   "metadata": {},
   "outputs": [
    {
     "name": "stderr",
     "output_type": "stream",
     "text": [
      "/opt/conda/envs/sds2020/lib/python3.7/site-packages/ipykernel_launcher.py:2: SettingWithCopyWarning: \n",
      "A value is trying to be set on a copy of a slice from a DataFrame.\n",
      "Try using .loc[row_indexer,col_indexer] = value instead\n",
      "\n",
      "See the caveats in the documentation: https://pandas.pydata.org/pandas-docs/stable/user_guide/indexing.html#returning-a-view-versus-a-copy\n",
      "  \n"
     ]
    }
   ],
   "source": [
    "gz_final=gz_norm[['Node_index','Place_index','Settlement_index','Container_index']]\n",
    "gz_final['id']=gz_final.index.values+1"
   ]
  },
  {
   "cell_type": "code",
   "execution_count": 78,
   "metadata": {},
   "outputs": [],
   "source": [
    "dg_final_area=pd.merge(dg_area,gz_final,on='id',how='left')\n",
    "gz_temp=dg_final_area[['id','Node_index','Place_index','Settlement_index','Container_index']]"
   ]
  },
  {
   "cell_type": "code",
   "execution_count": 79,
   "metadata": {},
   "outputs": [],
   "source": [
    "dg_final_station=pd.merge(dg_station,gz_temp,on='id',how='left')"
   ]
  },
  {
   "cell_type": "code",
   "execution_count": 80,
   "metadata": {},
   "outputs": [
    {
     "name": "stdout",
     "output_type": "stream",
     "text": [
      "<class 'geopandas.geodataframe.GeoDataFrame'>\n",
      "Int64Index: 15 entries, 0 to 14\n",
      "Data columns (total 30 columns):\n",
      " #   Column               Non-Null Count  Dtype   \n",
      "---  ------               --------------  -----   \n",
      " 0   id                   15 non-null     int64   \n",
      " 1   P_pop_sum            15 non-null     int64   \n",
      " 2   road_length          15 non-null     float64 \n",
      " 3   area                 15 non-null     int64   \n",
      " 4   line_name            15 non-null     object  \n",
      " 5   station_name         15 non-null     object  \n",
      " 6   lng                  15 non-null     object  \n",
      " 7   time                 15 non-null     int64   \n",
      " 8   geometry             15 non-null     geometry\n",
      " 9   lat                  15 non-null     object  \n",
      " 10  lng84                15 non-null     object  \n",
      " 11  lat84                15 non-null     object  \n",
      " 12  N_busStop_Count      15 non-null     int64   \n",
      " 13  N_Service_direction  15 non-null     int64   \n",
      " 14  N_busline_Cover      15 non-null     float64 \n",
      " 15  N_external_Coverage  15 non-null     float64 \n",
      " 16  S_internal_Coverage  15 non-null     float64 \n",
      " 17  C_road_density       15 non-null     float64 \n",
      " 18  N_transland_Cover    15 non-null     float64 \n",
      " 19  P_basic_Cover        15 non-null     float64 \n",
      " 20  P_unbasic_Cover      15 non-null     float64 \n",
      " 21  P_LUM                15 non-null     float64 \n",
      " 22  P_poi_Diversity      15 non-null     float64 \n",
      " 23  S_community_Count    15 non-null     int64   \n",
      " 24  C_height_avg         15 non-null     float64 \n",
      " 25  C_building_density   15 non-null     float64 \n",
      " 26  Node_index           15 non-null     float64 \n",
      " 27  Place_index          15 non-null     float64 \n",
      " 28  Settlement_index     15 non-null     float64 \n",
      " 29  Container_index      15 non-null     float64 \n",
      "dtypes: float64(16), geometry(1), int64(7), object(6)\n",
      "memory usage: 3.6+ KB\n"
     ]
    }
   ],
   "source": [
    "dg_final_area.info()"
   ]
  },
  {
   "cell_type": "code",
   "execution_count": 81,
   "metadata": {},
   "outputs": [],
   "source": [
    "dg_final_area = dg_final_area.astype({\"line_name\":'string', \"station_name\":'string',\"lat\":'float64',\"lng\":'float64',\"lat84\":'float64',\"lng84\":'float64','geometry':'geometry'})\n",
    "dg_final_station = dg_final_station.astype({\"line_name\":'string', \"station_name\":'string',\"lat\":'float64',\"lng\":'float64',\"lat84\":'float64',\"lng84\":'float64'})"
   ]
  },
  {
   "cell_type": "code",
   "execution_count": 82,
   "metadata": {},
   "outputs": [],
   "source": [
    "dg_area = GeoDataFrame(dg_area, crs=\"EPSG:4326\", geometry=dg_area.geometry)"
   ]
  },
  {
   "cell_type": "code",
   "execution_count": 83,
   "metadata": {},
   "outputs": [],
   "source": [
    "dg_final_station.to_file(\"dg_station_withindex.shp\")\n",
    "dg_final_area.to_file(\"dg_area_withindex.shp\")"
   ]
  }
 ],
 "metadata": {
  "kernelspec": {
   "display_name": "Python 3",
   "language": "python",
   "name": "python3"
  },
  "language_info": {
   "codemirror_mode": {
    "name": "ipython",
    "version": 3
   },
   "file_extension": ".py",
   "mimetype": "text/x-python",
   "name": "python",
   "nbconvert_exporter": "python",
   "pygments_lexer": "ipython3",
   "version": "3.7.8"
  }
 },
 "nbformat": 4,
 "nbformat_minor": 4
}
