{
 "cells": [
  {
   "cell_type": "code",
   "execution_count": 1,
   "metadata": {},
   "outputs": [],
   "source": [
    "import numpy as np\n",
    "import pandas as pd\n",
    "import geopandas as gpd\n",
    "import seaborn as sns\n",
    "import matplotlib.pyplot as plt\n",
    "import matplotlib.cm as cm\n",
    "import matplotlib as mpl\n",
    "import re\n",
    "import os\n",
    "import patsy\n",
    "\n",
    "from matplotlib.colors import ListedColormap\n",
    "\n",
    "import sklearn\n",
    "from sklearn.neighbors import NearestNeighbors\n",
    "from sklearn.manifold import TSNE\n",
    "from sklearn.decomposition import PCA\n",
    "from sklearn.preprocessing import PowerTransformer, RobustScaler, StandardScaler, MinMaxScaler\n",
    "from sklearn.cluster import KMeans, DBSCAN, OPTICS\n",
    "from esda.adbscan import ADBSCAN\n",
    "from pysal.model import mgwr\n",
    "from mgwr.sel_bw import Sel_BW\n",
    "\n",
    "import random\n",
    "random.seed(42)    # For reproducibility\n",
    "np.random.seed(42) # For reproducibility\n",
    "\n",
    "# Make numeric display a bit neater\n",
    "pd.set_option('display.float_format', lambda x: '{:,.2f}'.format(x))"
   ]
  },
  {
   "cell_type": "code",
   "execution_count": 2,
   "metadata": {},
   "outputs": [],
   "source": [
    "from sklearn.linear_model import LinearRegression\n",
    "import statsmodels.api as sm\n",
    "\n",
    "from sklearn.linear_model import LogisticRegression\n",
    "from sklearn.metrics import confusion_matrix\n",
    "\n",
    "pd.set_option('display.max_rows', 300) # specifies number of rows to show\n",
    "pd.options.display.float_format = '{:40,.4f}'.format # specifies default number format to 4 decimal places\n",
    "plt.style.use('ggplot') # specifies that graphs should use ggplot styling\n",
    "%matplotlib inline"
   ]
  },
  {
   "cell_type": "code",
   "execution_count": 3,
   "metadata": {},
   "outputs": [],
   "source": [
    "tfont = {'fontname':'Liberation Sans Narrow', 'horizontalalignment':'left'}\n",
    "import math\n",
    "from geopandas import GeoDataFrame\n",
    "from sklearn.preprocessing import StandardScaler\n",
    "from sklearn.decomposition import PCA\n",
    "from sklearn.preprocessing import MinMaxScaler\n",
    "from sklearn.preprocessing import minmax_scale\n",
    "from sklearn.preprocessing import MaxAbsScaler\n",
    "from sklearn.preprocessing import StandardScaler\n",
    "import mcdm"
   ]
  },
  {
   "cell_type": "code",
   "execution_count": 4,
   "metadata": {},
   "outputs": [],
   "source": [
    "##node1 bus stop count\n",
    "sz_area=gpd.read_file('metro_data/深圳/sz_area.shp',encoding=\"utf-8\")\n",
    "sz_station=gpd.read_file('metro_data/深圳/sz_station.shp',encoding=\"utf-8\")"
   ]
  },
  {
   "cell_type": "code",
   "execution_count": 5,
   "metadata": {},
   "outputs": [
    {
     "data": {
      "text/html": [
       "<div>\n",
       "<style scoped>\n",
       "    .dataframe tbody tr th:only-of-type {\n",
       "        vertical-align: middle;\n",
       "    }\n",
       "\n",
       "    .dataframe tbody tr th {\n",
       "        vertical-align: top;\n",
       "    }\n",
       "\n",
       "    .dataframe thead th {\n",
       "        text-align: right;\n",
       "    }\n",
       "</style>\n",
       "<table border=\"1\" class=\"dataframe\">\n",
       "  <thead>\n",
       "    <tr style=\"text-align: right;\">\n",
       "      <th></th>\n",
       "      <th>sid</th>\n",
       "      <th>line_name</th>\n",
       "      <th>station_na</th>\n",
       "      <th>lng</th>\n",
       "      <th>lat</th>\n",
       "      <th>lng84</th>\n",
       "      <th>lat84</th>\n",
       "      <th>geometry</th>\n",
       "    </tr>\n",
       "  </thead>\n",
       "  <tbody>\n",
       "    <tr>\n",
       "      <th>0</th>\n",
       "      <td>1</td>\n",
       "      <td>??1??(???)(??--???)</td>\n",
       "      <td>??</td>\n",
       "      <td>114.118666</td>\n",
       "      <td>22.532083</td>\n",
       "      <td>114.11356724559275</td>\n",
       "      <td>22.534773743036723</td>\n",
       "      <td>POINT (114.11357 22.53477)</td>\n",
       "    </tr>\n",
       "    <tr>\n",
       "      <th>1</th>\n",
       "      <td>2</td>\n",
       "      <td>??1??(???)(??--???)</td>\n",
       "      <td>??</td>\n",
       "      <td>114.118909</td>\n",
       "      <td>22.53968</td>\n",
       "      <td>114.11381014452411</td>\n",
       "      <td>22.54237050147604</td>\n",
       "      <td>POINT (114.11381 22.54237)</td>\n",
       "    </tr>\n",
       "    <tr>\n",
       "      <th>2</th>\n",
       "      <td>3</td>\n",
       "      <td>??1??(???)(??--???)</td>\n",
       "      <td>??</td>\n",
       "      <td>114.116939</td>\n",
       "      <td>22.544232</td>\n",
       "      <td>114.11183673025953</td>\n",
       "      <td>22.546920598243506</td>\n",
       "      <td>POINT (114.11184 22.54692)</td>\n",
       "    </tr>\n",
       "    <tr>\n",
       "      <th>3</th>\n",
       "      <td>4</td>\n",
       "      <td>??1??(???)(??--???)</td>\n",
       "      <td>???</td>\n",
       "      <td>114.107811</td>\n",
       "      <td>22.5418</td>\n",
       "      <td>114.10269652807666</td>\n",
       "      <td>22.5444833134091</td>\n",
       "      <td>POINT (114.10270 22.54448)</td>\n",
       "    </tr>\n",
       "    <tr>\n",
       "      <th>4</th>\n",
       "      <td>5</td>\n",
       "      <td>??1??(???)(??--???)</td>\n",
       "      <td>???</td>\n",
       "      <td>114.095173</td>\n",
       "      <td>22.540618</td>\n",
       "      <td>114.09004758727023</td>\n",
       "      <td>22.54329955667086</td>\n",
       "      <td>POINT (114.09005 22.54330)</td>\n",
       "    </tr>\n",
       "  </tbody>\n",
       "</table>\n",
       "</div>"
      ],
      "text/plain": [
       "   sid            line_name station_na         lng        lat  \\\n",
       "0    1  ??1??(???)(??--???)         ??  114.118666  22.532083   \n",
       "1    2  ??1??(???)(??--???)         ??  114.118909   22.53968   \n",
       "2    3  ??1??(???)(??--???)         ??  114.116939  22.544232   \n",
       "3    4  ??1??(???)(??--???)        ???  114.107811    22.5418   \n",
       "4    5  ??1??(???)(??--???)        ???  114.095173  22.540618   \n",
       "\n",
       "                lng84               lat84                    geometry  \n",
       "0  114.11356724559275  22.534773743036723  POINT (114.11357 22.53477)  \n",
       "1  114.11381014452411   22.54237050147604  POINT (114.11381 22.54237)  \n",
       "2  114.11183673025953  22.546920598243506  POINT (114.11184 22.54692)  \n",
       "3  114.10269652807666    22.5444833134091  POINT (114.10270 22.54448)  \n",
       "4  114.09004758727023   22.54329955667086  POINT (114.09005 22.54330)  "
      ]
     },
     "execution_count": 5,
     "metadata": {},
     "output_type": "execute_result"
    }
   ],
   "source": [
    "sz_station.head()"
   ]
  },
  {
   "cell_type": "code",
   "execution_count": 6,
   "metadata": {},
   "outputs": [],
   "source": [
    "sz_station.rename(columns={'sid':'id','station_na':'station_name'},inplace=True)"
   ]
  },
  {
   "cell_type": "code",
   "execution_count": 7,
   "metadata": {},
   "outputs": [],
   "source": [
    "sz_area = pd.merge(sz_area, sz_station, on='id',how='left')"
   ]
  },
  {
   "cell_type": "code",
   "execution_count": 8,
   "metadata": {},
   "outputs": [],
   "source": [
    "sz_area=sz_area.drop(['geometry_y'],axis=1)"
   ]
  },
  {
   "cell_type": "code",
   "execution_count": 9,
   "metadata": {},
   "outputs": [],
   "source": [
    "sz_area.rename(columns={'geometry_x':'geometry'},inplace=True)"
   ]
  },
  {
   "cell_type": "code",
   "execution_count": 10,
   "metadata": {},
   "outputs": [
    {
     "name": "stdout",
     "output_type": "stream",
     "text": [
      "<class 'geopandas.geodataframe.GeoDataFrame'>\n",
      "Int64Index: 221 entries, 0 to 220\n",
      "Data columns (total 10 columns):\n",
      " #   Column        Non-Null Count  Dtype   \n",
      "---  ------        --------------  -----   \n",
      " 0   time          221 non-null    int64   \n",
      " 1   id            221 non-null    int64   \n",
      " 2   area          221 non-null    float64 \n",
      " 3   geometry      221 non-null    geometry\n",
      " 4   line_name     221 non-null    object  \n",
      " 5   station_name  221 non-null    object  \n",
      " 6   lng           221 non-null    object  \n",
      " 7   lat           221 non-null    object  \n",
      " 8   lng84         221 non-null    object  \n",
      " 9   lat84         221 non-null    object  \n",
      "dtypes: float64(1), geometry(1), int64(2), object(6)\n",
      "memory usage: 19.0+ KB\n"
     ]
    }
   ],
   "source": [
    "sz_area.info()"
   ]
  },
  {
   "cell_type": "code",
   "execution_count": 11,
   "metadata": {},
   "outputs": [],
   "source": [
    "sz_bus_station=gpd.read_file('metro_data/深圳/amap_bus_stops_sz.shp',encoding=\"utf-8\")\n",
    "sz_bus_line=gpd.read_file('metro_data/深圳/amap_bus_lines_sz.shp',encoding=\"utf-8\")"
   ]
  },
  {
   "cell_type": "code",
   "execution_count": 12,
   "metadata": {},
   "outputs": [],
   "source": [
    "sz_bus_station_count = gpd.sjoin(sz_bus_station, sz_area, how='right')\n",
    "sz_bus_station_count_test = sz_bus_station_count.groupby(['id'])['stop_id'].agg(busStop_Count='count').reset_index() "
   ]
  },
  {
   "cell_type": "code",
   "execution_count": 13,
   "metadata": {},
   "outputs": [],
   "source": [
    "sz_area = pd.merge(sz_area, sz_bus_station_count_test, on='id',how='left')"
   ]
  },
  {
   "cell_type": "code",
   "execution_count": 14,
   "metadata": {},
   "outputs": [],
   "source": [
    "#service time\n",
    "sz_line=gpd.read_file('metro_data/深圳/line.shp',encoding=\"utf-8\")\n",
    "sz_station_raw=gpd.read_file('metro_data/深圳/station.shp',encoding=\"utf-8\")"
   ]
  },
  {
   "cell_type": "code",
   "execution_count": 15,
   "metadata": {},
   "outputs": [
    {
     "data": {
      "text/html": [
       "<div>\n",
       "<style scoped>\n",
       "    .dataframe tbody tr th:only-of-type {\n",
       "        vertical-align: middle;\n",
       "    }\n",
       "\n",
       "    .dataframe tbody tr th {\n",
       "        vertical-align: top;\n",
       "    }\n",
       "\n",
       "    .dataframe thead th {\n",
       "        text-align: right;\n",
       "    }\n",
       "</style>\n",
       "<table border=\"1\" class=\"dataframe\">\n",
       "  <thead>\n",
       "    <tr style=\"text-align: right;\">\n",
       "      <th></th>\n",
       "      <th>line_name</th>\n",
       "      <th>start_time</th>\n",
       "      <th>end_time</th>\n",
       "      <th>start_stop</th>\n",
       "      <th>end_stop</th>\n",
       "      <th>distance</th>\n",
       "      <th>basic_pric</th>\n",
       "      <th>total_pric</th>\n",
       "      <th>geometry</th>\n",
       "    </tr>\n",
       "  </thead>\n",
       "  <tbody>\n",
       "    <tr>\n",
       "      <th>0</th>\n",
       "      <td>地铁1号线(罗宝线)(罗湖--机场东)</td>\n",
       "      <td>[]</td>\n",
       "      <td>[]</td>\n",
       "      <td>罗湖</td>\n",
       "      <td>机场东</td>\n",
       "      <td>40.33475</td>\n",
       "      <td>2</td>\n",
       "      <td>9</td>\n",
       "      <td>LINESTRING (114.11357 22.53477, 114.11383 22.5...</td>\n",
       "    </tr>\n",
       "    <tr>\n",
       "      <th>1</th>\n",
       "      <td>地铁2号线(8号线)(盐田路--赤湾)</td>\n",
       "      <td>[]</td>\n",
       "      <td>[]</td>\n",
       "      <td>盐田路</td>\n",
       "      <td>赤湾</td>\n",
       "      <td>51.16045</td>\n",
       "      <td>2</td>\n",
       "      <td>9</td>\n",
       "      <td>LINESTRING (114.25083 22.59182, 114.24976 22.5...</td>\n",
       "    </tr>\n",
       "    <tr>\n",
       "      <th>2</th>\n",
       "      <td>地铁3号线(龙岗线)(福保--双龙)</td>\n",
       "      <td>0620</td>\n",
       "      <td>2330</td>\n",
       "      <td>福保</td>\n",
       "      <td>双龙</td>\n",
       "      <td>42.86333</td>\n",
       "      <td>2</td>\n",
       "      <td>8</td>\n",
       "      <td>LINESTRING (114.05048 22.51061, 114.04937 22.5...</td>\n",
       "    </tr>\n",
       "    <tr>\n",
       "      <th>3</th>\n",
       "      <td>地铁4号线(龙华线)(福田口岸--牛湖)</td>\n",
       "      <td>0630</td>\n",
       "      <td>2300</td>\n",
       "      <td>福田口岸</td>\n",
       "      <td>牛湖</td>\n",
       "      <td>30.19955</td>\n",
       "      <td>2</td>\n",
       "      <td>7</td>\n",
       "      <td>LINESTRING (114.06413 22.51841, 114.06352 22.5...</td>\n",
       "    </tr>\n",
       "    <tr>\n",
       "      <th>4</th>\n",
       "      <td>地铁5号线(环中线)(赤湾--黄贝岭)</td>\n",
       "      <td>[]</td>\n",
       "      <td>[]</td>\n",
       "      <td>赤湾</td>\n",
       "      <td>黄贝岭</td>\n",
       "      <td>46.61984</td>\n",
       "      <td>2</td>\n",
       "      <td>7</td>\n",
       "      <td>LINESTRING (113.89266 22.48228, 113.89203 22.4...</td>\n",
       "    </tr>\n",
       "    <tr>\n",
       "      <th>5</th>\n",
       "      <td>地铁6号支线(科学城东--光明)</td>\n",
       "      <td>[]</td>\n",
       "      <td>[]</td>\n",
       "      <td>科学城东</td>\n",
       "      <td>光明</td>\n",
       "      <td>5.42755</td>\n",
       "      <td>[]</td>\n",
       "      <td>[]</td>\n",
       "      <td>LINESTRING (113.96508 22.81109, 113.96139 22.8...</td>\n",
       "    </tr>\n",
       "    <tr>\n",
       "      <th>6</th>\n",
       "      <td>地铁7号线(西丽线)(太安--西丽湖)</td>\n",
       "      <td>0620</td>\n",
       "      <td>2300</td>\n",
       "      <td>太安</td>\n",
       "      <td>西丽湖</td>\n",
       "      <td>29.29428</td>\n",
       "      <td>2</td>\n",
       "      <td>7</td>\n",
       "      <td>LINESTRING (114.13205 22.57617, 114.13153 22.5...</td>\n",
       "    </tr>\n",
       "    <tr>\n",
       "      <th>7</th>\n",
       "      <td>地铁9号线(梅林线)(前湾--文锦)</td>\n",
       "      <td>0620</td>\n",
       "      <td>2330</td>\n",
       "      <td>前湾</td>\n",
       "      <td>文锦</td>\n",
       "      <td>35.72842</td>\n",
       "      <td>2</td>\n",
       "      <td>7</td>\n",
       "      <td>LINESTRING (113.89086 22.52530, 113.89130 22.5...</td>\n",
       "    </tr>\n",
       "    <tr>\n",
       "      <th>8</th>\n",
       "      <td>地铁10号线(坂田线)(双拥街--福田口岸)</td>\n",
       "      <td>0620</td>\n",
       "      <td>2300</td>\n",
       "      <td>双拥街</td>\n",
       "      <td>福田口岸</td>\n",
       "      <td>28.8215</td>\n",
       "      <td>2</td>\n",
       "      <td>7</td>\n",
       "      <td>LINESTRING (114.12790 22.70133, 114.12715 22.7...</td>\n",
       "    </tr>\n",
       "    <tr>\n",
       "      <th>9</th>\n",
       "      <td>地铁11号线(机场线)(碧头--福田)</td>\n",
       "      <td>[]</td>\n",
       "      <td>[]</td>\n",
       "      <td>碧头</td>\n",
       "      <td>福田</td>\n",
       "      <td>51.09669</td>\n",
       "      <td>2</td>\n",
       "      <td>10</td>\n",
       "      <td>LINESTRING (113.81491 22.78738, 113.81490 22.7...</td>\n",
       "    </tr>\n",
       "  </tbody>\n",
       "</table>\n",
       "</div>"
      ],
      "text/plain": [
       "                line_name start_time end_time start_stop end_stop  distance  \\\n",
       "0     地铁1号线(罗宝线)(罗湖--机场东)         []       []         罗湖      机场东  40.33475   \n",
       "1     地铁2号线(8号线)(盐田路--赤湾)         []       []        盐田路       赤湾  51.16045   \n",
       "2      地铁3号线(龙岗线)(福保--双龙)       0620     2330         福保       双龙  42.86333   \n",
       "3    地铁4号线(龙华线)(福田口岸--牛湖)       0630     2300       福田口岸       牛湖  30.19955   \n",
       "4     地铁5号线(环中线)(赤湾--黄贝岭)         []       []         赤湾      黄贝岭  46.61984   \n",
       "5        地铁6号支线(科学城东--光明)         []       []       科学城东       光明   5.42755   \n",
       "6     地铁7号线(西丽线)(太安--西丽湖)       0620     2300         太安      西丽湖  29.29428   \n",
       "7      地铁9号线(梅林线)(前湾--文锦)       0620     2330         前湾       文锦  35.72842   \n",
       "8  地铁10号线(坂田线)(双拥街--福田口岸)       0620     2300        双拥街     福田口岸   28.8215   \n",
       "9     地铁11号线(机场线)(碧头--福田)         []       []         碧头       福田  51.09669   \n",
       "\n",
       "  basic_pric total_pric                                           geometry  \n",
       "0          2          9  LINESTRING (114.11357 22.53477, 114.11383 22.5...  \n",
       "1          2          9  LINESTRING (114.25083 22.59182, 114.24976 22.5...  \n",
       "2          2          8  LINESTRING (114.05048 22.51061, 114.04937 22.5...  \n",
       "3          2          7  LINESTRING (114.06413 22.51841, 114.06352 22.5...  \n",
       "4          2          7  LINESTRING (113.89266 22.48228, 113.89203 22.4...  \n",
       "5         []         []  LINESTRING (113.96508 22.81109, 113.96139 22.8...  \n",
       "6          2          7  LINESTRING (114.13205 22.57617, 114.13153 22.5...  \n",
       "7          2          7  LINESTRING (113.89086 22.52530, 113.89130 22.5...  \n",
       "8          2          7  LINESTRING (114.12790 22.70133, 114.12715 22.7...  \n",
       "9          2         10  LINESTRING (113.81491 22.78738, 113.81490 22.7...  "
      ]
     },
     "execution_count": 15,
     "metadata": {},
     "output_type": "execute_result"
    }
   ],
   "source": [
    "sz_line"
   ]
  },
  {
   "cell_type": "code",
   "execution_count": 16,
   "metadata": {},
   "outputs": [],
   "source": [
    "sz_station_raw_sub=sz_station_raw[['line_name','station_na','lng']]"
   ]
  },
  {
   "cell_type": "code",
   "execution_count": 17,
   "metadata": {},
   "outputs": [],
   "source": [
    "sz_area=pd.merge(sz_station_raw_sub,sz_area,on='lng',how='right')"
   ]
  },
  {
   "cell_type": "code",
   "execution_count": 18,
   "metadata": {},
   "outputs": [],
   "source": [
    "sz_area=sz_area.drop(['line_name_y','station_name'],axis=1)\n",
    "sz_area.rename(columns={'line_name_x':'line_name','station_na':'station_name'},inplace=True)"
   ]
  },
  {
   "cell_type": "code",
   "execution_count": 19,
   "metadata": {},
   "outputs": [],
   "source": [
    "sz_line['service_time']=['990','990','1030','990','990','990','1000','1030','1000','990']"
   ]
  },
  {
   "cell_type": "code",
   "execution_count": 20,
   "metadata": {},
   "outputs": [],
   "source": [
    "sz_line_sub=sz_line[['service_time','line_name']]"
   ]
  },
  {
   "cell_type": "code",
   "execution_count": 21,
   "metadata": {},
   "outputs": [],
   "source": [
    "sz_area = pd.merge(sz_area, sz_line_sub, on='line_name',how='left')"
   ]
  },
  {
   "cell_type": "code",
   "execution_count": 22,
   "metadata": {},
   "outputs": [],
   "source": [
    "#NODE3 service direction number\n",
    "sz_area['Service_direction']=1"
   ]
  },
  {
   "cell_type": "code",
   "execution_count": 23,
   "metadata": {},
   "outputs": [
    {
     "data": {
      "text/html": [
       "<div>\n",
       "<style scoped>\n",
       "    .dataframe tbody tr th:only-of-type {\n",
       "        vertical-align: middle;\n",
       "    }\n",
       "\n",
       "    .dataframe tbody tr th {\n",
       "        vertical-align: top;\n",
       "    }\n",
       "\n",
       "    .dataframe thead th {\n",
       "        text-align: right;\n",
       "    }\n",
       "</style>\n",
       "<table border=\"1\" class=\"dataframe\">\n",
       "  <thead>\n",
       "    <tr style=\"text-align: right;\">\n",
       "      <th></th>\n",
       "      <th>line_name</th>\n",
       "      <th>station_name</th>\n",
       "      <th>lng</th>\n",
       "      <th>time</th>\n",
       "      <th>id</th>\n",
       "      <th>area</th>\n",
       "      <th>geometry</th>\n",
       "      <th>lat</th>\n",
       "      <th>lng84</th>\n",
       "      <th>lat84</th>\n",
       "      <th>busStop_Count</th>\n",
       "      <th>service_time</th>\n",
       "      <th>Service_direction</th>\n",
       "    </tr>\n",
       "  </thead>\n",
       "  <tbody>\n",
       "    <tr>\n",
       "      <th>0</th>\n",
       "      <td>地铁1号线(罗宝线)(罗湖--机场东)</td>\n",
       "      <td>罗湖</td>\n",
       "      <td>114.118666</td>\n",
       "      <td>15</td>\n",
       "      <td>1</td>\n",
       "      <td>1,645,538.4390</td>\n",
       "      <td>POLYGON ((114.11357 22.54607, 114.11525 22.545...</td>\n",
       "      <td>22.532083</td>\n",
       "      <td>114.11356724559275</td>\n",
       "      <td>22.534773743036723</td>\n",
       "      <td>425</td>\n",
       "      <td>990</td>\n",
       "      <td>1</td>\n",
       "    </tr>\n",
       "    <tr>\n",
       "      <th>1</th>\n",
       "      <td>地铁1号线(罗宝线)(罗湖--机场东)</td>\n",
       "      <td>国贸</td>\n",
       "      <td>114.118909</td>\n",
       "      <td>15</td>\n",
       "      <td>2</td>\n",
       "      <td>3,369,940.4210</td>\n",
       "      <td>POLYGON ((114.11481 22.55262, 114.11581 22.551...</td>\n",
       "      <td>22.53968</td>\n",
       "      <td>114.11381014452411</td>\n",
       "      <td>22.54237050147604</td>\n",
       "      <td>768</td>\n",
       "      <td>990</td>\n",
       "      <td>1</td>\n",
       "    </tr>\n",
       "    <tr>\n",
       "      <th>2</th>\n",
       "      <td>地铁1号线(罗宝线)(罗湖--机场东)</td>\n",
       "      <td>老街</td>\n",
       "      <td>114.116939</td>\n",
       "      <td>15</td>\n",
       "      <td>3</td>\n",
       "      <td>3,272,737.5670</td>\n",
       "      <td>POLYGON ((114.11584 22.55701, 114.11784 22.555...</td>\n",
       "      <td>22.544232</td>\n",
       "      <td>114.11183673025953</td>\n",
       "      <td>22.546920598243506</td>\n",
       "      <td>786</td>\n",
       "      <td>990</td>\n",
       "      <td>1</td>\n",
       "    </tr>\n",
       "    <tr>\n",
       "      <th>3</th>\n",
       "      <td>地铁1号线(罗宝线)(罗湖--机场东)</td>\n",
       "      <td>大剧院</td>\n",
       "      <td>114.107811</td>\n",
       "      <td>15</td>\n",
       "      <td>4</td>\n",
       "      <td>3,183,149.1720</td>\n",
       "      <td>POLYGON ((114.10670 22.55365, 114.10770 22.553...</td>\n",
       "      <td>22.5418</td>\n",
       "      <td>114.10269652807666</td>\n",
       "      <td>22.5444833134091</td>\n",
       "      <td>507</td>\n",
       "      <td>990</td>\n",
       "      <td>1</td>\n",
       "    </tr>\n",
       "    <tr>\n",
       "      <th>4</th>\n",
       "      <td>地铁1号线(罗宝线)(罗湖--机场东)</td>\n",
       "      <td>科学馆</td>\n",
       "      <td>114.095173</td>\n",
       "      <td>15</td>\n",
       "      <td>5</td>\n",
       "      <td>3,157,301.4840</td>\n",
       "      <td>POLYGON ((114.09105 22.55413, 114.09341 22.552...</td>\n",
       "      <td>22.540618</td>\n",
       "      <td>114.09004758727023</td>\n",
       "      <td>22.54329955667086</td>\n",
       "      <td>541</td>\n",
       "      <td>990</td>\n",
       "      <td>1</td>\n",
       "    </tr>\n",
       "  </tbody>\n",
       "</table>\n",
       "</div>"
      ],
      "text/plain": [
       "             line_name station_name         lng  time  id  \\\n",
       "0  地铁1号线(罗宝线)(罗湖--机场东)           罗湖  114.118666    15   1   \n",
       "1  地铁1号线(罗宝线)(罗湖--机场东)           国贸  114.118909    15   2   \n",
       "2  地铁1号线(罗宝线)(罗湖--机场东)           老街  114.116939    15   3   \n",
       "3  地铁1号线(罗宝线)(罗湖--机场东)          大剧院  114.107811    15   4   \n",
       "4  地铁1号线(罗宝线)(罗湖--机场东)          科学馆  114.095173    15   5   \n",
       "\n",
       "                                      area  \\\n",
       "0                           1,645,538.4390   \n",
       "1                           3,369,940.4210   \n",
       "2                           3,272,737.5670   \n",
       "3                           3,183,149.1720   \n",
       "4                           3,157,301.4840   \n",
       "\n",
       "                                            geometry        lat  \\\n",
       "0  POLYGON ((114.11357 22.54607, 114.11525 22.545...  22.532083   \n",
       "1  POLYGON ((114.11481 22.55262, 114.11581 22.551...   22.53968   \n",
       "2  POLYGON ((114.11584 22.55701, 114.11784 22.555...  22.544232   \n",
       "3  POLYGON ((114.10670 22.55365, 114.10770 22.553...    22.5418   \n",
       "4  POLYGON ((114.09105 22.55413, 114.09341 22.552...  22.540618   \n",
       "\n",
       "                lng84               lat84  busStop_Count service_time  \\\n",
       "0  114.11356724559275  22.534773743036723            425          990   \n",
       "1  114.11381014452411   22.54237050147604            768          990   \n",
       "2  114.11183673025953  22.546920598243506            786          990   \n",
       "3  114.10269652807666    22.5444833134091            507          990   \n",
       "4  114.09004758727023   22.54329955667086            541          990   \n",
       "\n",
       "   Service_direction  \n",
       "0                  1  \n",
       "1                  1  \n",
       "2                  1  \n",
       "3                  1  \n",
       "4                  1  "
      ]
     },
     "execution_count": 23,
     "metadata": {},
     "output_type": "execute_result"
    }
   ],
   "source": [
    "sz_area.head()"
   ]
  },
  {
   "cell_type": "code",
   "execution_count": 24,
   "metadata": {},
   "outputs": [
    {
     "name": "stderr",
     "output_type": "stream",
     "text": [
      "/opt/conda/envs/sds2020/lib/python3.7/site-packages/ipykernel_launcher.py:4: SettingWithCopyWarning: \n",
      "A value is trying to be set on a copy of a slice from a DataFrame\n",
      "\n",
      "See the caveats in the documentation: https://pandas.pydata.org/pandas-docs/stable/user_guide/indexing.html#returning-a-view-versus-a-copy\n",
      "  after removing the cwd from sys.path.\n",
      "/opt/conda/envs/sds2020/lib/python3.7/site-packages/pandas/core/indexing.py:670: SettingWithCopyWarning: \n",
      "A value is trying to be set on a copy of a slice from a DataFrame\n",
      "\n",
      "See the caveats in the documentation: https://pandas.pydata.org/pandas-docs/stable/user_guide/indexing.html#returning-a-view-versus-a-copy\n",
      "  iloc._setitem_with_indexer(indexer, value)\n"
     ]
    }
   ],
   "source": [
    "station_list=['世界之窗','大剧院','购物公园','老街','会展中心','宝安中心','前海湾','科学馆','车公庙','岗厦','福田','市民中心','黄贝岭','赤湾','安托山','华强北','景田','后海'\n",
    "             ,'少年宫','布吉','通新岭','石厦','华新','田贝','红岭','莲花村','深圳北站','红山','福民','上梅林','福田口岸','西丽','太安','前湾','五和','八卦岭','银湖','红岭北','孖岭','红树湾南']\n",
    "for i in station_list:\n",
    "    sz_area.Service_direction[sz_area[sz_area['station_name']==i]['Service_direction'].index.values]=2"
   ]
  },
  {
   "cell_type": "code",
   "execution_count": 25,
   "metadata": {},
   "outputs": [
    {
     "name": "stderr",
     "output_type": "stream",
     "text": [
      "/opt/conda/envs/sds2020/lib/python3.7/site-packages/ipykernel_launcher.py:1: SettingWithCopyWarning: \n",
      "A value is trying to be set on a copy of a slice from a DataFrame\n",
      "\n",
      "See the caveats in the documentation: https://pandas.pydata.org/pandas-docs/stable/user_guide/indexing.html#returning-a-view-versus-a-copy\n",
      "  \"\"\"Entry point for launching an IPython kernel.\n",
      "/opt/conda/envs/sds2020/lib/python3.7/site-packages/ipykernel_launcher.py:2: SettingWithCopyWarning: \n",
      "A value is trying to be set on a copy of a slice from a DataFrame\n",
      "\n",
      "See the caveats in the documentation: https://pandas.pydata.org/pandas-docs/stable/user_guide/indexing.html#returning-a-view-versus-a-copy\n",
      "  \n",
      "/opt/conda/envs/sds2020/lib/python3.7/site-packages/ipykernel_launcher.py:3: SettingWithCopyWarning: \n",
      "A value is trying to be set on a copy of a slice from a DataFrame\n",
      "\n",
      "See the caveats in the documentation: https://pandas.pydata.org/pandas-docs/stable/user_guide/indexing.html#returning-a-view-versus-a-copy\n",
      "  This is separate from the ipykernel package so we can avoid doing imports until\n",
      "/opt/conda/envs/sds2020/lib/python3.7/site-packages/ipykernel_launcher.py:4: SettingWithCopyWarning: \n",
      "A value is trying to be set on a copy of a slice from a DataFrame\n",
      "\n",
      "See the caveats in the documentation: https://pandas.pydata.org/pandas-docs/stable/user_guide/indexing.html#returning-a-view-versus-a-copy\n",
      "  after removing the cwd from sys.path.\n",
      "/opt/conda/envs/sds2020/lib/python3.7/site-packages/ipykernel_launcher.py:5: SettingWithCopyWarning: \n",
      "A value is trying to be set on a copy of a slice from a DataFrame\n",
      "\n",
      "See the caveats in the documentation: https://pandas.pydata.org/pandas-docs/stable/user_guide/indexing.html#returning-a-view-versus-a-copy\n",
      "  \"\"\"\n"
     ]
    }
   ],
   "source": [
    "sz_area.Service_direction[sz_area[sz_area['station_name']=='前海湾']['Service_direction'].index.values]=3\n",
    "sz_area.Service_direction[sz_area[sz_area['station_name']=='车公庙']['Service_direction'].index.values]=4\n",
    "sz_area.Service_direction[sz_area[sz_area['station_name']=='福田']['Service_direction'].index.values]=3\n",
    "sz_area.Service_direction[sz_area[sz_area['station_name']=='深圳北站']['Service_direction'].index.values]=3\n",
    "sz_area.Service_direction[sz_area[sz_area['station_name']=='福民']['Service_direction'].index.values]=3"
   ]
  },
  {
   "cell_type": "code",
   "execution_count": 26,
   "metadata": {},
   "outputs": [],
   "source": [
    "##node 公交线路覆盖率\n",
    "road_total = pd.read_csv('metro_data/深圳/road_length.csv',low_memory=False, encoding=\"utf-8\",\n",
    "                 usecols=['road_length',\"id\"])\n",
    "bus_line_length = pd.read_csv('metro_data/深圳/bus_line_length.csv',low_memory=False, encoding=\"utf-8\",\n",
    "                 usecols=['bus_line_length',\"id\"])"
   ]
  },
  {
   "cell_type": "code",
   "execution_count": 27,
   "metadata": {},
   "outputs": [],
   "source": [
    "road_total = pd.merge(road_total, bus_line_length, on='id')"
   ]
  },
  {
   "cell_type": "code",
   "execution_count": 28,
   "metadata": {},
   "outputs": [],
   "source": [
    "road_total['busline_Cover']=road_total.bus_line_length/road_total.road_length"
   ]
  },
  {
   "cell_type": "code",
   "execution_count": 29,
   "metadata": {},
   "outputs": [],
   "source": [
    "temp=road_total[['busline_Cover','id']]"
   ]
  },
  {
   "cell_type": "code",
   "execution_count": 30,
   "metadata": {},
   "outputs": [],
   "source": [
    "sz_area=pd.merge(sz_area,temp,on='id',how='left')"
   ]
  },
  {
   "cell_type": "code",
   "execution_count": 31,
   "metadata": {},
   "outputs": [],
   "source": [
    "#node-对外交通道路所占比例\n",
    "external_road = pd.read_csv('metro_data/深圳/external_length.csv',low_memory=False, encoding=\"utf-8\",\n",
    "                 usecols=['external_length',\"id\"])\n",
    "external_road = pd.merge(external_road, road_total, on='id')\n",
    "external_road['N_external_Coverage']=external_road.external_length/external_road.road_length\n",
    "temp=external_road[['id','N_external_Coverage']]\n",
    "sz_area=pd.merge(sz_area,temp,on='id',how='left')"
   ]
  },
  {
   "cell_type": "code",
   "execution_count": 32,
   "metadata": {},
   "outputs": [
    {
     "name": "stdout",
     "output_type": "stream",
     "text": [
      "<class 'pandas.core.frame.DataFrame'>\n",
      "Int64Index: 221 entries, 0 to 220\n",
      "Data columns (total 15 columns):\n",
      " #   Column               Non-Null Count  Dtype   \n",
      "---  ------               --------------  -----   \n",
      " 0   line_name            221 non-null    object  \n",
      " 1   station_name         221 non-null    object  \n",
      " 2   lng                  221 non-null    object  \n",
      " 3   time                 221 non-null    int64   \n",
      " 4   id                   221 non-null    int64   \n",
      " 5   area                 221 non-null    float64 \n",
      " 6   geometry             221 non-null    geometry\n",
      " 7   lat                  221 non-null    object  \n",
      " 8   lng84                221 non-null    object  \n",
      " 9   lat84                221 non-null    object  \n",
      " 10  busStop_Count        221 non-null    int64   \n",
      " 11  service_time         221 non-null    object  \n",
      " 12  Service_direction    221 non-null    int64   \n",
      " 13  busline_Cover        221 non-null    float64 \n",
      " 14  N_external_Coverage  221 non-null    float64 \n",
      "dtypes: float64(3), geometry(1), int64(4), object(7)\n",
      "memory usage: 27.6+ KB\n"
     ]
    }
   ],
   "source": [
    "sz_area.info()"
   ]
  },
  {
   "cell_type": "code",
   "execution_count": 33,
   "metadata": {},
   "outputs": [],
   "source": [
    "#Settlement-对内交通道路所占比例\n",
    "internal_road = pd.read_csv('metro_data/深圳/internal_length.csv',low_memory=False, encoding=\"utf-8\",\n",
    "                 usecols=['internal_length',\"id\"])\n",
    "internal_road = pd.merge(internal_road, road_total, on='id')\n",
    "internal_road['S_internal_Coverage']=internal_road.internal_length/internal_road.road_length\n",
    "temp=internal_road[['id','S_internal_Coverage']]\n",
    "sz_area=pd.merge(sz_area,temp,on='id',how='left')"
   ]
  },
  {
   "cell_type": "code",
   "execution_count": 34,
   "metadata": {},
   "outputs": [],
   "source": [
    "#Container 道路网密度"
   ]
  },
  {
   "cell_type": "code",
   "execution_count": 35,
   "metadata": {},
   "outputs": [],
   "source": [
    "temp=road_total[['id','road_length']]\n",
    "sz_area=pd.merge(temp,sz_area,on='id',how='right')"
   ]
  },
  {
   "cell_type": "code",
   "execution_count": 36,
   "metadata": {},
   "outputs": [
    {
     "name": "stdout",
     "output_type": "stream",
     "text": [
      "<class 'pandas.core.frame.DataFrame'>\n",
      "Int64Index: 221 entries, 0 to 220\n",
      "Data columns (total 17 columns):\n",
      " #   Column               Non-Null Count  Dtype   \n",
      "---  ------               --------------  -----   \n",
      " 0   id                   221 non-null    int64   \n",
      " 1   road_length          221 non-null    float64 \n",
      " 2   line_name            221 non-null    object  \n",
      " 3   station_name         221 non-null    object  \n",
      " 4   lng                  221 non-null    object  \n",
      " 5   time                 221 non-null    int64   \n",
      " 6   area                 221 non-null    float64 \n",
      " 7   geometry             221 non-null    geometry\n",
      " 8   lat                  221 non-null    object  \n",
      " 9   lng84                221 non-null    object  \n",
      " 10  lat84                221 non-null    object  \n",
      " 11  busStop_Count        221 non-null    int64   \n",
      " 12  service_time         221 non-null    object  \n",
      " 13  Service_direction    221 non-null    int64   \n",
      " 14  busline_Cover        221 non-null    float64 \n",
      " 15  N_external_Coverage  221 non-null    float64 \n",
      " 16  S_internal_Coverage  221 non-null    float64 \n",
      "dtypes: float64(5), geometry(1), int64(4), object(7)\n",
      "memory usage: 31.1+ KB\n"
     ]
    }
   ],
   "source": [
    "sz_area.info()"
   ]
  },
  {
   "cell_type": "code",
   "execution_count": 37,
   "metadata": {},
   "outputs": [],
   "source": [
    "sz_area['C_road_density']=sz_area.road_length/sz_area.area"
   ]
  },
  {
   "cell_type": "code",
   "execution_count": 38,
   "metadata": {},
   "outputs": [],
   "source": [
    "#place-范围内人口总数\n",
    "pop_area = pd.read_csv('metro_data/深圳/sz_pop.csv',low_memory=False, encoding=\"utf-8\",\n",
    "                 usecols=['pop',\"id\"])\n",
    "sz_pop = pop_area.groupby(['id'])['pop'].agg(P_pop_sum='sum').reset_index()\n",
    "sz_area=pd.merge(sz_pop,sz_area,on='id',how='right')"
   ]
  },
  {
   "cell_type": "code",
   "execution_count": 39,
   "metadata": {},
   "outputs": [],
   "source": [
    "#node-交通用地占比/place-基本功能占比/非基本功能占比\n",
    "basic_function = pd.read_csv('metro_data/深圳/sz_basic.csv',low_memory=False, encoding=\"utf-8\",\n",
    "                 usecols=['LU_area',\"id\"])\n",
    "unbasic_function = pd.read_csv('metro_data/深圳/sz_unbasic.csv',low_memory=False, encoding=\"utf-8\",\n",
    "                 usecols=['LU_area',\"id\"])\n",
    "transpotation_function = pd.read_csv('metro_data/深圳/sz_transpotation.csv',low_memory=False, encoding=\"utf-8\",\n",
    "                 usecols=['LU_area',\"id\"])"
   ]
  },
  {
   "cell_type": "code",
   "execution_count": 40,
   "metadata": {},
   "outputs": [],
   "source": [
    "basic_function = basic_function.groupby(['id'])['LU_area'].agg(basic_sum='sum').reset_index()\n",
    "unbasic_function = unbasic_function.groupby(['id'])['LU_area'].agg(unbasic_sum='sum').reset_index()\n",
    "transpotation_function = transpotation_function.groupby(['id'])['LU_area'].agg(transpotation_sum='sum').reset_index()"
   ]
  },
  {
   "cell_type": "code",
   "execution_count": 41,
   "metadata": {},
   "outputs": [],
   "source": [
    "sz_area = pd.merge(sz_area, basic_function, on='id',how='left')\n",
    "sz_area = pd.merge(sz_area, unbasic_function, on='id',how='left')\n",
    "sz_area = pd.merge(sz_area, transpotation_function, on='id',how='left')"
   ]
  },
  {
   "cell_type": "code",
   "execution_count": 42,
   "metadata": {},
   "outputs": [],
   "source": [
    "sz_area['N_transland_Cover']=sz_area.transpotation_sum/sz_area.area\n",
    "sz_area['P_basic_Cover']=sz_area.basic_sum/sz_area.area\n",
    "sz_area['P_unbasic_Cover']=sz_area.unbasic_sum/sz_area.area"
   ]
  },
  {
   "cell_type": "code",
   "execution_count": 43,
   "metadata": {},
   "outputs": [],
   "source": [
    "sz_area= sz_area.drop(['transpotation_sum','basic_sum','unbasic_sum'],axis=1)"
   ]
  },
  {
   "cell_type": "code",
   "execution_count": 44,
   "metadata": {},
   "outputs": [
    {
     "name": "stdout",
     "output_type": "stream",
     "text": [
      "<class 'pandas.core.frame.DataFrame'>\n",
      "Int64Index: 221 entries, 0 to 220\n",
      "Data columns (total 22 columns):\n",
      " #   Column               Non-Null Count  Dtype   \n",
      "---  ------               --------------  -----   \n",
      " 0   id                   221 non-null    int64   \n",
      " 1   P_pop_sum            221 non-null    int64   \n",
      " 2   road_length          221 non-null    float64 \n",
      " 3   line_name            221 non-null    object  \n",
      " 4   station_name         221 non-null    object  \n",
      " 5   lng                  221 non-null    object  \n",
      " 6   time                 221 non-null    int64   \n",
      " 7   area                 221 non-null    float64 \n",
      " 8   geometry             221 non-null    geometry\n",
      " 9   lat                  221 non-null    object  \n",
      " 10  lng84                221 non-null    object  \n",
      " 11  lat84                221 non-null    object  \n",
      " 12  busStop_Count        221 non-null    int64   \n",
      " 13  service_time         221 non-null    object  \n",
      " 14  Service_direction    221 non-null    int64   \n",
      " 15  busline_Cover        221 non-null    float64 \n",
      " 16  N_external_Coverage  221 non-null    float64 \n",
      " 17  S_internal_Coverage  221 non-null    float64 \n",
      " 18  C_road_density       221 non-null    float64 \n",
      " 19  N_transland_Cover    63 non-null     float64 \n",
      " 20  P_basic_Cover        201 non-null    float64 \n",
      " 21  P_unbasic_Cover      213 non-null    float64 \n",
      "dtypes: float64(9), geometry(1), int64(5), object(7)\n",
      "memory usage: 39.7+ KB\n"
     ]
    }
   ],
   "source": [
    "sz_area.info()"
   ]
  },
  {
   "cell_type": "code",
   "execution_count": 45,
   "metadata": {},
   "outputs": [],
   "source": [
    "sz_area['N_transland_Cover'] = sz_area['N_transland_Cover'].fillna(0)\n",
    "sz_area['P_basic_Cover'] = sz_area['P_basic_Cover'].fillna(0)\n",
    "sz_area['P_unbasic_Cover'] = sz_area['P_unbasic_Cover'].fillna(0)"
   ]
  },
  {
   "cell_type": "code",
   "execution_count": 46,
   "metadata": {},
   "outputs": [],
   "source": [
    "#Place-Degree of landuse mix---entropy 熵 Frank（2005）\n",
    "landuse_area = pd.read_csv('metro_data/深圳/sz_landuse.csv',low_memory=False, encoding=\"utf-8\",\n",
    "                 usecols=['LU_area',\"id\",'area','Level1'])\n",
    "test = landuse_area.groupby(['id','Level1'])['LU_area'].agg(LU_sum='sum').reset_index()\n",
    "test1 = pd.pivot_table(test, index='id', columns='Level1', values='LU_sum')\n",
    "test2 = pd.DataFrame(test1.to_records())"
   ]
  },
  {
   "cell_type": "code",
   "execution_count": 47,
   "metadata": {},
   "outputs": [
    {
     "name": "stdout",
     "output_type": "stream",
     "text": [
      "<class 'pandas.core.frame.DataFrame'>\n",
      "RangeIndex: 214 entries, 0 to 213\n",
      "Data columns (total 6 columns):\n",
      " #   Column  Non-Null Count  Dtype  \n",
      "---  ------  --------------  -----  \n",
      " 0   id      214 non-null    int64  \n",
      " 1   1       209 non-null    float64\n",
      " 2   2       186 non-null    float64\n",
      " 3   3       135 non-null    float64\n",
      " 4   4       63 non-null     float64\n",
      " 5   5       209 non-null    float64\n",
      "dtypes: float64(5), int64(1)\n",
      "memory usage: 10.2 KB\n"
     ]
    }
   ],
   "source": [
    "test2.info()"
   ]
  },
  {
   "cell_type": "code",
   "execution_count": 48,
   "metadata": {},
   "outputs": [],
   "source": [
    "test_list=[]\n",
    "for i in range (0,214):\n",
    "    p=test2.loc[[i]].isna().sum().sum()\n",
    "    test_list.append(p)"
   ]
  },
  {
   "cell_type": "code",
   "execution_count": 49,
   "metadata": {},
   "outputs": [],
   "source": [
    "test2['na_vlaue']=test_list\n",
    "test2['conf']=5\n",
    "test2['n3']=test2.conf-test2.na_vlaue"
   ]
  },
  {
   "cell_type": "code",
   "execution_count": 50,
   "metadata": {},
   "outputs": [],
   "source": [
    "test2['1'] = test2['1'].fillna(0)\n",
    "test2['2'] = test2['2'].fillna(0)\n",
    "test2['3'] = test2['3'].fillna(0)\n",
    "test2['4'] = test2['4'].fillna(0)\n",
    "test2['5'] = test2['5'].fillna(0)\n",
    "test2['sum']=test2['1']+test2['2']+test2['3']+test2['4']+test2['5']"
   ]
  },
  {
   "cell_type": "code",
   "execution_count": 51,
   "metadata": {},
   "outputs": [
    {
     "data": {
      "text/plain": [
       "True"
      ]
     },
     "execution_count": 51,
     "metadata": {},
     "output_type": "execute_result"
    }
   ],
   "source": [
    "(test2['sum'] != 0).all()"
   ]
  },
  {
   "cell_type": "code",
   "execution_count": 52,
   "metadata": {},
   "outputs": [
    {
     "name": "stderr",
     "output_type": "stream",
     "text": [
      "/opt/conda/envs/sds2020/lib/python3.7/site-packages/ipykernel_launcher.py:27: RuntimeWarning: invalid value encountered in double_scalars\n"
     ]
    }
   ],
   "source": [
    "LUM_list=[]\n",
    "for i in range (0,214):\n",
    "    if test2.at[i,'1']==0:\n",
    "        t1=0\n",
    "    else:\n",
    "        t1=math.log(test2.at[i,'1']/test2.at[i,'sum'])\n",
    "    if test2.at[i,'2']==0:\n",
    "        t2=0\n",
    "    else:\n",
    "        t2=math.log(test2.at[i,'2']/test2.at[i,'sum'])\n",
    "    if test2.at[i,'3']==0:\n",
    "        t3=0\n",
    "    else:\n",
    "        t3=math.log(test2.at[i,'3']/test2.at[i,'sum'])\n",
    "    if test2.at[i,'4']==0:\n",
    "        t4=0\n",
    "    else:\n",
    "        t4=math.log(test2.at[i,'4']/test2.at[i,'sum'])\n",
    "    if test2.at[i,'5']==0:\n",
    "        t5=0\n",
    "    else:\n",
    "        t5=math.log(test2.at[i,'5']/test2.at[i,'sum'])\n",
    "    p=(-1)*((test2.at[i,'1']/test2.at[i,'sum'])*t1\n",
    "                   +(test2.at[i,'2']/test2.at[i,'sum'])*t2\n",
    "                  +(test2.at[i,'3']/test2.at[i,'sum'])*t3\n",
    "                  +(test2.at[i,'4']/test2.at[i,'sum'])*t4\n",
    "                  +(test2.at[i,'5']/test2.at[i,'sum'])*t5)/math.log(test2.at[i,'n3'])\n",
    "    LUM_list.append(p)"
   ]
  },
  {
   "cell_type": "code",
   "execution_count": 53,
   "metadata": {},
   "outputs": [],
   "source": [
    "test2['P_LUM']=LUM_list\n",
    "test2['P_LUM'] = test2['P_LUM'].fillna(0)"
   ]
  },
  {
   "cell_type": "code",
   "execution_count": 54,
   "metadata": {},
   "outputs": [],
   "source": [
    "LUM_df = test2[['id', 'P_LUM']]\n",
    "sz_area = pd.merge(sz_area, LUM_df, on='id',how='left')"
   ]
  },
  {
   "cell_type": "code",
   "execution_count": 55,
   "metadata": {},
   "outputs": [],
   "source": [
    "#place2-Simpson Diversity Index(poi)\n",
    "def simpson_di(data):\n",
    "\n",
    "    \"\"\" Given a hash { 'species': count } , returns the Simpson Diversity Index\n",
    "    \n",
    "    >>> simpson_di({'a': 10, 'b': 20, 'c': 30,})\n",
    "    0.3888888888888889\n",
    "    \"\"\"\n",
    "\n",
    "    N = sum(data.values())\n",
    "    \n",
    "    def p(n, N):\n",
    "        \"\"\" Relative abundance \"\"\"\n",
    "        if n is  0:\n",
    "            return 0\n",
    "        else:\n",
    "            return (float(n)*(n-1))/(N*(N-1))\n",
    "\n",
    "    \n",
    "    return 1-sum(p(n, N) for n in data.values() if n is not 0)"
   ]
  },
  {
   "cell_type": "code",
   "execution_count": 56,
   "metadata": {},
   "outputs": [],
   "source": [
    "sz_area = GeoDataFrame(sz_area, crs=\"EPSG:4326\", geometry=sz_area.geometry)\n",
    "sz_area['P_LUM'] = sz_area['P_LUM'].fillna(0)"
   ]
  },
  {
   "cell_type": "code",
   "execution_count": 57,
   "metadata": {},
   "outputs": [],
   "source": [
    "gz_area2=sz_area.copy()"
   ]
  },
  {
   "cell_type": "code",
   "execution_count": 58,
   "metadata": {},
   "outputs": [],
   "source": [
    "gz_poi_cy=gpd.read_file('metro_data/深圳/poi/深圳市_餐饮.shp',encoding=\"utf-8\")\n",
    "gz_poi_total_count = gpd.sjoin(gz_poi_cy, gz_area2, how='right')\n",
    "gz_poi_total_count_test = gz_poi_total_count.groupby(['id'])['gml_id'].agg(cy_Count='count').reset_index()\n",
    "gz_area2 = pd.merge(gz_area2, gz_poi_total_count_test, on='id')"
   ]
  },
  {
   "cell_type": "code",
   "execution_count": 59,
   "metadata": {},
   "outputs": [],
   "source": [
    "gz_poi_ds=gpd.read_file('metro_data/深圳/poi/深圳市_大厦.shp',encoding=\"utf-8\")\n",
    "gz_poi_total_count = gpd.sjoin(gz_poi_ds, gz_area2, how='right')\n",
    "gz_poi_total_count_test = gz_poi_total_count.groupby(['station_name'])['gml_id'].agg(ds_Count='count').reset_index()\n",
    "gz_area2 = pd.merge(gz_area2, gz_poi_total_count_test, on='station_name')"
   ]
  },
  {
   "cell_type": "code",
   "execution_count": 60,
   "metadata": {},
   "outputs": [],
   "source": [
    "gz_poi_mall=gpd.read_file('metro_data/深圳/poi/深圳市_大型购物广场.shp',encoding=\"utf-8\")\n",
    "gz_poi_total_count = gpd.sjoin(gz_poi_mall, gz_area2, how='right')\n",
    "gz_poi_total_count_test = gz_poi_total_count.groupby(['station_name'])['gml_id'].agg(mall_Count='count').reset_index()\n",
    "gz_area2 = pd.merge(gz_area2, gz_poi_total_count_test, on='station_name')"
   ]
  },
  {
   "cell_type": "code",
   "execution_count": 61,
   "metadata": {},
   "outputs": [],
   "source": [
    "gz_poi_gw=gpd.read_file('metro_data/深圳/poi/深圳市_购物.shp',encoding=\"utf-8\")\n",
    "gz_poi_total_count = gpd.sjoin(gz_poi_gw, gz_area2, how='right')\n",
    "gz_poi_total_count_test = gz_poi_total_count.groupby(['station_name'])['gml_id'].agg(gw_Count='count').reset_index()\n",
    "gz_area2 = pd.merge(gz_area2, gz_poi_total_count_test, on='station_name')"
   ]
  },
  {
   "cell_type": "code",
   "execution_count": 62,
   "metadata": {},
   "outputs": [],
   "source": [
    "gz_poi_jr=gpd.read_file('metro_data/深圳/poi/深圳市_金融服务.shp',encoding=\"utf-8\")\n",
    "gz_poi_total_count = gpd.sjoin(gz_poi_jr, gz_area2, how='right')\n",
    "gz_poi_total_count_test = gz_poi_total_count.groupby(['station_name'])['gml_id'].agg(jr_Count='count').reset_index()\n",
    "gz_area2 = pd.merge(gz_area2, gz_poi_total_count_test, on='station_name')"
   ]
  },
  {
   "cell_type": "code",
   "execution_count": 63,
   "metadata": {},
   "outputs": [],
   "source": [
    "gz_poi_ky=gpd.read_file('metro_data/深圳/poi/深圳市_科研教育.shp',encoding=\"utf-8\")\n",
    "gz_poi_total_count = gpd.sjoin(gz_poi_ky, gz_area2, how='right')\n",
    "gz_poi_total_count_test = gz_poi_total_count.groupby(['station_name'])['gml_id'].agg(ky_Count='count').reset_index()\n",
    "gz_area2 = pd.merge(gz_area2, gz_poi_total_count_test, on='station_name')"
   ]
  },
  {
   "cell_type": "code",
   "execution_count": 64,
   "metadata": {},
   "outputs": [],
   "source": [
    "gz_poi_ly=gpd.read_file('metro_data/深圳/poi/深圳市_旅游.shp',encoding=\"utf-8\")\n",
    "gz_poi_total_count = gpd.sjoin(gz_poi_ly, gz_area2, how='right')\n",
    "gz_poi_total_count_test = gz_poi_total_count.groupby(['station_name'])['gml_id'].agg(ly_Count='count').reset_index()\n",
    "gz_area2 = pd.merge(gz_area2, gz_poi_total_count_test, on='station_name')"
   ]
  },
  {
   "cell_type": "code",
   "execution_count": 65,
   "metadata": {},
   "outputs": [],
   "source": [
    "gz_poi_xs=gpd.read_file('metro_data/深圳/poi/深圳市_休闲娱乐.shp',encoding=\"utf-8\")\n",
    "gz_poi_total_count = gpd.sjoin(gz_poi_xs, gz_area2, how='right')\n",
    "gz_poi_total_count_test = gz_poi_total_count.groupby(['station_name'])['gml_id'].agg(xs_Count='count').reset_index()\n",
    "gz_area2 = pd.merge(gz_area2, gz_poi_total_count_test, on='station_name')"
   ]
  },
  {
   "cell_type": "code",
   "execution_count": 66,
   "metadata": {},
   "outputs": [],
   "source": [
    "gz_poi_zf=gpd.read_file('metro_data/深圳/poi/深圳市_政府机关.shp',encoding=\"utf-8\")\n",
    "gz_poi_total_count = gpd.sjoin(gz_poi_zf, gz_area2, how='right')\n",
    "gz_poi_total_count_test = gz_poi_total_count.groupby(['station_name'])['gml_id'].agg(zf_Count='count').reset_index()\n",
    "gz_area2 = pd.merge(gz_area2, gz_poi_total_count_test, on='station_name')"
   ]
  },
  {
   "cell_type": "code",
   "execution_count": 67,
   "metadata": {},
   "outputs": [],
   "source": [
    "gz_poi_zs=gpd.read_file('metro_data/深圳/poi/深圳市_住宿.shp',encoding=\"utf-8\")\n",
    "gz_poi_total_count = gpd.sjoin(gz_poi_zs, gz_area2, how='right')\n",
    "gz_poi_total_count_test = gz_poi_total_count.groupby(['station_name'])['gml_id'].agg(zs_Count='count').reset_index()\n",
    "gz_area2 = pd.merge(gz_area2, gz_poi_total_count_test, on='station_name')"
   ]
  },
  {
   "cell_type": "code",
   "execution_count": 68,
   "metadata": {},
   "outputs": [],
   "source": [
    "gz_poi_zj=gpd.read_file('metro_data/深圳/poi/深圳市_宗教点.shp',encoding=\"utf-8\")\n",
    "gz_poi_total_count = gpd.sjoin(gz_poi_zj, gz_area2, how='right')\n",
    "gz_poi_total_count_test = gz_poi_total_count.groupby(['station_name'])['gml_id'].agg(zj_Count='count').reset_index()\n",
    "gz_area2 = pd.merge(gz_area2, gz_poi_total_count_test, on='station_name')"
   ]
  },
  {
   "cell_type": "code",
   "execution_count": 69,
   "metadata": {},
   "outputs": [],
   "source": [
    "sz_area['P_poi_Diversity']=0.1"
   ]
  },
  {
   "cell_type": "code",
   "execution_count": 70,
   "metadata": {},
   "outputs": [
    {
     "name": "stderr",
     "output_type": "stream",
     "text": [
      "/opt/conda/envs/sds2020/lib/python3.7/site-packages/ipykernel_launcher.py:6: SettingWithCopyWarning: \n",
      "A value is trying to be set on a copy of a slice from a DataFrame\n",
      "\n",
      "See the caveats in the documentation: https://pandas.pydata.org/pandas-docs/stable/user_guide/indexing.html#returning-a-view-versus-a-copy\n",
      "  \n",
      "/opt/conda/envs/sds2020/lib/python3.7/site-packages/ipykernel_launcher.py:17: RuntimeWarning: invalid value encountered in double_scalars\n"
     ]
    }
   ],
   "source": [
    "for i in range(0,221):\n",
    "    poi_dic={'a':gz_area2['cy_Count'][i],'b':gz_area2['ds_Count'][i],'c':gz_area2['mall_Count'][i],\n",
    "             'd':gz_area2['gw_Count'][i],'e':gz_area2['jr_Count'][i],'f':gz_area2['ky_Count'][i],\n",
    "             'g':gz_area2['ly_Count'][i],'h':gz_area2['xs_Count'][i],'i':gz_area2['zf_Count'][i],\n",
    "             'j':gz_area2['zs_Count'][i],'k':gz_area2['zj_Count'][i]}\n",
    "    sz_area['P_poi_Diversity'][i]=simpson_di(poi_dic)"
   ]
  },
  {
   "cell_type": "code",
   "execution_count": 71,
   "metadata": {},
   "outputs": [],
   "source": [
    "sz_area['P_poi_Diversity'] = sz_area['P_poi_Diversity'].fillna(0)"
   ]
  },
  {
   "cell_type": "code",
   "execution_count": 72,
   "metadata": {},
   "outputs": [
    {
     "name": "stdout",
     "output_type": "stream",
     "text": [
      "<class 'geopandas.geodataframe.GeoDataFrame'>\n",
      "Int64Index: 221 entries, 0 to 220\n",
      "Data columns (total 24 columns):\n",
      " #   Column               Non-Null Count  Dtype   \n",
      "---  ------               --------------  -----   \n",
      " 0   id                   221 non-null    int64   \n",
      " 1   P_pop_sum            221 non-null    int64   \n",
      " 2   road_length          221 non-null    float64 \n",
      " 3   line_name            221 non-null    object  \n",
      " 4   station_name         221 non-null    object  \n",
      " 5   lng                  221 non-null    object  \n",
      " 6   time                 221 non-null    int64   \n",
      " 7   area                 221 non-null    float64 \n",
      " 8   geometry             221 non-null    geometry\n",
      " 9   lat                  221 non-null    object  \n",
      " 10  lng84                221 non-null    object  \n",
      " 11  lat84                221 non-null    object  \n",
      " 12  busStop_Count        221 non-null    int64   \n",
      " 13  service_time         221 non-null    object  \n",
      " 14  Service_direction    221 non-null    int64   \n",
      " 15  busline_Cover        221 non-null    float64 \n",
      " 16  N_external_Coverage  221 non-null    float64 \n",
      " 17  S_internal_Coverage  221 non-null    float64 \n",
      " 18  C_road_density       221 non-null    float64 \n",
      " 19  N_transland_Cover    221 non-null    float64 \n",
      " 20  P_basic_Cover        221 non-null    float64 \n",
      " 21  P_unbasic_Cover      221 non-null    float64 \n",
      " 22  P_LUM                221 non-null    float64 \n",
      " 23  P_poi_Diversity      221 non-null    float64 \n",
      "dtypes: float64(11), geometry(1), int64(5), object(7)\n",
      "memory usage: 53.2+ KB\n"
     ]
    }
   ],
   "source": [
    "sz_area.info()"
   ]
  },
  {
   "cell_type": "code",
   "execution_count": 73,
   "metadata": {},
   "outputs": [],
   "source": [
    "#Settlement1 community_center count\n",
    "gz_poi_community=gpd.read_file('metro_data/深圳/poi/深圳市_居委会点.shp',encoding=\"utf-8\")\n",
    "gz_poi_total_count = gpd.sjoin(gz_poi_community, gz_area2, how='right')\n",
    "gz_poi_total_count_test = gz_poi_total_count.groupby(['id'])['gml_id'].agg(S_community_Count='count').reset_index()\n",
    "sz_area = pd.merge(sz_area, gz_poi_total_count_test, on='id')"
   ]
  },
  {
   "cell_type": "code",
   "execution_count": 74,
   "metadata": {},
   "outputs": [],
   "source": [
    "#container1 building height+area density\n",
    "gz_building_within_area = pd.read_csv('metro_data/深圳/sz_building.csv',low_memory=False, encoding=\"utf-8\",\n",
    "                 usecols=['height','build_area',\"id\"])"
   ]
  },
  {
   "cell_type": "code",
   "execution_count": 75,
   "metadata": {},
   "outputs": [],
   "source": [
    "gz_building_within_area['build_area'] = gz_building_within_area['build_area'].fillna(0)\n",
    "gz_building_within_area['height'] = gz_building_within_area['height'].fillna(0)"
   ]
  },
  {
   "cell_type": "code",
   "execution_count": 76,
   "metadata": {},
   "outputs": [],
   "source": [
    "gz_building_test = gz_building_within_area.groupby(['id'])['build_area'].agg(building_sum='sum').reset_index()\n",
    "gz_building_test2 = gz_building_within_area.groupby(['id'])['height'].agg(C_height_avg='mean').reset_index()"
   ]
  },
  {
   "cell_type": "code",
   "execution_count": 77,
   "metadata": {},
   "outputs": [],
   "source": [
    "sz_area = pd.merge(sz_area, gz_building_test, on='id',how='left')\n",
    "sz_area = pd.merge(sz_area, gz_building_test2, on='id',how='left')"
   ]
  },
  {
   "cell_type": "code",
   "execution_count": 78,
   "metadata": {},
   "outputs": [],
   "source": [
    "sz_area['building_sum'] = sz_area['building_sum'].fillna(0)\n",
    "sz_area['C_height_avg'] = sz_area['C_height_avg'].fillna(0)"
   ]
  },
  {
   "cell_type": "code",
   "execution_count": 79,
   "metadata": {},
   "outputs": [
    {
     "name": "stderr",
     "output_type": "stream",
     "text": [
      "/opt/conda/envs/sds2020/lib/python3.7/site-packages/ipykernel_launcher.py:1: UserWarning: Geometry is in a geographic CRS. Results from 'area' are likely incorrect. Use 'GeoSeries.to_crs()' to re-project geometries to a projected CRS before this operation.\n",
      "\n",
      "  \"\"\"Entry point for launching an IPython kernel.\n"
     ]
    }
   ],
   "source": [
    "sz_area['C_building_density']=sz_area.building_sum/sz_area.area"
   ]
  },
  {
   "cell_type": "code",
   "execution_count": 80,
   "metadata": {},
   "outputs": [],
   "source": [
    "sz_area=sz_area.drop(['building_sum'],axis=1)\n",
    "sz_area.rename(columns={'busStop_Count':'N_busStop_Count',\n",
    "                       'service_time':'N_service_time',\n",
    "                       'Service_direction':'N_Service_direction',\n",
    "                       'busline_Cover':'N_busline_Cover',},inplace=True)"
   ]
  },
  {
   "cell_type": "code",
   "execution_count": 81,
   "metadata": {},
   "outputs": [],
   "source": [
    "###测量correlation\n",
    "sz_cor2=sz_area.copy()\n",
    "sz_cor2= sz_cor2.drop(['id','lng84','lat84','geometry','line_name','station_name','lng','lat','area','road_length','time'],axis=1)"
   ]
  },
  {
   "cell_type": "code",
   "execution_count": 82,
   "metadata": {},
   "outputs": [
    {
     "data": {
      "image/png": "[encoded data removed]",
      "text/plain": [
       "<Figure size 792x648 with 2 Axes>"
      ]
     },
     "metadata": {
      "needs_background": "light"
     },
     "output_type": "display_data"
    }
   ],
   "source": [
    "corrMatrix=sz_cor2.corr()\n",
    "# Generate a mask for the upper triangle\n",
    "mask = np.triu(np.ones_like(corrMatrix, dtype=bool))\n",
    "\n",
    "# Set up the matplotlib figure\n",
    "f, ax = plt.subplots(figsize=(11, 9))\n",
    "\n",
    "# Generate a custom diverging colormap\n",
    "cmap = sns.diverging_palette(230, 20, as_cmap=True)\n",
    "\n",
    "# Draw the heatmap with the mask and correct aspect ratio\n",
    "plot1=sns.heatmap(corrMatrix,  cmap=cmap, vmax=1, center=0,\n",
    "            square=True, linewidths=.5, cbar_kws={\"shrink\": .5})"
   ]
  },
  {
   "cell_type": "code",
   "execution_count": 83,
   "metadata": {},
   "outputs": [],
   "source": [
    "plot1.figure.savefig(\"corr_sz.png\",dpi=300)"
   ]
  },
  {
   "cell_type": "code",
   "execution_count": 84,
   "metadata": {},
   "outputs": [],
   "source": [
    "sz_area.to_csv('sz_all_variables.csv',encoding='utf-8',index=False)"
   ]
  },
  {
   "cell_type": "code",
   "execution_count": 85,
   "metadata": {},
   "outputs": [],
   "source": [
    "#分析\n",
    "sz_PCA=sz_area.copy()"
   ]
  },
  {
   "cell_type": "code",
   "execution_count": 86,
   "metadata": {},
   "outputs": [
    {
     "name": "stdout",
     "output_type": "stream",
     "text": [
      "<class 'geopandas.geodataframe.GeoDataFrame'>\n",
      "Int64Index: 221 entries, 0 to 220\n",
      "Data columns (total 27 columns):\n",
      " #   Column               Non-Null Count  Dtype   \n",
      "---  ------               --------------  -----   \n",
      " 0   id                   221 non-null    int64   \n",
      " 1   P_pop_sum            221 non-null    int64   \n",
      " 2   road_length          221 non-null    float64 \n",
      " 3   line_name            221 non-null    object  \n",
      " 4   station_name         221 non-null    object  \n",
      " 5   lng                  221 non-null    object  \n",
      " 6   time                 221 non-null    int64   \n",
      " 7   area                 221 non-null    float64 \n",
      " 8   geometry             221 non-null    geometry\n",
      " 9   lat                  221 non-null    object  \n",
      " 10  lng84                221 non-null    object  \n",
      " 11  lat84                221 non-null    object  \n",
      " 12  N_busStop_Count      221 non-null    int64   \n",
      " 13  N_service_time       221 non-null    object  \n",
      " 14  N_Service_direction  221 non-null    int64   \n",
      " 15  N_busline_Cover      221 non-null    float64 \n",
      " 16  N_external_Coverage  221 non-null    float64 \n",
      " 17  S_internal_Coverage  221 non-null    float64 \n",
      " 18  C_road_density       221 non-null    float64 \n",
      " 19  N_transland_Cover    221 non-null    float64 \n",
      " 20  P_basic_Cover        221 non-null    float64 \n",
      " 21  P_unbasic_Cover      221 non-null    float64 \n",
      " 22  P_LUM                221 non-null    float64 \n",
      " 23  P_poi_Diversity      221 non-null    float64 \n",
      " 24  S_community_Count    221 non-null    int64   \n",
      " 25  C_height_avg         221 non-null    float64 \n",
      " 26  C_building_density   221 non-null    float64 \n",
      "dtypes: float64(13), geometry(1), int64(6), object(7)\n",
      "memory usage: 48.3+ KB\n"
     ]
    }
   ],
   "source": [
    "sz_PCA.info()"
   ]
  },
  {
   "cell_type": "code",
   "execution_count": 87,
   "metadata": {},
   "outputs": [],
   "source": [
    "#PCA for Node\n",
    "features_N = ['N_busStop_Count', 'N_service_time', 'N_Service_direction', 'N_busline_Cover','N_external_Coverage','N_transland_Cover'\n",
    "           ]\n",
    "# Separating out the features\n",
    "x_N = sz_PCA.loc[:, features_N].values\n",
    "# Standardizing the features\n",
    "x_N =MinMaxScaler().fit_transform(x_N)#MinMaxScaler/StandardScaler\n",
    "\n",
    "#PCA for Plcae\n",
    "features_P = ['P_poi_Diversity', 'P_pop_sum', 'P_basic_Cover', 'P_unbasic_Cover','P_LUM'\n",
    "           ]\n",
    "# Separating out the features\n",
    "x_P = sz_PCA.loc[:, features_P].values\n",
    "# Standardizing the features\n",
    "x_P = MaxAbsScaler().fit_transform(x_P)\n",
    "\n",
    "#PCA for Settlement\n",
    "features_S = ['S_community_Count','S_internal_Coverage'\n",
    "           ]\n",
    "# Separating out the features\n",
    "x_S = sz_PCA.loc[:, features_S].values\n",
    "# Standardizing the features\n",
    "x_S = MinMaxScaler().fit_transform(x_S)\n",
    "\n",
    "#PCA for Container\n",
    "features_C = ['C_height_avg','C_building_density','C_road_density'\n",
    "           ]\n",
    "# Separating out the features\n",
    "x_C = sz_PCA.loc[:, features_C].values\n",
    "# Standardizing the features\n",
    "x_C = MinMaxScaler().fit_transform(x_C)"
   ]
  },
  {
   "cell_type": "code",
   "execution_count": 88,
   "metadata": {},
   "outputs": [],
   "source": [
    "Node_arry=mcdm.weighting.critic(x_N)\n",
    "Node_wgt=Node_arry.tolist()\n",
    "Place_arry=mcdm.weighting.critic(x_P)\n",
    "Place_wgt=Place_arry.tolist()\n",
    "Settlement_arry=mcdm.weighting.critic(x_S)\n",
    "Settlement_wgt=Settlement_arry.tolist()\n",
    "Container_arry=mcdm.weighting.critic(x_C)\n",
    "Container_wgt=Container_arry.tolist()"
   ]
  },
  {
   "cell_type": "code",
   "execution_count": 89,
   "metadata": {},
   "outputs": [],
   "source": [
    "###测量correlation\n",
    "sz_index=sz_area.copy()\n",
    "sz_index= sz_index.drop(['lng84','lat84','geometry','line_name','station_name','lng','lat','area','road_length','time','id'],axis=1)"
   ]
  },
  {
   "cell_type": "code",
   "execution_count": 90,
   "metadata": {},
   "outputs": [
    {
     "data": {
      "text/plain": [
       "Index(['P_pop_sum', 'N_busStop_Count', 'N_service_time', 'N_Service_direction',\n",
       "       'N_busline_Cover', 'N_external_Coverage', 'S_internal_Coverage',\n",
       "       'C_road_density', 'N_transland_Cover', 'P_basic_Cover',\n",
       "       'P_unbasic_Cover', 'P_LUM', 'P_poi_Diversity', 'S_community_Count',\n",
       "       'C_height_avg', 'C_building_density'],\n",
       "      dtype='object')"
      ]
     },
     "execution_count": 90,
     "metadata": {},
     "output_type": "execute_result"
    }
   ],
   "source": [
    "sz_index.columns"
   ]
  },
  {
   "cell_type": "code",
   "execution_count": 91,
   "metadata": {},
   "outputs": [],
   "source": [
    "scaler = MinMaxScaler()\n",
    "# fit and transform the data\n",
    "gz_norm = pd.DataFrame(scaler.fit_transform(sz_index), columns=sz_index.columns)"
   ]
  },
  {
   "cell_type": "code",
   "execution_count": 92,
   "metadata": {},
   "outputs": [],
   "source": [
    "#计算各维度index\n",
    "gz_norm['Node_index']=gz_norm.N_busStop_Count*Node_wgt[0]+gz_norm.N_service_time*Node_wgt[1]+gz_norm.N_Service_direction*Node_wgt[2]+gz_norm.N_busline_Cover*Node_wgt[3]+gz_norm.N_external_Coverage*Node_wgt[4]+gz_norm.N_transland_Cover*Node_wgt[5]\n",
    "gz_norm['Place_index']=gz_norm.P_poi_Diversity*Place_wgt[0]+gz_norm.P_pop_sum*Place_wgt[1]+gz_norm.P_basic_Cover*Node_wgt[2]+gz_norm.P_unbasic_Cover*Place_wgt[3]+gz_norm.P_LUM*Place_wgt[4]\n",
    "gz_norm['Settlement_index']=gz_norm.S_community_Count*Settlement_wgt[0]+gz_norm.S_internal_Coverage*Settlement_wgt[1]\n",
    "gz_norm['Container_index']=gz_norm.C_height_avg*Container_wgt[0]+gz_norm.C_building_density*Container_wgt[1]+gz_norm.C_road_density*Container_wgt[2]"
   ]
  },
  {
   "cell_type": "code",
   "execution_count": 93,
   "metadata": {},
   "outputs": [
    {
     "name": "stderr",
     "output_type": "stream",
     "text": [
      "/opt/conda/envs/sds2020/lib/python3.7/site-packages/ipykernel_launcher.py:2: SettingWithCopyWarning: \n",
      "A value is trying to be set on a copy of a slice from a DataFrame.\n",
      "Try using .loc[row_indexer,col_indexer] = value instead\n",
      "\n",
      "See the caveats in the documentation: https://pandas.pydata.org/pandas-docs/stable/user_guide/indexing.html#returning-a-view-versus-a-copy\n",
      "  \n"
     ]
    }
   ],
   "source": [
    "gz_final=gz_norm[['Node_index','Place_index','Settlement_index','Container_index']]\n",
    "gz_final['id']=gz_final.index.values+1"
   ]
  },
  {
   "cell_type": "code",
   "execution_count": 94,
   "metadata": {},
   "outputs": [],
   "source": [
    "sz_final_area=pd.merge(sz_area,gz_final,on='id',how='left')\n",
    "gz_temp=sz_final_area[['id','lng','Node_index','Place_index','Settlement_index','Container_index']]"
   ]
  },
  {
   "cell_type": "code",
   "execution_count": 95,
   "metadata": {},
   "outputs": [
    {
     "name": "stdout",
     "output_type": "stream",
     "text": [
      "<class 'geopandas.geodataframe.GeoDataFrame'>\n",
      "Int64Index: 221 entries, 0 to 220\n",
      "Data columns (total 31 columns):\n",
      " #   Column               Non-Null Count  Dtype   \n",
      "---  ------               --------------  -----   \n",
      " 0   id                   221 non-null    int64   \n",
      " 1   P_pop_sum            221 non-null    int64   \n",
      " 2   road_length          221 non-null    float64 \n",
      " 3   line_name            221 non-null    object  \n",
      " 4   station_name         221 non-null    object  \n",
      " 5   lng                  221 non-null    object  \n",
      " 6   time                 221 non-null    int64   \n",
      " 7   area                 221 non-null    float64 \n",
      " 8   geometry             221 non-null    geometry\n",
      " 9   lat                  221 non-null    object  \n",
      " 10  lng84                221 non-null    object  \n",
      " 11  lat84                221 non-null    object  \n",
      " 12  N_busStop_Count      221 non-null    int64   \n",
      " 13  N_service_time       221 non-null    object  \n",
      " 14  N_Service_direction  221 non-null    int64   \n",
      " 15  N_busline_Cover      221 non-null    float64 \n",
      " 16  N_external_Coverage  221 non-null    float64 \n",
      " 17  S_internal_Coverage  221 non-null    float64 \n",
      " 18  C_road_density       221 non-null    float64 \n",
      " 19  N_transland_Cover    221 non-null    float64 \n",
      " 20  P_basic_Cover        221 non-null    float64 \n",
      " 21  P_unbasic_Cover      221 non-null    float64 \n",
      " 22  P_LUM                221 non-null    float64 \n",
      " 23  P_poi_Diversity      221 non-null    float64 \n",
      " 24  S_community_Count    221 non-null    int64   \n",
      " 25  C_height_avg         221 non-null    float64 \n",
      " 26  C_building_density   221 non-null    float64 \n",
      " 27  Node_index           221 non-null    float64 \n",
      " 28  Place_index          221 non-null    float64 \n",
      " 29  Settlement_index     221 non-null    float64 \n",
      " 30  Container_index      221 non-null    float64 \n",
      "dtypes: float64(17), geometry(1), int64(6), object(7)\n",
      "memory usage: 55.2+ KB\n"
     ]
    }
   ],
   "source": [
    "sz_final_area.info()"
   ]
  },
  {
   "cell_type": "code",
   "execution_count": 96,
   "metadata": {},
   "outputs": [],
   "source": [
    "sz_final_station=pd.merge(sz_station,gz_temp,on='id',how='left')"
   ]
  },
  {
   "cell_type": "code",
   "execution_count": 97,
   "metadata": {},
   "outputs": [],
   "source": [
    "sz_final_station = sz_final_station.astype({\"line_name\":'string', \"station_name\":'string',\"lat\":'float64',\"lng_x\":'float64',\"lng_y\":'float64',\"lat84\":'float64',\"lng84\":'float64'})\n",
    "sz_final_area = sz_final_area.astype({\"line_name\":'string', \"station_name\":'string',\"lat\":'float64',\"lng\":'float64',\"lat84\":'float64',\"lng84\":'float64',\"N_service_time\":'int64'})"
   ]
  },
  {
   "cell_type": "code",
   "execution_count": 98,
   "metadata": {},
   "outputs": [],
   "source": [
    "sz_final_station.to_file(\"sz_station_withindex.shp\")\n",
    "sz_final_area.to_file(\"sz_area_withindex.shp\")"
   ]
  }
 ],
 "metadata": {
  "kernelspec": {
   "display_name": "Python 3",
   "language": "python",
   "name": "python3"
  },
  "language_info": {
   "codemirror_mode": {
    "name": "ipython",
    "version": 3
   },
   "file_extension": ".py",
   "mimetype": "text/x-python",
   "name": "python",
   "nbconvert_exporter": "python",
   "pygments_lexer": "ipython3",
   "version": "3.7.8"
  }
 },
 "nbformat": 4,
 "nbformat_minor": 4
}
