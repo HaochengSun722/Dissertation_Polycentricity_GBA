{
 "cells": [
  {
   "cell_type": "code",
   "execution_count": 1,
   "metadata": {},
   "outputs": [],
   "source": [
    "import numpy as np\n",
    "import pandas as pd\n",
    "import geopandas as gpd\n",
    "import seaborn as sns\n",
    "import matplotlib.pyplot as plt\n",
    "import matplotlib.cm as cm\n",
    "import matplotlib as mpl\n",
    "import re\n",
    "import os\n",
    "import patsy\n",
    "\n",
    "from matplotlib.colors import ListedColormap\n",
    "\n",
    "import sklearn\n",
    "from sklearn.neighbors import NearestNeighbors\n",
    "from sklearn.manifold import TSNE\n",
    "from sklearn.decomposition import PCA\n",
    "from sklearn.preprocessing import PowerTransformer, RobustScaler, StandardScaler, MinMaxScaler\n",
    "from sklearn.cluster import KMeans, DBSCAN, OPTICS\n",
    "from esda.adbscan import ADBSCAN\n",
    "from pysal.model import mgwr\n",
    "from mgwr.sel_bw import Sel_BW\n",
    "\n",
    "import random\n",
    "random.seed(42)    # For reproducibility\n",
    "np.random.seed(42) # For reproducibility\n",
    "\n",
    "# Make numeric display a bit neater\n",
    "pd.set_option('display.float_format', lambda x: '{:,.2f}'.format(x))"
   ]
  },
  {
   "cell_type": "code",
   "execution_count": 2,
   "metadata": {},
   "outputs": [],
   "source": [
    "from sklearn.linear_model import LinearRegression\n",
    "import statsmodels.api as sm\n",
    "\n",
    "from sklearn.linear_model import LogisticRegression\n",
    "from sklearn.metrics import confusion_matrix\n",
    "\n",
    "pd.set_option('display.max_rows', 300) # specifies number of rows to show\n",
    "pd.options.display.float_format = '{:40,.4f}'.format # specifies default number format to 4 decimal places\n",
    "plt.style.use('ggplot') # specifies that graphs should use ggplot styling\n",
    "%matplotlib inline"
   ]
  },
  {
   "cell_type": "code",
   "execution_count": 3,
   "metadata": {},
   "outputs": [
    {
     "name": "stdout",
     "output_type": "stream",
     "text": [
      "Collecting mcdm\n",
      "  Downloading mcdm-1.2-py3-none-any.whl (69 kB)\n",
      "\u001b[K     |████████████████████████████████| 69 kB 194 kB/s eta 0:00:01\n",
      "\u001b[?25hCollecting numpy>=1.19.2\n",
      "  Downloading numpy-1.21.1-cp37-cp37m-manylinux_2_12_x86_64.manylinux2010_x86_64.whl (15.7 MB)\n",
      "\u001b[K     |████████████████████████████████| 15.7 MB 66 kB/s eta 0:00:011   |                                | 20 kB 607 kB/s eta 0:00:26     |▍                               | 215 kB 468 kB/s eta 0:00:34     |██████████████████████████████  | 14.8 MB 3.6 MB/s eta 0:00:01\n",
      "\u001b[?25hInstalling collected packages: numpy, mcdm\n",
      "  Attempting uninstall: numpy\n",
      "    Found existing installation: numpy 1.19.1\n",
      "    Uninstalling numpy-1.19.1:\n",
      "      Successfully uninstalled numpy-1.19.1\n",
      "\u001b[31mERROR: After October 2020 you may experience errors when installing or updating packages. This is because pip will change the way that it resolves dependency conflicts.\n",
      "\n",
      "We recommend you use --use-feature=2020-resolver to test your packages with the new resolver before it becomes the default.\n",
      "\n",
      "pointpats 2.2.0 requires opencv-contrib-python>=4.2.0, which is not installed.\n",
      "access 1.1.1 requires Sphinx==2.4.3, which is not installed.\u001b[0m\n",
      "Successfully installed mcdm-1.2 numpy-1.21.1\n",
      "Note: you may need to restart the kernel to use updated packages.\n"
     ]
    }
   ],
   "source": [
    "pip install mcdm"
   ]
  },
  {
   "cell_type": "code",
   "execution_count": 4,
   "metadata": {},
   "outputs": [],
   "source": [
    "tfont = {'fontname':'Liberation Sans Narrow', 'horizontalalignment':'left'}\n",
    "import math\n",
    "from geopandas import GeoDataFrame\n",
    "from sklearn.preprocessing import StandardScaler\n",
    "from sklearn.decomposition import PCA\n",
    "from sklearn.preprocessing import MinMaxScaler\n",
    "from sklearn.preprocessing import minmax_scale\n",
    "from sklearn.preprocessing import MaxAbsScaler\n",
    "from sklearn.preprocessing import StandardScaler\n",
    "import mcdm"
   ]
  },
  {
   "cell_type": "code",
   "execution_count": 5,
   "metadata": {},
   "outputs": [],
   "source": [
    "#加载数据\n",
    "gba_area=gpd.read_file('final_output/gba_new/gba_area_withindex.shp',encoding=\"utf-8\")\n",
    "gba_station=gpd.read_file('final_output/gba_new/gba_station_withindex.shp',encoding=\"utf-8\")\n",
    "railway_grid=gpd.read_file('metro_data/mobile_grid/grid_railway_catchmentarea.shp',encoding=\"utf-8\")\n",
    "railway_flow=pd.read_csv('metro_data/mobile_grid/railway_OD_20190624.csv',low_memory=False,encoding=\"utf-8\")"
   ]
  },
  {
   "cell_type": "code",
   "execution_count": 6,
   "metadata": {},
   "outputs": [],
   "source": [
    "gba_area2=gba_area.copy()\n",
    "gba_area2.to_crs('EPSG:32650',inplace=True)"
   ]
  },
  {
   "cell_type": "code",
   "execution_count": 7,
   "metadata": {},
   "outputs": [],
   "source": [
    "#提取站点area的grid\n",
    "railway_grid2=railway_grid.copy()\n",
    "railway_grid2.to_crs('EPSG:32650',inplace=True)\n",
    "test = gpd.sjoin(railway_grid2, gba_area2, how='left')\n",
    "test.dropna(subset = [\"id\"], inplace=True)"
   ]
  },
  {
   "cell_type": "code",
   "execution_count": 8,
   "metadata": {},
   "outputs": [
    {
     "data": {
      "text/plain": [
       "<AxesSubplot:>"
      ]
     },
     "execution_count": 8,
     "metadata": {},
     "output_type": "execute_result"
    },
    {
     "data": {
      "image/png": "[encoded data removed]",
      "text/plain": [
       "<Figure size 432x288 with 1 Axes>"
      ]
     },
     "metadata": {
      "needs_background": "light"
     },
     "output_type": "display_data"
    }
   ],
   "source": [
    "test.plot()"
   ]
  },
  {
   "cell_type": "code",
   "execution_count": 9,
   "metadata": {},
   "outputs": [],
   "source": [
    "#加载人流\n",
    "railway_flow_69 = railway_flow.groupby(['o_grid','d_grid'])['num_total'].agg(flow_day_sum='sum').reset_index()"
   ]
  },
  {
   "cell_type": "code",
   "execution_count": 10,
   "metadata": {},
   "outputs": [
    {
     "name": "stderr",
     "output_type": "stream",
     "text": [
      "/opt/conda/envs/sds2020/lib/python3.7/site-packages/pandas/core/frame.py:4303: SettingWithCopyWarning: \n",
      "A value is trying to be set on a copy of a slice from a DataFrame\n",
      "\n",
      "See the caveats in the documentation: https://pandas.pydata.org/pandas-docs/stable/user_guide/indexing.html#returning-a-view-versus-a-copy\n",
      "  errors=errors,\n"
     ]
    }
   ],
   "source": [
    "#O\n",
    "railway_flow_O=railway_flow_69.copy()\n",
    "railway_flow_O.rename(columns={'flow_day_sum':'O_flow','o_grid':'Tid'},inplace=True)\n",
    "test1=pd.merge(test,railway_flow_O,on='Tid',how='left')\n",
    "test_sub=test[['Tid']]\n",
    "test_sub.rename(columns={'Tid':'d_grid'},inplace=True)\n",
    "test2=pd.merge(test1,test_sub,on='d_grid',how='right')\n",
    "O_gba_flow = test2.groupby(['id'])['O_flow'].agg(O_flw='sum').reset_index()\n",
    "gba_area=pd.merge(gba_area,O_gba_flow,on='id',how='left')"
   ]
  },
  {
   "cell_type": "code",
   "execution_count": 11,
   "metadata": {},
   "outputs": [],
   "source": [
    "railway_flow_D=railway_flow_69.copy()\n",
    "railway_flow_D.rename(columns={'flow_day_sum':'D_flow','d_grid':'Tid'},inplace=True)\n",
    "test1=pd.merge(test,railway_flow_D,on='Tid',how='left')\n",
    "test_sub=test[['Tid']]\n",
    "test_sub.rename(columns={'Tid':'o_grid'},inplace=True)\n",
    "test2=pd.merge(test1,test_sub,on='o_grid',how='right')\n",
    "D_gba_flow = test2.groupby(['id'])['D_flow'].agg(D_flw='sum').reset_index()\n",
    "gba_area=pd.merge(gba_area,D_gba_flow,on='id',how='left')"
   ]
  },
  {
   "cell_type": "code",
   "execution_count": 12,
   "metadata": {},
   "outputs": [
    {
     "name": "stdout",
     "output_type": "stream",
     "text": [
      "<class 'geopandas.geodataframe.GeoDataFrame'>\n",
      "Int64Index: 72 entries, 0 to 71\n",
      "Data columns (total 21 columns):\n",
      " #   Column      Non-Null Count  Dtype   \n",
      "---  ------      --------------  -----   \n",
      " 0   id          72 non-null     int64   \n",
      " 1   area        72 non-null     float64 \n",
      " 2   station_na  72 non-null     object  \n",
      " 3   WGS84_Lng   72 non-null     float64 \n",
      " 4   NL_NAME_2   72 non-null     object  \n",
      " 5   time        72 non-null     int64   \n",
      " 6   N_busStop_  72 non-null     int64   \n",
      " 7   N_metro_Co  72 non-null     int64   \n",
      " 8   N_train_Co  72 non-null     float64 \n",
      " 9   N_external  72 non-null     float64 \n",
      " 10  P_pop_sum   72 non-null     int64   \n",
      " 11  N_translan  72 non-null     float64 \n",
      " 12  P_basic_Co  72 non-null     float64 \n",
      " 13  P_unbasic_  72 non-null     float64 \n",
      " 14  P_LUM       72 non-null     float64 \n",
      " 15  P_poi_Dive  72 non-null     float64 \n",
      " 16  Node_index  72 non-null     float64 \n",
      " 17  Place_inde  72 non-null     float64 \n",
      " 18  geometry    72 non-null     geometry\n",
      " 19  O_flw       72 non-null     float64 \n",
      " 20  D_flw       72 non-null     float64 \n",
      "dtypes: float64(13), geometry(1), int64(5), object(2)\n",
      "memory usage: 12.4+ KB\n"
     ]
    }
   ],
   "source": [
    "gba_area.info()"
   ]
  },
  {
   "cell_type": "code",
   "execution_count": 13,
   "metadata": {},
   "outputs": [
    {
     "data": {
      "text/plain": [
       "id                                                         2722\n",
       "area                                         1,294,080,174.2940\n",
       "station_na    ??????????????????????????????????????????????...\n",
       "WGS84_Lng                                            8,171.3194\n",
       "NL_NAME_2     ??????????????????????????????????????????????...\n",
       "time                                                        720\n",
       "N_busStop_                                                64356\n",
       "N_metro_Co                                                  147\n",
       "N_train_Co                                           4,526.0000\n",
       "N_external                                              33.4480\n",
       "P_pop_sum                                              12958330\n",
       "N_translan                                               3.8949\n",
       "P_basic_Co                                              27.0434\n",
       "P_unbasic_                                              22.6134\n",
       "P_LUM                                                   50.2553\n",
       "P_poi_Dive                                              54.7583\n",
       "Node_index                                              14.2608\n",
       "Place_inde                                              31.8766\n",
       "O_flw                                            3,686,830.0000\n",
       "D_flw                                            3,686,830.0000\n",
       "dtype: object"
      ]
     },
     "execution_count": 13,
     "metadata": {},
     "output_type": "execute_result"
    }
   ],
   "source": [
    "gba_area.sum(axis = 0, skipna = True)\n",
    "##该时段流动的总人口3686830"
   ]
  },
  {
   "cell_type": "code",
   "execution_count": 14,
   "metadata": {},
   "outputs": [],
   "source": [
    "gba_area['centricity_index']=(gba_area.D_flw-gba_area.O_flw)/3686830"
   ]
  },
  {
   "cell_type": "code",
   "execution_count": 15,
   "metadata": {},
   "outputs": [],
   "source": [
    "###计算functional polycentricity\n",
    "railway_flow_O=railway_flow_69.copy()\n",
    "railway_flow_O.rename(columns={'flow_day_sum':'O_flow','o_grid':'Tid'},inplace=True)\n",
    "temp1=pd.merge(test,railway_flow_O,on='Tid',how='left')\n",
    "temp_sub=test[['Tid','id']]\n",
    "temp_sub.rename(columns={'Tid':'d_grid','id':'D_id'},inplace=True)\n",
    "gba_within_flow=pd.merge(temp1,temp_sub,on='d_grid',how='right')\n",
    "gba_flow = gba_within_flow.groupby(['id','D_id'])['O_flow'].agg(flw='sum').reset_index()\n"
   ]
  },
  {
   "cell_type": "code",
   "execution_count": 16,
   "metadata": {},
   "outputs": [
    {
     "data": {
      "text/html": [
       "<div>\n",
       "<style scoped>\n",
       "    .dataframe tbody tr th:only-of-type {\n",
       "        vertical-align: middle;\n",
       "    }\n",
       "\n",
       "    .dataframe tbody tr th {\n",
       "        vertical-align: top;\n",
       "    }\n",
       "\n",
       "    .dataframe thead th {\n",
       "        text-align: right;\n",
       "    }\n",
       "</style>\n",
       "<table border=\"1\" class=\"dataframe\">\n",
       "  <thead>\n",
       "    <tr style=\"text-align: right;\">\n",
       "      <th></th>\n",
       "      <th>id</th>\n",
       "      <th>D_id</th>\n",
       "      <th>flw</th>\n",
       "    </tr>\n",
       "  </thead>\n",
       "  <tbody>\n",
       "    <tr>\n",
       "      <th>0</th>\n",
       "      <td>1.0000</td>\n",
       "      <td>1.0000</td>\n",
       "      <td>17,255.0000</td>\n",
       "    </tr>\n",
       "    <tr>\n",
       "      <th>1</th>\n",
       "      <td>1.0000</td>\n",
       "      <td>2.0000</td>\n",
       "      <td>132.0000</td>\n",
       "    </tr>\n",
       "    <tr>\n",
       "      <th>2</th>\n",
       "      <td>1.0000</td>\n",
       "      <td>3.0000</td>\n",
       "      <td>89.0000</td>\n",
       "    </tr>\n",
       "    <tr>\n",
       "      <th>3</th>\n",
       "      <td>1.0000</td>\n",
       "      <td>4.0000</td>\n",
       "      <td>103.0000</td>\n",
       "    </tr>\n",
       "    <tr>\n",
       "      <th>4</th>\n",
       "      <td>1.0000</td>\n",
       "      <td>5.0000</td>\n",
       "      <td>45.0000</td>\n",
       "    </tr>\n",
       "    <tr>\n",
       "      <th>...</th>\n",
       "      <td>...</td>\n",
       "      <td>...</td>\n",
       "      <td>...</td>\n",
       "    </tr>\n",
       "    <tr>\n",
       "      <th>4215</th>\n",
       "      <td>74.0000</td>\n",
       "      <td>70.0000</td>\n",
       "      <td>66.0000</td>\n",
       "    </tr>\n",
       "    <tr>\n",
       "      <th>4216</th>\n",
       "      <td>74.0000</td>\n",
       "      <td>71.0000</td>\n",
       "      <td>108.0000</td>\n",
       "    </tr>\n",
       "    <tr>\n",
       "      <th>4217</th>\n",
       "      <td>74.0000</td>\n",
       "      <td>72.0000</td>\n",
       "      <td>5,439.0000</td>\n",
       "    </tr>\n",
       "    <tr>\n",
       "      <th>4218</th>\n",
       "      <td>74.0000</td>\n",
       "      <td>73.0000</td>\n",
       "      <td>1,829.0000</td>\n",
       "    </tr>\n",
       "    <tr>\n",
       "      <th>4219</th>\n",
       "      <td>74.0000</td>\n",
       "      <td>74.0000</td>\n",
       "      <td>6,244.0000</td>\n",
       "    </tr>\n",
       "  </tbody>\n",
       "</table>\n",
       "<p>4220 rows × 3 columns</p>\n",
       "</div>"
      ],
      "text/plain": [
       "                                           id  \\\n",
       "0                                      1.0000   \n",
       "1                                      1.0000   \n",
       "2                                      1.0000   \n",
       "3                                      1.0000   \n",
       "4                                      1.0000   \n",
       "...                                       ...   \n",
       "4215                                  74.0000   \n",
       "4216                                  74.0000   \n",
       "4217                                  74.0000   \n",
       "4218                                  74.0000   \n",
       "4219                                  74.0000   \n",
       "\n",
       "                                         D_id  \\\n",
       "0                                      1.0000   \n",
       "1                                      2.0000   \n",
       "2                                      3.0000   \n",
       "3                                      4.0000   \n",
       "4                                      5.0000   \n",
       "...                                       ...   \n",
       "4215                                  70.0000   \n",
       "4216                                  71.0000   \n",
       "4217                                  72.0000   \n",
       "4218                                  73.0000   \n",
       "4219                                  74.0000   \n",
       "\n",
       "                                          flw  \n",
       "0                                 17,255.0000  \n",
       "1                                    132.0000  \n",
       "2                                     89.0000  \n",
       "3                                    103.0000  \n",
       "4                                     45.0000  \n",
       "...                                       ...  \n",
       "4215                                  66.0000  \n",
       "4216                                 108.0000  \n",
       "4217                               5,439.0000  \n",
       "4218                               1,829.0000  \n",
       "4219                               6,244.0000  \n",
       "\n",
       "[4220 rows x 3 columns]"
      ]
     },
     "execution_count": 16,
     "metadata": {},
     "output_type": "execute_result"
    }
   ],
   "source": [
    "gba_flow"
   ]
  },
  {
   "cell_type": "code",
   "execution_count": 17,
   "metadata": {},
   "outputs": [],
   "source": [
    "import networkx as nx\n",
    "G_gba = nx.Graph()\n",
    "G_gba = nx.from_pandas_edgelist(gba_flow, 'id', 'D_id',['flw'],create_using=nx.DiGraph)"
   ]
  },
  {
   "cell_type": "code",
   "execution_count": 18,
   "metadata": {},
   "outputs": [
    {
     "data": {
      "text/plain": [
       "DiDegreeView({1.0: 40547.0, 2.0: 44960.0, 3.0: 54038.0, 4.0: 33933.0, 5.0: 23745.0, 7.0: 86476.0, 8.0: 261007.0, 9.0: 106761.0, 10.0: 57439.0, 11.0: 108884.0, 12.0: 98388.0, 13.0: 22355.0, 14.0: 114835.0, 15.0: 420473.0, 16.0: 40016.0, 17.0: 389581.0, 18.0: 5249.0, 19.0: 18335.0, 20.0: 41264.0, 22.0: 310.0, 23.0: 100617.0, 24.0: 172722.0, 25.0: 341853.0, 28.0: 129601.0, 29.0: 347601.0, 30.0: 126324.0, 31.0: 18538.0, 35.0: 888.0, 36.0: 75977.0, 37.0: 103761.0, 38.0: 60874.0, 39.0: 75000.0, 40.0: 14238.0, 41.0: 18414.0, 42.0: 397895.0, 43.0: 595905.0, 44.0: 278893.0, 45.0: 67507.0, 46.0: 2933.0, 47.0: 54199.0, 48.0: 16446.0, 49.0: 23020.0, 50.0: 144744.0, 51.0: 191300.0, 52.0: 193561.0, 53.0: 226483.0, 54.0: 322122.0, 55.0: 153432.0, 56.0: 21767.0, 57.0: 27528.0, 58.0: 18276.0, 59.0: 16466.0, 60.0: 151944.0, 61.0: 10215.0, 62.0: 17767.0, 63.0: 48696.0, 64.0: 46657.0, 65.0: 27001.0, 66.0: 303824.0, 67.0: 36626.0, 68.0: 56658.0, 69.0: 53357.0, 70.0: 65913.0, 71.0: 14020.0, 72.0: 112833.0, 73.0: 29792.0, 74.0: 56034.0, 34.0: 19921.0, 6.0: 10449.0, 21.0: 345.0, 33.0: 2391.0, 32.0: 1736.0})"
      ]
     },
     "execution_count": 18,
     "metadata": {},
     "output_type": "execute_result"
    }
   ],
   "source": [
    "#degree for each node\n",
    "deg=nx.degree(G_gba,weight='flw')\n",
    "deg"
   ]
  },
  {
   "cell_type": "code",
   "execution_count": 19,
   "metadata": {},
   "outputs": [],
   "source": [
    "gba_den=nx.density(G_gba)\n",
    "gba_degree = pd.DataFrame(dict(\n",
    "    DEGREE = dict(deg)))\n",
    "gba_degree['id']=gba_degree.index.values\n",
    "gba_area=pd.merge(gba_area,gba_degree,on='id',how='left')"
   ]
  },
  {
   "cell_type": "code",
   "execution_count": 20,
   "metadata": {},
   "outputs": [
    {
     "data": {
      "text/plain": [
       "0.5845052755295869"
      ]
     },
     "execution_count": 20,
     "metadata": {},
     "output_type": "execute_result"
    }
   ],
   "source": [
    "from statistics import stdev\n",
    "sample=(gba_area.DEGREE.min(),gba_area.DEGREE.max())\n",
    "gba_FP=gba_den*(1-(gba_area.DEGREE.std())/(stdev(sample)))\n",
    "gba_FP\n",
    "###GBAfunctional polycentricity——————0.5845052755295869"
   ]
  },
  {
   "cell_type": "code",
   "execution_count": 21,
   "metadata": {},
   "outputs": [],
   "source": [
    "temp=gba_area[['centricity_index','DEGREE','id']]\n",
    "gba_station=pd.merge(gba_station,temp,on='id',how='left')\n",
    "gba_station.to_file(\"gba_station_withcentricity.shp\")\n",
    "gba_area.to_file(\"gba_area_withcentricity.shp\")"
   ]
  }
 ],
 "metadata": {
  "kernelspec": {
   "display_name": "Python 3",
   "language": "python",
   "name": "python3"
  },
  "language_info": {
   "codemirror_mode": {
    "name": "ipython",
    "version": 3
   },
   "file_extension": ".py",
   "mimetype": "text/x-python",
   "name": "python",
   "nbconvert_exporter": "python",
   "pygments_lexer": "ipython3",
   "version": "3.7.8"
  }
 },
 "nbformat": 4,
 "nbformat_minor": 4
}
