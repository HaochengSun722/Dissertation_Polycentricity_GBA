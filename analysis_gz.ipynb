{
 "cells": [
  {
   "cell_type": "code",
   "execution_count": 1,
   "metadata": {},
   "outputs": [],
   "source": [
    "import numpy as np\n",
    "import pandas as pd\n",
    "import geopandas as gpd\n",
    "import seaborn as sns\n",
    "import matplotlib.pyplot as plt\n",
    "import matplotlib.cm as cm\n",
    "import matplotlib as mpl\n",
    "import re\n",
    "import os\n",
    "import patsy\n",
    "\n",
    "from matplotlib.colors import ListedColormap\n",
    "\n",
    "import sklearn\n",
    "from sklearn.neighbors import NearestNeighbors\n",
    "from sklearn.manifold import TSNE\n",
    "from sklearn.decomposition import PCA\n",
    "from sklearn.preprocessing import PowerTransformer, RobustScaler, StandardScaler, MinMaxScaler\n",
    "from sklearn.cluster import KMeans, DBSCAN, OPTICS\n",
    "from esda.adbscan import ADBSCAN\n",
    "from pysal.model import mgwr\n",
    "from mgwr.sel_bw import Sel_BW\n",
    "\n",
    "import random\n",
    "random.seed(42)    # For reproducibility\n",
    "np.random.seed(42) # For reproducibility\n",
    "\n",
    "# Make numeric display a bit neater\n",
    "pd.set_option('display.float_format', lambda x: '{:,.2f}'.format(x))"
   ]
  },
  {
   "cell_type": "code",
   "execution_count": 2,
   "metadata": {},
   "outputs": [],
   "source": [
    "from sklearn.linear_model import LinearRegression\n",
    "import statsmodels.api as sm\n",
    "\n",
    "from sklearn.linear_model import LogisticRegression\n",
    "from sklearn.metrics import confusion_matrix\n",
    "\n",
    "pd.set_option('display.max_rows', 300) # specifies number of rows to show\n",
    "pd.options.display.float_format = '{:40,.4f}'.format # specifies default number format to 4 decimal places\n",
    "plt.style.use('ggplot') # specifies that graphs should use ggplot styling\n",
    "%matplotlib inline"
   ]
  },
  {
   "cell_type": "code",
   "execution_count": 3,
   "metadata": {},
   "outputs": [],
   "source": [
    "tfont = {'fontname':'Liberation Sans Narrow', 'horizontalalignment':'left'}"
   ]
  },
  {
   "cell_type": "code",
   "execution_count": 4,
   "metadata": {},
   "outputs": [],
   "source": [
    "gz_station=gpd.read_file('metro_data/广州/station.shp',encoding=\"utf-8\")\n",
    "gz_line=gpd.read_file('metro_data/广州/line.shp',encoding=\"utf-8\")"
   ]
  },
  {
   "cell_type": "code",
   "execution_count": 5,
   "metadata": {},
   "outputs": [],
   "source": [
    "sz_station=gpd.read_file('metro_data/深圳/station.shp',encoding=\"utf-8\")\n",
    "sz_line=gpd.read_file('metro_data/深圳/line.shp',encoding=\"utf-8\")"
   ]
  },
  {
   "cell_type": "code",
   "execution_count": 6,
   "metadata": {},
   "outputs": [],
   "source": [
    "dg_station=gpd.read_file('metro_data/东莞/station.shp',encoding=\"utf-8\")\n",
    "dg_line=gpd.read_file('metro_data/东莞/line.shp',encoding=\"utf-8\")"
   ]
  },
  {
   "cell_type": "code",
   "execution_count": 7,
   "metadata": {},
   "outputs": [],
   "source": [
    "fs_station=gpd.read_file('metro_data/佛山/station.shp',encoding=\"utf-8\")\n",
    "fs_line=gpd.read_file('metro_data/佛山/line.shp',encoding=\"utf-8\")"
   ]
  },
  {
   "cell_type": "code",
   "execution_count": 8,
   "metadata": {},
   "outputs": [],
   "source": [
    "gz_line['service_time']=['1015','1015','1040','1050','990','1015','1015','1050','1010','1010','985','1010','1010','990']"
   ]
  },
  {
   "cell_type": "code",
   "execution_count": 9,
   "metadata": {},
   "outputs": [],
   "source": [
    "##node1 bus stop count\n",
    "gz_area=gpd.read_file('metro_data/广州/gz_area.shp',encoding=\"utf-8\")"
   ]
  },
  {
   "cell_type": "code",
   "execution_count": 10,
   "metadata": {},
   "outputs": [
    {
     "data": {
      "text/html": [
       "<div>\n",
       "<style scoped>\n",
       "    .dataframe tbody tr th:only-of-type {\n",
       "        vertical-align: middle;\n",
       "    }\n",
       "\n",
       "    .dataframe tbody tr th {\n",
       "        vertical-align: top;\n",
       "    }\n",
       "\n",
       "    .dataframe thead th {\n",
       "        text-align: right;\n",
       "    }\n",
       "</style>\n",
       "<table border=\"1\" class=\"dataframe\">\n",
       "  <thead>\n",
       "    <tr style=\"text-align: right;\">\n",
       "      <th></th>\n",
       "      <th>id</th>\n",
       "      <th>time</th>\n",
       "      <th>line_name</th>\n",
       "      <th>station_na</th>\n",
       "      <th>lng84</th>\n",
       "      <th>lat84</th>\n",
       "      <th>area</th>\n",
       "      <th>geometry</th>\n",
       "    </tr>\n",
       "  </thead>\n",
       "  <tbody>\n",
       "    <tr>\n",
       "      <th>0</th>\n",
       "      <td>1</td>\n",
       "      <td>15</td>\n",
       "      <td>??1??(??--????)</td>\n",
       "      <td>??</td>\n",
       "      <td>113.22665366084165</td>\n",
       "      <td>23.068138134411758</td>\n",
       "      <td>1970009</td>\n",
       "      <td>POLYGON ((113.22565 23.07944, 113.22765 23.076...</td>\n",
       "    </tr>\n",
       "    <tr>\n",
       "      <th>1</th>\n",
       "      <td>2</td>\n",
       "      <td>15</td>\n",
       "      <td>??1??(??--????)</td>\n",
       "      <td>??</td>\n",
       "      <td>113.2271730697168</td>\n",
       "      <td>23.081573783272855</td>\n",
       "      <td>2193001</td>\n",
       "      <td>POLYGON ((113.22817 23.09182, 113.22957 23.090...</td>\n",
       "    </tr>\n",
       "    <tr>\n",
       "      <th>2</th>\n",
       "      <td>3</td>\n",
       "      <td>15</td>\n",
       "      <td>??1??(??--????)</td>\n",
       "      <td>???</td>\n",
       "      <td>113.22870537148827</td>\n",
       "      <td>23.089748291208767</td>\n",
       "      <td>2224351</td>\n",
       "      <td>POLYGON ((113.23071 23.10102, 113.23018 23.099...</td>\n",
       "    </tr>\n",
       "    <tr>\n",
       "      <th>3</th>\n",
       "      <td>4</td>\n",
       "      <td>15</td>\n",
       "      <td>??1??(??--????)</td>\n",
       "      <td>??</td>\n",
       "      <td>113.2303784246444</td>\n",
       "      <td>23.10128141365814</td>\n",
       "      <td>2827239</td>\n",
       "      <td>POLYGON ((113.22538 23.10876, 113.22616 23.107...</td>\n",
       "    </tr>\n",
       "    <tr>\n",
       "      <th>4</th>\n",
       "      <td>5</td>\n",
       "      <td>15</td>\n",
       "      <td>??1??(??--????)</td>\n",
       "      <td>??</td>\n",
       "      <td>113.23453220953868</td>\n",
       "      <td>23.11321036550148</td>\n",
       "      <td>2423683</td>\n",
       "      <td>POLYGON ((113.23753 23.12345, 113.23795 23.122...</td>\n",
       "    </tr>\n",
       "  </tbody>\n",
       "</table>\n",
       "</div>"
      ],
      "text/plain": [
       "   id  time        line_name station_na               lng84  \\\n",
       "0   1    15  ??1??(??--????)         ??  113.22665366084165   \n",
       "1   2    15  ??1??(??--????)         ??   113.2271730697168   \n",
       "2   3    15  ??1??(??--????)        ???  113.22870537148827   \n",
       "3   4    15  ??1??(??--????)         ??   113.2303784246444   \n",
       "4   5    15  ??1??(??--????)         ??  113.23453220953868   \n",
       "\n",
       "                lat84     area  \\\n",
       "0  23.068138134411758  1970009   \n",
       "1  23.081573783272855  2193001   \n",
       "2  23.089748291208767  2224351   \n",
       "3   23.10128141365814  2827239   \n",
       "4   23.11321036550148  2423683   \n",
       "\n",
       "                                            geometry  \n",
       "0  POLYGON ((113.22565 23.07944, 113.22765 23.076...  \n",
       "1  POLYGON ((113.22817 23.09182, 113.22957 23.090...  \n",
       "2  POLYGON ((113.23071 23.10102, 113.23018 23.099...  \n",
       "3  POLYGON ((113.22538 23.10876, 113.22616 23.107...  \n",
       "4  POLYGON ((113.23753 23.12345, 113.23795 23.122...  "
      ]
     },
     "execution_count": 10,
     "metadata": {},
     "output_type": "execute_result"
    }
   ],
   "source": [
    "gz_area.head()"
   ]
  },
  {
   "cell_type": "code",
   "execution_count": 11,
   "metadata": {},
   "outputs": [],
   "source": [
    "gz_area = pd.merge(gz_area, gz_station, on='lng84')"
   ]
  },
  {
   "cell_type": "code",
   "execution_count": 12,
   "metadata": {},
   "outputs": [],
   "source": [
    "gz_area=gz_area.drop(['time','line_name_x','station_na_x','lat84_y','geometry_y'],axis=1)"
   ]
  },
  {
   "cell_type": "code",
   "execution_count": 13,
   "metadata": {},
   "outputs": [],
   "source": [
    "gz_area.rename(columns=\n",
    "{\n",
    "\"lat84_x\": \"lat84\",\n",
    "\"geometry_x\": \"geometry\",\n",
    "\"line_name_y\": \"line_name\",\n",
    "\"station_na_y\": \"station_name\"\n",
    "}, inplace=True)"
   ]
  },
  {
   "cell_type": "code",
   "execution_count": 14,
   "metadata": {},
   "outputs": [],
   "source": [
    "gz_bus_station=gpd.read_file('metro_data/广州/amap_bus_stops_gz.shp',encoding=\"utf-8\")\n",
    "gz_bus_line=gpd.read_file('metro_data/广州/amap_bus_lines_gz.shp',encoding=\"utf-8\")"
   ]
  },
  {
   "cell_type": "code",
   "execution_count": 15,
   "metadata": {},
   "outputs": [
    {
     "name": "stdout",
     "output_type": "stream",
     "text": [
      "<class 'geopandas.geodataframe.GeoDataFrame'>\n",
      "Int64Index: 200 entries, 0 to 199\n",
      "Data columns (total 9 columns):\n",
      " #   Column        Non-Null Count  Dtype   \n",
      "---  ------        --------------  -----   \n",
      " 0   id            200 non-null    int64   \n",
      " 1   lng84         200 non-null    object  \n",
      " 2   lat84         200 non-null    object  \n",
      " 3   area          200 non-null    int64   \n",
      " 4   geometry      200 non-null    geometry\n",
      " 5   line_name     200 non-null    object  \n",
      " 6   station_name  200 non-null    object  \n",
      " 7   lng           200 non-null    object  \n",
      " 8   lat           200 non-null    object  \n",
      "dtypes: geometry(1), int64(2), object(6)\n",
      "memory usage: 15.6+ KB\n"
     ]
    }
   ],
   "source": [
    "gz_area.info()"
   ]
  },
  {
   "cell_type": "code",
   "execution_count": 16,
   "metadata": {},
   "outputs": [],
   "source": [
    "gz_bus_station_count = gpd.sjoin(gz_bus_station, gz_area, how='right')\n",
    "gz_bus_station_count_test = gz_bus_station_count.groupby(['station_name'])['stop_id'].agg(busStop_Count='count').reset_index() "
   ]
  },
  {
   "cell_type": "code",
   "execution_count": 17,
   "metadata": {},
   "outputs": [],
   "source": [
    "gz_area = pd.merge(gz_area, gz_bus_station_count_test, on='station_name')"
   ]
  },
  {
   "cell_type": "code",
   "execution_count": 18,
   "metadata": {},
   "outputs": [],
   "source": [
    "#node2_service time\n",
    "gz_area = pd.merge(gz_area, gz_line, on='line_name')"
   ]
  },
  {
   "cell_type": "code",
   "execution_count": 19,
   "metadata": {},
   "outputs": [],
   "source": [
    "gz_area=gz_area.drop(['start_time','end_time','start_stop','end_stop','distance','basic_pric','total_pric','geometry_y'],axis=1)"
   ]
  },
  {
   "cell_type": "code",
   "execution_count": 20,
   "metadata": {},
   "outputs": [],
   "source": [
    "gz_area.rename(columns={\"geometry_x\":\"geometry\"},inplace=True)"
   ]
  },
  {
   "cell_type": "code",
   "execution_count": 21,
   "metadata": {},
   "outputs": [
    {
     "name": "stdout",
     "output_type": "stream",
     "text": [
      "<class 'geopandas.geodataframe.GeoDataFrame'>\n",
      "RangeIndex: 2937 entries, 0 to 2936\n",
      "Data columns (total 12 columns):\n",
      " #   Column      Non-Null Count  Dtype   \n",
      "---  ------      --------------  -----   \n",
      " 0   Id          2937 non-null   int64   \n",
      " 1   amap_id     2937 non-null   object  \n",
      " 2   name        2937 non-null   object  \n",
      " 3   type        2937 non-null   object  \n",
      " 4   startTime   2937 non-null   object  \n",
      " 5   endTime     2937 non-null   object  \n",
      " 6   company     2937 non-null   object  \n",
      " 7   distance    2937 non-null   float64 \n",
      " 8   basicPrice  2937 non-null   float64 \n",
      " 9   totalPrice  2937 non-null   float64 \n",
      " 10  stopsCnt    2937 non-null   int64   \n",
      " 11  geometry    2937 non-null   geometry\n",
      "dtypes: float64(3), geometry(1), int64(2), object(6)\n",
      "memory usage: 275.5+ KB\n"
     ]
    }
   ],
   "source": [
    "gz_bus_line.info()"
   ]
  },
  {
   "cell_type": "code",
   "execution_count": 22,
   "metadata": {},
   "outputs": [],
   "source": [
    "#NODE3 bus line density\n",
    "gz_busline_within_area = pd.read_csv('metro_data/广州/test.csv',low_memory=False, encoding=\"utf-8\",\n",
    "                 usecols=['station_na','LENGTH',\"COUNT\",\"id\"])\n",
    "area = pd.read_csv('metro_data/广州/area.csv',low_memory=False, encoding=\"utf-8\",\n",
    "                 usecols=['area',\"id\"])"
   ]
  },
  {
   "cell_type": "code",
   "execution_count": 23,
   "metadata": {},
   "outputs": [
    {
     "data": {
      "text/html": [
       "<div>\n",
       "<style scoped>\n",
       "    .dataframe tbody tr th:only-of-type {\n",
       "        vertical-align: middle;\n",
       "    }\n",
       "\n",
       "    .dataframe tbody tr th {\n",
       "        vertical-align: top;\n",
       "    }\n",
       "\n",
       "    .dataframe thead th {\n",
       "        text-align: right;\n",
       "    }\n",
       "</style>\n",
       "<table border=\"1\" class=\"dataframe\">\n",
       "  <thead>\n",
       "    <tr style=\"text-align: right;\">\n",
       "      <th></th>\n",
       "      <th>id</th>\n",
       "      <th>area</th>\n",
       "    </tr>\n",
       "  </thead>\n",
       "  <tbody>\n",
       "    <tr>\n",
       "      <th>0</th>\n",
       "      <td>1</td>\n",
       "      <td>1970009</td>\n",
       "    </tr>\n",
       "    <tr>\n",
       "      <th>1</th>\n",
       "      <td>2</td>\n",
       "      <td>2193001</td>\n",
       "    </tr>\n",
       "    <tr>\n",
       "      <th>2</th>\n",
       "      <td>3</td>\n",
       "      <td>2224351</td>\n",
       "    </tr>\n",
       "    <tr>\n",
       "      <th>3</th>\n",
       "      <td>4</td>\n",
       "      <td>2827239</td>\n",
       "    </tr>\n",
       "    <tr>\n",
       "      <th>4</th>\n",
       "      <td>5</td>\n",
       "      <td>2423683</td>\n",
       "    </tr>\n",
       "  </tbody>\n",
       "</table>\n",
       "</div>"
      ],
      "text/plain": [
       "   id     area\n",
       "0   1  1970009\n",
       "1   2  2193001\n",
       "2   3  2224351\n",
       "3   4  2827239\n",
       "4   5  2423683"
      ]
     },
     "execution_count": 23,
     "metadata": {},
     "output_type": "execute_result"
    }
   ],
   "source": [
    "area.head()"
   ]
  },
  {
   "cell_type": "code",
   "execution_count": 24,
   "metadata": {},
   "outputs": [],
   "source": [
    "area = pd.merge(area, gz_busline_within_area, on='id')"
   ]
  },
  {
   "cell_type": "code",
   "execution_count": 25,
   "metadata": {},
   "outputs": [
    {
     "name": "stdout",
     "output_type": "stream",
     "text": [
      "<class 'geopandas.geodataframe.GeoDataFrame'>\n",
      "Int64Index: 200 entries, 0 to 199\n",
      "Data columns (total 11 columns):\n",
      " #   Column         Non-Null Count  Dtype   \n",
      "---  ------         --------------  -----   \n",
      " 0   id             200 non-null    int64   \n",
      " 1   lng84          200 non-null    object  \n",
      " 2   lat84          200 non-null    object  \n",
      " 3   area           200 non-null    int64   \n",
      " 4   geometry       200 non-null    geometry\n",
      " 5   line_name      200 non-null    object  \n",
      " 6   station_name   200 non-null    object  \n",
      " 7   lng            200 non-null    object  \n",
      " 8   lat            200 non-null    object  \n",
      " 9   busStop_Count  200 non-null    int64   \n",
      " 10  service_time   200 non-null    object  \n",
      "dtypes: geometry(1), int64(3), object(7)\n",
      "memory usage: 18.8+ KB\n"
     ]
    }
   ],
   "source": [
    "gz_area.info()"
   ]
  },
  {
   "cell_type": "code",
   "execution_count": 26,
   "metadata": {},
   "outputs": [],
   "source": [
    "gz_area =gz_area.astype({\"lng84\":'float', \"lat84\":'float',\"line_name\":'string',\"station_name\":'string',\"service_time\":'int'})"
   ]
  },
  {
   "cell_type": "code",
   "execution_count": 27,
   "metadata": {},
   "outputs": [],
   "source": [
    "area['busLine_Density']=area.area/area.LENGTH"
   ]
  },
  {
   "cell_type": "code",
   "execution_count": 28,
   "metadata": {},
   "outputs": [],
   "source": [
    "gz_area = pd.merge(gz_area, area, on='id')"
   ]
  },
  {
   "cell_type": "code",
   "execution_count": 29,
   "metadata": {},
   "outputs": [
    {
     "name": "stdout",
     "output_type": "stream",
     "text": [
      "<class 'geopandas.geodataframe.GeoDataFrame'>\n",
      "Int64Index: 200 entries, 0 to 199\n",
      "Data columns (total 16 columns):\n",
      " #   Column           Non-Null Count  Dtype   \n",
      "---  ------           --------------  -----   \n",
      " 0   id               200 non-null    int64   \n",
      " 1   lng84            200 non-null    float64 \n",
      " 2   lat84            200 non-null    float64 \n",
      " 3   area_x           200 non-null    int64   \n",
      " 4   geometry         200 non-null    geometry\n",
      " 5   line_name        200 non-null    string  \n",
      " 6   station_name     200 non-null    string  \n",
      " 7   lng              200 non-null    object  \n",
      " 8   lat              200 non-null    object  \n",
      " 9   busStop_Count    200 non-null    int64   \n",
      " 10  service_time     200 non-null    int64   \n",
      " 11  area_y           200 non-null    int64   \n",
      " 12  station_na       200 non-null    object  \n",
      " 13  LENGTH           200 non-null    float64 \n",
      " 14  COUNT            200 non-null    int64   \n",
      " 15  busLine_Density  200 non-null    float64 \n",
      "dtypes: float64(4), geometry(1), int64(6), object(3), string(2)\n",
      "memory usage: 26.6+ KB\n"
     ]
    }
   ],
   "source": [
    "gz_area.info()"
   ]
  },
  {
   "cell_type": "code",
   "execution_count": 30,
   "metadata": {},
   "outputs": [],
   "source": [
    "gz_area= gz_area.drop(['station_na','LENGTH','COUNT'],axis=1)"
   ]
  },
  {
   "cell_type": "code",
   "execution_count": 31,
   "metadata": {},
   "outputs": [],
   "source": [
    "#NODE4 service direction number\n",
    "gz_area['Service_direction']=1"
   ]
  },
  {
   "cell_type": "code",
   "execution_count": 32,
   "metadata": {},
   "outputs": [
    {
     "name": "stdout",
     "output_type": "stream",
     "text": [
      "<class 'geopandas.geodataframe.GeoDataFrame'>\n",
      "Int64Index: 200 entries, 0 to 199\n",
      "Data columns (total 14 columns):\n",
      " #   Column             Non-Null Count  Dtype   \n",
      "---  ------             --------------  -----   \n",
      " 0   id                 200 non-null    int64   \n",
      " 1   lng84              200 non-null    float64 \n",
      " 2   lat84              200 non-null    float64 \n",
      " 3   area_x             200 non-null    int64   \n",
      " 4   geometry           200 non-null    geometry\n",
      " 5   line_name          200 non-null    string  \n",
      " 6   station_name       200 non-null    string  \n",
      " 7   lng                200 non-null    object  \n",
      " 8   lat                200 non-null    object  \n",
      " 9   busStop_Count      200 non-null    int64   \n",
      " 10  service_time       200 non-null    int64   \n",
      " 11  area_y             200 non-null    int64   \n",
      " 12  busLine_Density    200 non-null    float64 \n",
      " 13  Service_direction  200 non-null    int64   \n",
      "dtypes: float64(3), geometry(1), int64(6), object(2), string(2)\n",
      "memory usage: 23.4+ KB\n"
     ]
    }
   ],
   "source": [
    "gz_area.info()"
   ]
  },
  {
   "cell_type": "code",
   "execution_count": 33,
   "metadata": {},
   "outputs": [
    {
     "name": "stderr",
     "output_type": "stream",
     "text": [
      "/opt/conda/envs/sds2020/lib/python3.7/site-packages/ipykernel_launcher.py:4: SettingWithCopyWarning: \n",
      "A value is trying to be set on a copy of a slice from a DataFrame\n",
      "\n",
      "See the caveats in the documentation: https://pandas.pydata.org/pandas-docs/stable/user_guide/indexing.html#returning-a-view-versus-a-copy\n",
      "  after removing the cwd from sys.path.\n",
      "/opt/conda/envs/sds2020/lib/python3.7/site-packages/pandas/core/indexing.py:670: SettingWithCopyWarning: \n",
      "A value is trying to be set on a copy of a slice from a DataFrame\n",
      "\n",
      "See the caveats in the documentation: https://pandas.pydata.org/pandas-docs/stable/user_guide/indexing.html#returning-a-view-versus-a-copy\n",
      "  iloc._setitem_with_indexer(indexer, value)\n"
     ]
    }
   ],
   "source": [
    "station_list=['公园前','体育西路','广州东站','杨箕','黄沙','东山口','陈家祠','西塱','广州火车站','海珠广场','石壁','广州南站','昌岗','南洲','珠江新城','燕塘','天河客运站','汉溪长隆'\n",
    "             ,'客村','高增','沥滘','林和西','广州塔','车陂南','大学城南','万胜围','黄村','坦尾','区庄','鱼珠','员村','文化公园','苏元','沙园','镇龙']\n",
    "for i in station_list:\n",
    "    gz_area.Service_direction[gz_area[gz_area['station_name']==i]['Service_direction'].index.values]=2"
   ]
  },
  {
   "cell_type": "code",
   "execution_count": 34,
   "metadata": {},
   "outputs": [
    {
     "name": "stderr",
     "output_type": "stream",
     "text": [
      "/opt/conda/envs/sds2020/lib/python3.7/site-packages/ipykernel_launcher.py:1: SettingWithCopyWarning: \n",
      "A value is trying to be set on a copy of a slice from a DataFrame\n",
      "\n",
      "See the caveats in the documentation: https://pandas.pydata.org/pandas-docs/stable/user_guide/indexing.html#returning-a-view-versus-a-copy\n",
      "  \"\"\"Entry point for launching an IPython kernel.\n"
     ]
    }
   ],
   "source": [
    "gz_area.Service_direction[gz_area[gz_area['station_name']=='嘉禾望岗']['Service_direction'].index.values]=3"
   ]
  },
  {
   "cell_type": "code",
   "execution_count": 35,
   "metadata": {},
   "outputs": [],
   "source": [
    "#place1-poi_count\n",
    "gz_poi_total=gpd.read_file('metro_data/广州/poi_total.shp',encoding=\"utf-8\")"
   ]
  },
  {
   "cell_type": "code",
   "execution_count": 36,
   "metadata": {},
   "outputs": [],
   "source": [
    "gz_area2=gz_area.copy()"
   ]
  },
  {
   "cell_type": "code",
   "execution_count": 37,
   "metadata": {},
   "outputs": [],
   "source": [
    "gz_poi_total_count = gpd.sjoin(gz_poi_total, gz_area2, how='right')\n",
    "gz_poi_total_count_test = gz_poi_total_count.groupby(['station_name'])['gml_id'].agg(poi_Count='count').reset_index() "
   ]
  },
  {
   "cell_type": "code",
   "execution_count": 38,
   "metadata": {},
   "outputs": [
    {
     "data": {
      "text/html": [
       "<div>\n",
       "<style scoped>\n",
       "    .dataframe tbody tr th:only-of-type {\n",
       "        vertical-align: middle;\n",
       "    }\n",
       "\n",
       "    .dataframe tbody tr th {\n",
       "        vertical-align: top;\n",
       "    }\n",
       "\n",
       "    .dataframe thead th {\n",
       "        text-align: right;\n",
       "    }\n",
       "</style>\n",
       "<table border=\"1\" class=\"dataframe\">\n",
       "  <thead>\n",
       "    <tr style=\"text-align: right;\">\n",
       "      <th></th>\n",
       "      <th>station_name</th>\n",
       "      <th>poi_Count</th>\n",
       "    </tr>\n",
       "  </thead>\n",
       "  <tbody>\n",
       "    <tr>\n",
       "      <th>0</th>\n",
       "      <td>一德路</td>\n",
       "      <td>2763</td>\n",
       "    </tr>\n",
       "    <tr>\n",
       "      <th>1</th>\n",
       "      <td>万胜围</td>\n",
       "      <td>21</td>\n",
       "    </tr>\n",
       "    <tr>\n",
       "      <th>2</th>\n",
       "      <td>三溪</td>\n",
       "      <td>316</td>\n",
       "    </tr>\n",
       "    <tr>\n",
       "      <th>3</th>\n",
       "      <td>上步</td>\n",
       "      <td>448</td>\n",
       "    </tr>\n",
       "    <tr>\n",
       "      <th>4</th>\n",
       "      <td>东圃</td>\n",
       "      <td>151</td>\n",
       "    </tr>\n",
       "  </tbody>\n",
       "</table>\n",
       "</div>"
      ],
      "text/plain": [
       "  station_name  poi_Count\n",
       "0          一德路       2763\n",
       "1          万胜围         21\n",
       "2           三溪        316\n",
       "3           上步        448\n",
       "4           东圃        151"
      ]
     },
     "execution_count": 38,
     "metadata": {},
     "output_type": "execute_result"
    }
   ],
   "source": [
    "gz_poi_total_count_test.head()"
   ]
  },
  {
   "cell_type": "code",
   "execution_count": 39,
   "metadata": {},
   "outputs": [],
   "source": [
    "gz_area = pd.merge(gz_area, gz_poi_total_count_test, on='station_name')"
   ]
  },
  {
   "cell_type": "code",
   "execution_count": 40,
   "metadata": {},
   "outputs": [
    {
     "name": "stdout",
     "output_type": "stream",
     "text": [
      "<class 'geopandas.geodataframe.GeoDataFrame'>\n",
      "Int64Index: 200 entries, 0 to 199\n",
      "Data columns (total 15 columns):\n",
      " #   Column             Non-Null Count  Dtype   \n",
      "---  ------             --------------  -----   \n",
      " 0   id                 200 non-null    int64   \n",
      " 1   lng84              200 non-null    float64 \n",
      " 2   lat84              200 non-null    float64 \n",
      " 3   area_x             200 non-null    int64   \n",
      " 4   geometry           200 non-null    geometry\n",
      " 5   line_name          200 non-null    string  \n",
      " 6   station_name       200 non-null    object  \n",
      " 7   lng                200 non-null    object  \n",
      " 8   lat                200 non-null    object  \n",
      " 9   busStop_Count      200 non-null    int64   \n",
      " 10  service_time       200 non-null    int64   \n",
      " 11  area_y             200 non-null    int64   \n",
      " 12  busLine_Density    200 non-null    float64 \n",
      " 13  Service_direction  200 non-null    int64   \n",
      " 14  poi_Count          200 non-null    int64   \n",
      "dtypes: float64(3), geometry(1), int64(7), object(3), string(1)\n",
      "memory usage: 25.0+ KB\n"
     ]
    }
   ],
   "source": [
    "gz_area.info()"
   ]
  },
  {
   "cell_type": "code",
   "execution_count": 41,
   "metadata": {},
   "outputs": [],
   "source": [
    "#place2-Simpson Diversity Index(poi)"
   ]
  },
  {
   "cell_type": "code",
   "execution_count": 42,
   "metadata": {},
   "outputs": [],
   "source": [
    "def simpson_di(data):\n",
    "\n",
    "    \"\"\" Given a hash { 'species': count } , returns the Simpson Diversity Index\n",
    "    \n",
    "    >>> simpson_di({'a': 10, 'b': 20, 'c': 30,})\n",
    "    0.3888888888888889\n",
    "    \"\"\"\n",
    "\n",
    "    N = sum(data.values())\n",
    "    \n",
    "    def p(n, N):\n",
    "        \"\"\" Relative abundance \"\"\"\n",
    "        if n is  0:\n",
    "            return 0\n",
    "        else:\n",
    "            return (float(n)*(n-1))/(N*(N-1))\n",
    "\n",
    "    \n",
    "    return 1-sum(p(n, N) for n in data.values() if n is not 0)"
   ]
  },
  {
   "cell_type": "code",
   "execution_count": 43,
   "metadata": {},
   "outputs": [
    {
     "data": {
      "text/plain": [
       "0.6"
      ]
     },
     "execution_count": 43,
     "metadata": {},
     "output_type": "execute_result"
    }
   ],
   "source": [
    "simpson_di({'a':3,'b':2,'c':0})"
   ]
  },
  {
   "cell_type": "code",
   "execution_count": 44,
   "metadata": {},
   "outputs": [],
   "source": [
    "gz_poi_cy=gpd.read_file('metro_data/广州/poi/广州市_餐饮.shp',encoding=\"utf-8\")\n",
    "gz_poi_total_count = gpd.sjoin(gz_poi_cy, gz_area2, how='right')\n",
    "gz_poi_total_count_test = gz_poi_total_count.groupby(['station_name'])['gml_id'].agg(cy_Count='count').reset_index()\n",
    "gz_area2 = pd.merge(gz_area2, gz_poi_total_count_test, on='station_name')"
   ]
  },
  {
   "cell_type": "code",
   "execution_count": 45,
   "metadata": {},
   "outputs": [],
   "source": [
    "gz_poi_ds=gpd.read_file('metro_data/广州/poi/广州市_大厦.shp',encoding=\"utf-8\")\n",
    "gz_poi_total_count = gpd.sjoin(gz_poi_ds, gz_area2, how='right')\n",
    "gz_poi_total_count_test = gz_poi_total_count.groupby(['station_name'])['gml_id'].agg(ds_Count='count').reset_index()\n",
    "gz_area2 = pd.merge(gz_area2, gz_poi_total_count_test, on='station_name')"
   ]
  },
  {
   "cell_type": "code",
   "execution_count": 46,
   "metadata": {},
   "outputs": [],
   "source": [
    "gz_poi_mall=gpd.read_file('metro_data/广州/poi/广州市_大型购物广场.shp',encoding=\"utf-8\")\n",
    "gz_poi_total_count = gpd.sjoin(gz_poi_mall, gz_area2, how='right')\n",
    "gz_poi_total_count_test = gz_poi_total_count.groupby(['station_name'])['gml_id'].agg(mall_Count='count').reset_index()\n",
    "gz_area2 = pd.merge(gz_area2, gz_poi_total_count_test, on='station_name')"
   ]
  },
  {
   "cell_type": "code",
   "execution_count": 47,
   "metadata": {},
   "outputs": [],
   "source": [
    "gz_poi_gw=gpd.read_file('metro_data/广州/poi/广州市_购物.shp',encoding=\"utf-8\")\n",
    "gz_poi_total_count = gpd.sjoin(gz_poi_gw, gz_area2, how='right')\n",
    "gz_poi_total_count_test = gz_poi_total_count.groupby(['station_name'])['gml_id'].agg(gw_Count='count').reset_index()\n",
    "gz_area2 = pd.merge(gz_area2, gz_poi_total_count_test, on='station_name')"
   ]
  },
  {
   "cell_type": "code",
   "execution_count": 48,
   "metadata": {},
   "outputs": [],
   "source": [
    "gz_poi_jr=gpd.read_file('metro_data/广州/poi/广州市_金融服务.shp',encoding=\"utf-8\")\n",
    "gz_poi_total_count = gpd.sjoin(gz_poi_jr, gz_area2, how='right')\n",
    "gz_poi_total_count_test = gz_poi_total_count.groupby(['station_name'])['gml_id'].agg(jr_Count='count').reset_index()\n",
    "gz_area2 = pd.merge(gz_area2, gz_poi_total_count_test, on='station_name')"
   ]
  },
  {
   "cell_type": "code",
   "execution_count": 49,
   "metadata": {},
   "outputs": [],
   "source": [
    "gz_poi_ky=gpd.read_file('metro_data/广州/poi/广州市_科研教育.shp',encoding=\"utf-8\")\n",
    "gz_poi_total_count = gpd.sjoin(gz_poi_ky, gz_area2, how='right')\n",
    "gz_poi_total_count_test = gz_poi_total_count.groupby(['station_name'])['gml_id'].agg(ky_Count='count').reset_index()\n",
    "gz_area2 = pd.merge(gz_area2, gz_poi_total_count_test, on='station_name')"
   ]
  },
  {
   "cell_type": "code",
   "execution_count": 50,
   "metadata": {},
   "outputs": [],
   "source": [
    "gz_poi_ly=gpd.read_file('metro_data/广州/poi/广州市_旅游.shp',encoding=\"utf-8\")\n",
    "gz_poi_total_count = gpd.sjoin(gz_poi_ly, gz_area2, how='right')\n",
    "gz_poi_total_count_test = gz_poi_total_count.groupby(['station_name'])['gml_id'].agg(ly_Count='count').reset_index()\n",
    "gz_area2 = pd.merge(gz_area2, gz_poi_total_count_test, on='station_name')"
   ]
  },
  {
   "cell_type": "code",
   "execution_count": 51,
   "metadata": {},
   "outputs": [],
   "source": [
    "gz_poi_xs=gpd.read_file('metro_data/广州/poi/广州市_休闲娱乐.shp',encoding=\"utf-8\")\n",
    "gz_poi_total_count = gpd.sjoin(gz_poi_xs, gz_area2, how='right')\n",
    "gz_poi_total_count_test = gz_poi_total_count.groupby(['station_name'])['gml_id'].agg(xs_Count='count').reset_index()\n",
    "gz_area2 = pd.merge(gz_area2, gz_poi_total_count_test, on='station_name')"
   ]
  },
  {
   "cell_type": "code",
   "execution_count": 52,
   "metadata": {},
   "outputs": [],
   "source": [
    "gz_poi_zf=gpd.read_file('metro_data/广州/poi/广州市_政府机关.shp',encoding=\"utf-8\")\n",
    "gz_poi_total_count = gpd.sjoin(gz_poi_zf, gz_area2, how='right')\n",
    "gz_poi_total_count_test = gz_poi_total_count.groupby(['station_name'])['gml_id'].agg(zf_Count='count').reset_index()\n",
    "gz_area2 = pd.merge(gz_area2, gz_poi_total_count_test, on='station_name')"
   ]
  },
  {
   "cell_type": "code",
   "execution_count": 53,
   "metadata": {},
   "outputs": [],
   "source": [
    "gz_poi_zs=gpd.read_file('metro_data/广州/poi/广州市_住宿.shp',encoding=\"utf-8\")\n",
    "gz_poi_total_count = gpd.sjoin(gz_poi_zs, gz_area2, how='right')\n",
    "gz_poi_total_count_test = gz_poi_total_count.groupby(['station_name'])['gml_id'].agg(zs_Count='count').reset_index()\n",
    "gz_area2 = pd.merge(gz_area2, gz_poi_total_count_test, on='station_name')"
   ]
  },
  {
   "cell_type": "code",
   "execution_count": 54,
   "metadata": {},
   "outputs": [],
   "source": [
    "gz_poi_zj=gpd.read_file('metro_data/广州/poi/广州市_宗教点.shp',encoding=\"utf-8\")\n",
    "gz_poi_total_count = gpd.sjoin(gz_poi_zj, gz_area2, how='right')\n",
    "gz_poi_total_count_test = gz_poi_total_count.groupby(['station_name'])['gml_id'].agg(zj_Count='count').reset_index()\n",
    "gz_area2 = pd.merge(gz_area2, gz_poi_total_count_test, on='station_name')"
   ]
  },
  {
   "cell_type": "code",
   "execution_count": 55,
   "metadata": {},
   "outputs": [
    {
     "data": {
      "text/html": [
       "<div>\n",
       "<style scoped>\n",
       "    .dataframe tbody tr th:only-of-type {\n",
       "        vertical-align: middle;\n",
       "    }\n",
       "\n",
       "    .dataframe tbody tr th {\n",
       "        vertical-align: top;\n",
       "    }\n",
       "\n",
       "    .dataframe thead th {\n",
       "        text-align: right;\n",
       "    }\n",
       "</style>\n",
       "<table border=\"1\" class=\"dataframe\">\n",
       "  <thead>\n",
       "    <tr style=\"text-align: right;\">\n",
       "      <th></th>\n",
       "      <th>id</th>\n",
       "      <th>lng84</th>\n",
       "      <th>lat84</th>\n",
       "      <th>area_x</th>\n",
       "      <th>geometry</th>\n",
       "      <th>line_name</th>\n",
       "      <th>station_name</th>\n",
       "      <th>lng</th>\n",
       "      <th>lat</th>\n",
       "      <th>busStop_Count</th>\n",
       "      <th>...</th>\n",
       "      <th>ds_Count</th>\n",
       "      <th>mall_Count</th>\n",
       "      <th>gw_Count</th>\n",
       "      <th>jr_Count</th>\n",
       "      <th>ky_Count</th>\n",
       "      <th>ly_Count</th>\n",
       "      <th>xs_Count</th>\n",
       "      <th>zf_Count</th>\n",
       "      <th>zs_Count</th>\n",
       "      <th>zj_Count</th>\n",
       "    </tr>\n",
       "  </thead>\n",
       "  <tbody>\n",
       "    <tr>\n",
       "      <th>0</th>\n",
       "      <td>1</td>\n",
       "      <td>113.2267</td>\n",
       "      <td>23.0681</td>\n",
       "      <td>1970009</td>\n",
       "      <td>POLYGON ((113.22565 23.07944, 113.22765 23.076...</td>\n",
       "      <td>地铁1号线(西塱--广州东站)</td>\n",
       "      <td>西塱</td>\n",
       "      <td>113.231978</td>\n",
       "      <td>23.065437</td>\n",
       "      <td>266</td>\n",
       "      <td>...</td>\n",
       "      <td>3</td>\n",
       "      <td>9</td>\n",
       "      <td>111</td>\n",
       "      <td>10</td>\n",
       "      <td>18</td>\n",
       "      <td>0</td>\n",
       "      <td>18</td>\n",
       "      <td>2</td>\n",
       "      <td>6</td>\n",
       "      <td>0</td>\n",
       "    </tr>\n",
       "    <tr>\n",
       "      <th>1</th>\n",
       "      <td>2</td>\n",
       "      <td>113.2272</td>\n",
       "      <td>23.0816</td>\n",
       "      <td>2193001</td>\n",
       "      <td>POLYGON ((113.22817 23.09182, 113.22957 23.090...</td>\n",
       "      <td>地铁1号线(西塱--广州东站)</td>\n",
       "      <td>坑口</td>\n",
       "      <td>113.232498</td>\n",
       "      <td>23.078878</td>\n",
       "      <td>314</td>\n",
       "      <td>...</td>\n",
       "      <td>8</td>\n",
       "      <td>8</td>\n",
       "      <td>342</td>\n",
       "      <td>26</td>\n",
       "      <td>19</td>\n",
       "      <td>0</td>\n",
       "      <td>37</td>\n",
       "      <td>16</td>\n",
       "      <td>4</td>\n",
       "      <td>0</td>\n",
       "    </tr>\n",
       "    <tr>\n",
       "      <th>2</th>\n",
       "      <td>3</td>\n",
       "      <td>113.2287</td>\n",
       "      <td>23.0897</td>\n",
       "      <td>2224351</td>\n",
       "      <td>POLYGON ((113.23071 23.10102, 113.23018 23.099...</td>\n",
       "      <td>地铁1号线(西塱--广州东站)</td>\n",
       "      <td>花地湾</td>\n",
       "      <td>113.23403</td>\n",
       "      <td>23.087055</td>\n",
       "      <td>403</td>\n",
       "      <td>...</td>\n",
       "      <td>12</td>\n",
       "      <td>25</td>\n",
       "      <td>602</td>\n",
       "      <td>43</td>\n",
       "      <td>30</td>\n",
       "      <td>0</td>\n",
       "      <td>93</td>\n",
       "      <td>20</td>\n",
       "      <td>16</td>\n",
       "      <td>0</td>\n",
       "    </tr>\n",
       "    <tr>\n",
       "      <th>3</th>\n",
       "      <td>4</td>\n",
       "      <td>113.2304</td>\n",
       "      <td>23.1013</td>\n",
       "      <td>2827239</td>\n",
       "      <td>POLYGON ((113.22538 23.10876, 113.22616 23.107...</td>\n",
       "      <td>地铁1号线(西塱--广州东站)</td>\n",
       "      <td>芳村</td>\n",
       "      <td>113.235703</td>\n",
       "      <td>23.098592</td>\n",
       "      <td>468</td>\n",
       "      <td>...</td>\n",
       "      <td>9</td>\n",
       "      <td>28</td>\n",
       "      <td>742</td>\n",
       "      <td>54</td>\n",
       "      <td>49</td>\n",
       "      <td>6</td>\n",
       "      <td>115</td>\n",
       "      <td>16</td>\n",
       "      <td>27</td>\n",
       "      <td>0</td>\n",
       "    </tr>\n",
       "    <tr>\n",
       "      <th>4</th>\n",
       "      <td>5</td>\n",
       "      <td>113.2345</td>\n",
       "      <td>23.1132</td>\n",
       "      <td>2423683</td>\n",
       "      <td>POLYGON ((113.23753 23.12345, 113.23795 23.122...</td>\n",
       "      <td>地铁1号线(西塱--广州东站)</td>\n",
       "      <td>黄沙</td>\n",
       "      <td>113.239856</td>\n",
       "      <td>23.110524</td>\n",
       "      <td>340</td>\n",
       "      <td>...</td>\n",
       "      <td>6</td>\n",
       "      <td>27</td>\n",
       "      <td>991</td>\n",
       "      <td>79</td>\n",
       "      <td>44</td>\n",
       "      <td>13</td>\n",
       "      <td>134</td>\n",
       "      <td>53</td>\n",
       "      <td>45</td>\n",
       "      <td>0</td>\n",
       "    </tr>\n",
       "  </tbody>\n",
       "</table>\n",
       "<p>5 rows × 25 columns</p>\n",
       "</div>"
      ],
      "text/plain": [
       "   id                                    lng84  \\\n",
       "0   1                                 113.2267   \n",
       "1   2                                 113.2272   \n",
       "2   3                                 113.2287   \n",
       "3   4                                 113.2304   \n",
       "4   5                                 113.2345   \n",
       "\n",
       "                                     lat84   area_x  \\\n",
       "0                                  23.0681  1970009   \n",
       "1                                  23.0816  2193001   \n",
       "2                                  23.0897  2224351   \n",
       "3                                  23.1013  2827239   \n",
       "4                                  23.1132  2423683   \n",
       "\n",
       "                                            geometry        line_name  \\\n",
       "0  POLYGON ((113.22565 23.07944, 113.22765 23.076...  地铁1号线(西塱--广州东站)   \n",
       "1  POLYGON ((113.22817 23.09182, 113.22957 23.090...  地铁1号线(西塱--广州东站)   \n",
       "2  POLYGON ((113.23071 23.10102, 113.23018 23.099...  地铁1号线(西塱--广州东站)   \n",
       "3  POLYGON ((113.22538 23.10876, 113.22616 23.107...  地铁1号线(西塱--广州东站)   \n",
       "4  POLYGON ((113.23753 23.12345, 113.23795 23.122...  地铁1号线(西塱--广州东站)   \n",
       "\n",
       "  station_name         lng        lat  busStop_Count  ...  ds_Count  \\\n",
       "0           西塱  113.231978  23.065437            266  ...         3   \n",
       "1           坑口  113.232498  23.078878            314  ...         8   \n",
       "2          花地湾   113.23403  23.087055            403  ...        12   \n",
       "3           芳村  113.235703  23.098592            468  ...         9   \n",
       "4           黄沙  113.239856  23.110524            340  ...         6   \n",
       "\n",
       "   mall_Count  gw_Count  jr_Count  ky_Count  ly_Count  xs_Count  zf_Count  \\\n",
       "0           9       111        10        18         0        18         2   \n",
       "1           8       342        26        19         0        37        16   \n",
       "2          25       602        43        30         0        93        20   \n",
       "3          28       742        54        49         6       115        16   \n",
       "4          27       991        79        44        13       134        53   \n",
       "\n",
       "   zs_Count  zj_Count  \n",
       "0         6         0  \n",
       "1         4         0  \n",
       "2        16         0  \n",
       "3        27         0  \n",
       "4        45         0  \n",
       "\n",
       "[5 rows x 25 columns]"
      ]
     },
     "execution_count": 55,
     "metadata": {},
     "output_type": "execute_result"
    }
   ],
   "source": [
    "gz_area2.head()"
   ]
  },
  {
   "cell_type": "code",
   "execution_count": 56,
   "metadata": {},
   "outputs": [
    {
     "name": "stdout",
     "output_type": "stream",
     "text": [
      "<class 'geopandas.geodataframe.GeoDataFrame'>\n",
      "Int64Index: 200 entries, 0 to 199\n",
      "Data columns (total 15 columns):\n",
      " #   Column             Non-Null Count  Dtype   \n",
      "---  ------             --------------  -----   \n",
      " 0   id                 200 non-null    int64   \n",
      " 1   lng84              200 non-null    float64 \n",
      " 2   lat84              200 non-null    float64 \n",
      " 3   area_x             200 non-null    int64   \n",
      " 4   geometry           200 non-null    geometry\n",
      " 5   line_name          200 non-null    string  \n",
      " 6   station_name       200 non-null    object  \n",
      " 7   lng                200 non-null    object  \n",
      " 8   lat                200 non-null    object  \n",
      " 9   busStop_Count      200 non-null    int64   \n",
      " 10  service_time       200 non-null    int64   \n",
      " 11  area_y             200 non-null    int64   \n",
      " 12  busLine_Density    200 non-null    float64 \n",
      " 13  Service_direction  200 non-null    int64   \n",
      " 14  poi_Count          200 non-null    int64   \n",
      "dtypes: float64(3), geometry(1), int64(7), object(3), string(1)\n",
      "memory usage: 25.0+ KB\n"
     ]
    }
   ],
   "source": [
    "gz_area.info()"
   ]
  },
  {
   "cell_type": "code",
   "execution_count": 57,
   "metadata": {},
   "outputs": [],
   "source": [
    "gz_area['poi_Diversity']=0.1"
   ]
  },
  {
   "cell_type": "code",
   "execution_count": 58,
   "metadata": {},
   "outputs": [
    {
     "name": "stderr",
     "output_type": "stream",
     "text": [
      "/opt/conda/envs/sds2020/lib/python3.7/site-packages/ipykernel_launcher.py:6: SettingWithCopyWarning: \n",
      "A value is trying to be set on a copy of a slice from a DataFrame\n",
      "\n",
      "See the caveats in the documentation: https://pandas.pydata.org/pandas-docs/stable/user_guide/indexing.html#returning-a-view-versus-a-copy\n",
      "  \n",
      "/opt/conda/envs/sds2020/lib/python3.7/site-packages/ipykernel_launcher.py:16: RuntimeWarning: invalid value encountered in double_scalars\n",
      "  app.launch_new_instance()\n"
     ]
    }
   ],
   "source": [
    "for i in range(0,199):\n",
    "    poi_dic={'a':gz_area2['cy_Count'][i],'b':gz_area2['ds_Count'][i],'c':gz_area2['mall_Count'][i],\n",
    "             'd':gz_area2['gw_Count'][i],'e':gz_area2['jr_Count'][i],'f':gz_area2['ky_Count'][i],\n",
    "             'g':gz_area2['ly_Count'][i],'h':gz_area2['xs_Count'][i],'i':gz_area2['zf_Count'][i],\n",
    "             'j':gz_area2['zs_Count'][i],'k':gz_area2['zj_Count'][i]}\n",
    "    gz_area['poi_Diversity'][i]=simpson_di(poi_dic)"
   ]
  },
  {
   "cell_type": "code",
   "execution_count": 59,
   "metadata": {},
   "outputs": [],
   "source": [
    "gz_area['poi_Diversity'] = gz_area['poi_Diversity'].fillna(0)"
   ]
  },
  {
   "cell_type": "code",
   "execution_count": 60,
   "metadata": {},
   "outputs": [],
   "source": [
    "#Settlement1 community_center count\n",
    "gz_poi_community=gpd.read_file('metro_data/广州/poi/广州市_居委会点.shp',encoding=\"utf-8\")\n",
    "gz_poi_total_count = gpd.sjoin(gz_poi_community, gz_area2, how='right')\n",
    "gz_poi_total_count_test = gz_poi_total_count.groupby(['station_name'])['gml_id'].agg(community_Count='count').reset_index()\n",
    "gz_area = pd.merge(gz_area, gz_poi_total_count_test, on='station_name')"
   ]
  },
  {
   "cell_type": "code",
   "execution_count": 61,
   "metadata": {},
   "outputs": [],
   "source": [
    "#Settlement2 residence count\n",
    "gz_poi_residence=gpd.read_file('metro_data/广州/poi/广州市_居民小区点.shp',encoding=\"utf-8\")\n",
    "gz_poi_total_count = gpd.sjoin(gz_poi_community, gz_area2, how='right')\n",
    "gz_poi_total_count_test = gz_poi_total_count.groupby(['station_name'])['gml_id'].agg(residence_Count='count').reset_index()\n",
    "gz_area = pd.merge(gz_area, gz_poi_total_count_test, on='station_name')"
   ]
  },
  {
   "cell_type": "code",
   "execution_count": 62,
   "metadata": {},
   "outputs": [
    {
     "name": "stdout",
     "output_type": "stream",
     "text": [
      "<class 'geopandas.geodataframe.GeoDataFrame'>\n",
      "Int64Index: 200 entries, 0 to 199\n",
      "Data columns (total 18 columns):\n",
      " #   Column             Non-Null Count  Dtype   \n",
      "---  ------             --------------  -----   \n",
      " 0   id                 200 non-null    int64   \n",
      " 1   lng84              200 non-null    float64 \n",
      " 2   lat84              200 non-null    float64 \n",
      " 3   area_x             200 non-null    int64   \n",
      " 4   geometry           200 non-null    geometry\n",
      " 5   line_name          200 non-null    string  \n",
      " 6   station_name       200 non-null    object  \n",
      " 7   lng                200 non-null    object  \n",
      " 8   lat                200 non-null    object  \n",
      " 9   busStop_Count      200 non-null    int64   \n",
      " 10  service_time       200 non-null    int64   \n",
      " 11  area_y             200 non-null    int64   \n",
      " 12  busLine_Density    200 non-null    float64 \n",
      " 13  Service_direction  200 non-null    int64   \n",
      " 14  poi_Count          200 non-null    int64   \n",
      " 15  poi_Diversity      200 non-null    float64 \n",
      " 16  community_Count    200 non-null    int64   \n",
      " 17  residence_Count    200 non-null    int64   \n",
      "dtypes: float64(4), geometry(1), int64(9), object(3), string(1)\n",
      "memory usage: 29.7+ KB\n"
     ]
    }
   ],
   "source": [
    "gz_area.info()"
   ]
  },
  {
   "cell_type": "code",
   "execution_count": 63,
   "metadata": {},
   "outputs": [],
   "source": [
    "#container1 building height\n",
    "gz_building_within_area = pd.read_csv('metro_data/广州/building_area.csv',low_memory=False, encoding=\"utf-8\",\n",
    "                 usecols=['height','build_area',\"id\",'area'])"
   ]
  },
  {
   "cell_type": "code",
   "execution_count": 64,
   "metadata": {},
   "outputs": [
    {
     "data": {
      "text/html": [
       "<div>\n",
       "<style scoped>\n",
       "    .dataframe tbody tr th:only-of-type {\n",
       "        vertical-align: middle;\n",
       "    }\n",
       "\n",
       "    .dataframe tbody tr th {\n",
       "        vertical-align: top;\n",
       "    }\n",
       "\n",
       "    .dataframe thead th {\n",
       "        text-align: right;\n",
       "    }\n",
       "</style>\n",
       "<table border=\"1\" class=\"dataframe\">\n",
       "  <thead>\n",
       "    <tr style=\"text-align: right;\">\n",
       "      <th></th>\n",
       "      <th>height</th>\n",
       "      <th>id</th>\n",
       "      <th>area</th>\n",
       "      <th>build_area</th>\n",
       "    </tr>\n",
       "  </thead>\n",
       "  <tbody>\n",
       "    <tr>\n",
       "      <th>0</th>\n",
       "      <td>12.0000</td>\n",
       "      <td>151</td>\n",
       "      <td>3135172</td>\n",
       "      <td>531.8490</td>\n",
       "    </tr>\n",
       "    <tr>\n",
       "      <th>1</th>\n",
       "      <td>36.0000</td>\n",
       "      <td>151</td>\n",
       "      <td>3135172</td>\n",
       "      <td>565.1530</td>\n",
       "    </tr>\n",
       "    <tr>\n",
       "      <th>2</th>\n",
       "      <td>12.0000</td>\n",
       "      <td>151</td>\n",
       "      <td>3135172</td>\n",
       "      <td>262.2590</td>\n",
       "    </tr>\n",
       "    <tr>\n",
       "      <th>3</th>\n",
       "      <td>12.0000</td>\n",
       "      <td>151</td>\n",
       "      <td>3135172</td>\n",
       "      <td>1,359.2120</td>\n",
       "    </tr>\n",
       "    <tr>\n",
       "      <th>4</th>\n",
       "      <td>12.0000</td>\n",
       "      <td>151</td>\n",
       "      <td>3135172</td>\n",
       "      <td>286.2510</td>\n",
       "    </tr>\n",
       "  </tbody>\n",
       "</table>\n",
       "</div>"
      ],
      "text/plain": [
       "                                    height   id     area  \\\n",
       "0                                  12.0000  151  3135172   \n",
       "1                                  36.0000  151  3135172   \n",
       "2                                  12.0000  151  3135172   \n",
       "3                                  12.0000  151  3135172   \n",
       "4                                  12.0000  151  3135172   \n",
       "\n",
       "                                build_area  \n",
       "0                                 531.8490  \n",
       "1                                 565.1530  \n",
       "2                                 262.2590  \n",
       "3                               1,359.2120  \n",
       "4                                 286.2510  "
      ]
     },
     "execution_count": 64,
     "metadata": {},
     "output_type": "execute_result"
    }
   ],
   "source": [
    "gz_building_within_area.head()"
   ]
  },
  {
   "cell_type": "code",
   "execution_count": 65,
   "metadata": {},
   "outputs": [],
   "source": [
    "gz_building_within_area['build_area'] = gz_building_within_area['build_area'].fillna(0)\n",
    "gz_building_within_area['height'] = gz_building_within_area['height'].fillna(0)"
   ]
  },
  {
   "cell_type": "code",
   "execution_count": 66,
   "metadata": {},
   "outputs": [
    {
     "data": {
      "text/html": [
       "<div>\n",
       "<style scoped>\n",
       "    .dataframe tbody tr th:only-of-type {\n",
       "        vertical-align: middle;\n",
       "    }\n",
       "\n",
       "    .dataframe tbody tr th {\n",
       "        vertical-align: top;\n",
       "    }\n",
       "\n",
       "    .dataframe thead th {\n",
       "        text-align: right;\n",
       "    }\n",
       "</style>\n",
       "<table border=\"1\" class=\"dataframe\">\n",
       "  <thead>\n",
       "    <tr style=\"text-align: right;\">\n",
       "      <th></th>\n",
       "      <th>height</th>\n",
       "      <th>id</th>\n",
       "      <th>area</th>\n",
       "      <th>build_area</th>\n",
       "    </tr>\n",
       "  </thead>\n",
       "  <tbody>\n",
       "    <tr>\n",
       "      <th>0</th>\n",
       "      <td>12.0000</td>\n",
       "      <td>151</td>\n",
       "      <td>3135172</td>\n",
       "      <td>531.8490</td>\n",
       "    </tr>\n",
       "    <tr>\n",
       "      <th>1</th>\n",
       "      <td>36.0000</td>\n",
       "      <td>151</td>\n",
       "      <td>3135172</td>\n",
       "      <td>565.1530</td>\n",
       "    </tr>\n",
       "    <tr>\n",
       "      <th>2</th>\n",
       "      <td>12.0000</td>\n",
       "      <td>151</td>\n",
       "      <td>3135172</td>\n",
       "      <td>262.2590</td>\n",
       "    </tr>\n",
       "    <tr>\n",
       "      <th>3</th>\n",
       "      <td>12.0000</td>\n",
       "      <td>151</td>\n",
       "      <td>3135172</td>\n",
       "      <td>1,359.2120</td>\n",
       "    </tr>\n",
       "    <tr>\n",
       "      <th>4</th>\n",
       "      <td>12.0000</td>\n",
       "      <td>151</td>\n",
       "      <td>3135172</td>\n",
       "      <td>286.2510</td>\n",
       "    </tr>\n",
       "    <tr>\n",
       "      <th>...</th>\n",
       "      <td>...</td>\n",
       "      <td>...</td>\n",
       "      <td>...</td>\n",
       "      <td>...</td>\n",
       "    </tr>\n",
       "    <tr>\n",
       "      <th>465239</th>\n",
       "      <td>66.0000</td>\n",
       "      <td>151</td>\n",
       "      <td>3135172</td>\n",
       "      <td>0.0000</td>\n",
       "    </tr>\n",
       "    <tr>\n",
       "      <th>465240</th>\n",
       "      <td>4.0000</td>\n",
       "      <td>151</td>\n",
       "      <td>3135172</td>\n",
       "      <td>0.0000</td>\n",
       "    </tr>\n",
       "    <tr>\n",
       "      <th>465241</th>\n",
       "      <td>4.0000</td>\n",
       "      <td>151</td>\n",
       "      <td>3135172</td>\n",
       "      <td>0.0000</td>\n",
       "    </tr>\n",
       "    <tr>\n",
       "      <th>465242</th>\n",
       "      <td>4.0000</td>\n",
       "      <td>151</td>\n",
       "      <td>3135172</td>\n",
       "      <td>0.0000</td>\n",
       "    </tr>\n",
       "    <tr>\n",
       "      <th>465243</th>\n",
       "      <td>4.0000</td>\n",
       "      <td>151</td>\n",
       "      <td>3135172</td>\n",
       "      <td>0.0000</td>\n",
       "    </tr>\n",
       "  </tbody>\n",
       "</table>\n",
       "<p>2190 rows × 4 columns</p>\n",
       "</div>"
      ],
      "text/plain": [
       "                                         height   id     area  \\\n",
       "0                                       12.0000  151  3135172   \n",
       "1                                       36.0000  151  3135172   \n",
       "2                                       12.0000  151  3135172   \n",
       "3                                       12.0000  151  3135172   \n",
       "4                                       12.0000  151  3135172   \n",
       "...                                         ...  ...      ...   \n",
       "465239                                  66.0000  151  3135172   \n",
       "465240                                   4.0000  151  3135172   \n",
       "465241                                   4.0000  151  3135172   \n",
       "465242                                   4.0000  151  3135172   \n",
       "465243                                   4.0000  151  3135172   \n",
       "\n",
       "                                     build_area  \n",
       "0                                      531.8490  \n",
       "1                                      565.1530  \n",
       "2                                      262.2590  \n",
       "3                                    1,359.2120  \n",
       "4                                      286.2510  \n",
       "...                                         ...  \n",
       "465239                                   0.0000  \n",
       "465240                                   0.0000  \n",
       "465241                                   0.0000  \n",
       "465242                                   0.0000  \n",
       "465243                                   0.0000  \n",
       "\n",
       "[2190 rows x 4 columns]"
      ]
     },
     "execution_count": 66,
     "metadata": {},
     "output_type": "execute_result"
    }
   ],
   "source": [
    "gz_building_within_area[gz_building_within_area.id==151]"
   ]
  },
  {
   "cell_type": "code",
   "execution_count": 67,
   "metadata": {},
   "outputs": [],
   "source": [
    "gz_building_test = gz_building_within_area.groupby(['id'])['build_area'].agg(building_sum='sum').reset_index()"
   ]
  },
  {
   "cell_type": "code",
   "execution_count": 68,
   "metadata": {},
   "outputs": [],
   "source": [
    "gz_building_test2 = gz_building_within_area.groupby(['id'])['height'].agg(height_avg='mean').reset_index()"
   ]
  },
  {
   "cell_type": "code",
   "execution_count": 69,
   "metadata": {},
   "outputs": [
    {
     "data": {
      "text/html": [
       "<div>\n",
       "<style scoped>\n",
       "    .dataframe tbody tr th:only-of-type {\n",
       "        vertical-align: middle;\n",
       "    }\n",
       "\n",
       "    .dataframe tbody tr th {\n",
       "        vertical-align: top;\n",
       "    }\n",
       "\n",
       "    .dataframe thead th {\n",
       "        text-align: right;\n",
       "    }\n",
       "</style>\n",
       "<table border=\"1\" class=\"dataframe\">\n",
       "  <thead>\n",
       "    <tr style=\"text-align: right;\">\n",
       "      <th></th>\n",
       "      <th>id</th>\n",
       "      <th>building_sum</th>\n",
       "    </tr>\n",
       "  </thead>\n",
       "  <tbody>\n",
       "    <tr>\n",
       "      <th>0</th>\n",
       "      <td>1</td>\n",
       "      <td>0.0000</td>\n",
       "    </tr>\n",
       "    <tr>\n",
       "      <th>1</th>\n",
       "      <td>2</td>\n",
       "      <td>0.0000</td>\n",
       "    </tr>\n",
       "    <tr>\n",
       "      <th>2</th>\n",
       "      <td>3</td>\n",
       "      <td>0.0000</td>\n",
       "    </tr>\n",
       "    <tr>\n",
       "      <th>3</th>\n",
       "      <td>4</td>\n",
       "      <td>0.0000</td>\n",
       "    </tr>\n",
       "    <tr>\n",
       "      <th>4</th>\n",
       "      <td>5</td>\n",
       "      <td>0.0000</td>\n",
       "    </tr>\n",
       "  </tbody>\n",
       "</table>\n",
       "</div>"
      ],
      "text/plain": [
       "   id                             building_sum\n",
       "0   1                                   0.0000\n",
       "1   2                                   0.0000\n",
       "2   3                                   0.0000\n",
       "3   4                                   0.0000\n",
       "4   5                                   0.0000"
      ]
     },
     "execution_count": 69,
     "metadata": {},
     "output_type": "execute_result"
    }
   ],
   "source": [
    "gz_building_test.head()"
   ]
  },
  {
   "cell_type": "code",
   "execution_count": 70,
   "metadata": {},
   "outputs": [],
   "source": [
    "gz_area3 = pd.merge(gz_area, gz_building_test, on='id',how='left')"
   ]
  },
  {
   "cell_type": "code",
   "execution_count": 71,
   "metadata": {},
   "outputs": [],
   "source": [
    "gz_area3 = pd.merge(gz_area3, gz_building_test2, on='id',how='left')"
   ]
  },
  {
   "cell_type": "code",
   "execution_count": 72,
   "metadata": {},
   "outputs": [
    {
     "name": "stdout",
     "output_type": "stream",
     "text": [
      "<class 'geopandas.geodataframe.GeoDataFrame'>\n",
      "Int64Index: 200 entries, 0 to 199\n",
      "Data columns (total 20 columns):\n",
      " #   Column             Non-Null Count  Dtype   \n",
      "---  ------             --------------  -----   \n",
      " 0   id                 200 non-null    int64   \n",
      " 1   lng84              200 non-null    float64 \n",
      " 2   lat84              200 non-null    float64 \n",
      " 3   area_x             200 non-null    int64   \n",
      " 4   geometry           200 non-null    geometry\n",
      " 5   line_name          200 non-null    string  \n",
      " 6   station_name       200 non-null    object  \n",
      " 7   lng                200 non-null    object  \n",
      " 8   lat                200 non-null    object  \n",
      " 9   busStop_Count      200 non-null    int64   \n",
      " 10  service_time       200 non-null    int64   \n",
      " 11  area_y             200 non-null    int64   \n",
      " 12  busLine_Density    200 non-null    float64 \n",
      " 13  Service_direction  200 non-null    int64   \n",
      " 14  poi_Count          200 non-null    int64   \n",
      " 15  poi_Diversity      200 non-null    float64 \n",
      " 16  community_Count    200 non-null    int64   \n",
      " 17  residence_Count    200 non-null    int64   \n",
      " 18  building_sum       186 non-null    float64 \n",
      " 19  height_avg         186 non-null    float64 \n",
      "dtypes: float64(6), geometry(1), int64(9), object(3), string(1)\n",
      "memory usage: 32.8+ KB\n"
     ]
    }
   ],
   "source": [
    "gz_area3.info()"
   ]
  },
  {
   "cell_type": "code",
   "execution_count": 73,
   "metadata": {},
   "outputs": [],
   "source": [
    "gz_area3['building_sum'] = gz_area3['building_sum'].fillna(0)\n",
    "gz_area3['height_avg'] = gz_area3['height_avg'].fillna(0)"
   ]
  },
  {
   "cell_type": "code",
   "execution_count": 74,
   "metadata": {},
   "outputs": [],
   "source": [
    "gz_area3=gz_area3.drop(['area_y'],axis=1)\n",
    "gz_area3.rename(columns={'area_x':'area'},inplace=True)"
   ]
  },
  {
   "cell_type": "code",
   "execution_count": 75,
   "metadata": {},
   "outputs": [],
   "source": [
    "gz_cor=gz_area3.copy()"
   ]
  },
  {
   "cell_type": "code",
   "execution_count": 76,
   "metadata": {},
   "outputs": [],
   "source": [
    "gz_cor= gz_cor.drop(['id','lng84','lat84','geometry','line_name','station_name','lng','lat','area'],axis=1)"
   ]
  },
  {
   "cell_type": "code",
   "execution_count": 77,
   "metadata": {},
   "outputs": [
    {
     "name": "stdout",
     "output_type": "stream",
     "text": [
      "<class 'geopandas.geodataframe.GeoDataFrame'>\n",
      "Int64Index: 200 entries, 0 to 199\n",
      "Data columns (total 10 columns):\n",
      " #   Column             Non-Null Count  Dtype  \n",
      "---  ------             --------------  -----  \n",
      " 0   busStop_Count      200 non-null    int64  \n",
      " 1   service_time       200 non-null    int64  \n",
      " 2   busLine_Density    200 non-null    float64\n",
      " 3   Service_direction  200 non-null    int64  \n",
      " 4   poi_Count          200 non-null    int64  \n",
      " 5   poi_Diversity      200 non-null    float64\n",
      " 6   community_Count    200 non-null    int64  \n",
      " 7   residence_Count    200 non-null    int64  \n",
      " 8   building_sum       200 non-null    float64\n",
      " 9   height_avg         200 non-null    float64\n",
      "dtypes: float64(4), int64(6)\n",
      "memory usage: 17.2 KB\n"
     ]
    }
   ],
   "source": [
    "gz_cor.info()"
   ]
  },
  {
   "cell_type": "code",
   "execution_count": 78,
   "metadata": {},
   "outputs": [
    {
     "data": {
      "text/html": [
       "<div>\n",
       "<style scoped>\n",
       "    .dataframe tbody tr th:only-of-type {\n",
       "        vertical-align: middle;\n",
       "    }\n",
       "\n",
       "    .dataframe tbody tr th {\n",
       "        vertical-align: top;\n",
       "    }\n",
       "\n",
       "    .dataframe thead th {\n",
       "        text-align: right;\n",
       "    }\n",
       "</style>\n",
       "<table border=\"1\" class=\"dataframe\">\n",
       "  <thead>\n",
       "    <tr style=\"text-align: right;\">\n",
       "      <th></th>\n",
       "      <th>busStop_Count</th>\n",
       "      <th>service_time</th>\n",
       "      <th>busLine_Density</th>\n",
       "      <th>Service_direction</th>\n",
       "      <th>poi_Count</th>\n",
       "      <th>poi_Diversity</th>\n",
       "      <th>community_Count</th>\n",
       "      <th>residence_Count</th>\n",
       "      <th>building_sum</th>\n",
       "      <th>height_avg</th>\n",
       "    </tr>\n",
       "  </thead>\n",
       "  <tbody>\n",
       "    <tr>\n",
       "      <th>busStop_Count</th>\n",
       "      <td>1.0000</td>\n",
       "      <td>0.1376</td>\n",
       "      <td>-0.3330</td>\n",
       "      <td>0.1723</td>\n",
       "      <td>0.9074</td>\n",
       "      <td>-0.0514</td>\n",
       "      <td>0.8353</td>\n",
       "      <td>0.8353</td>\n",
       "      <td>0.4957</td>\n",
       "      <td>0.2164</td>\n",
       "    </tr>\n",
       "    <tr>\n",
       "      <th>service_time</th>\n",
       "      <td>0.1376</td>\n",
       "      <td>1.0000</td>\n",
       "      <td>-0.1848</td>\n",
       "      <td>0.1778</td>\n",
       "      <td>0.1219</td>\n",
       "      <td>-0.0319</td>\n",
       "      <td>0.0990</td>\n",
       "      <td>0.0990</td>\n",
       "      <td>0.2359</td>\n",
       "      <td>0.0099</td>\n",
       "    </tr>\n",
       "    <tr>\n",
       "      <th>busLine_Density</th>\n",
       "      <td>-0.3330</td>\n",
       "      <td>-0.1848</td>\n",
       "      <td>1.0000</td>\n",
       "      <td>-0.1079</td>\n",
       "      <td>-0.2518</td>\n",
       "      <td>0.0151</td>\n",
       "      <td>-0.1982</td>\n",
       "      <td>-0.1982</td>\n",
       "      <td>-0.1981</td>\n",
       "      <td>-0.2114</td>\n",
       "    </tr>\n",
       "    <tr>\n",
       "      <th>Service_direction</th>\n",
       "      <td>0.1723</td>\n",
       "      <td>0.1778</td>\n",
       "      <td>-0.1079</td>\n",
       "      <td>1.0000</td>\n",
       "      <td>0.1163</td>\n",
       "      <td>-0.0064</td>\n",
       "      <td>0.1405</td>\n",
       "      <td>0.1405</td>\n",
       "      <td>0.0044</td>\n",
       "      <td>0.0064</td>\n",
       "    </tr>\n",
       "    <tr>\n",
       "      <th>poi_Count</th>\n",
       "      <td>0.9074</td>\n",
       "      <td>0.1219</td>\n",
       "      <td>-0.2518</td>\n",
       "      <td>0.1163</td>\n",
       "      <td>1.0000</td>\n",
       "      <td>-0.0934</td>\n",
       "      <td>0.8834</td>\n",
       "      <td>0.8834</td>\n",
       "      <td>0.4738</td>\n",
       "      <td>0.2109</td>\n",
       "    </tr>\n",
       "    <tr>\n",
       "      <th>poi_Diversity</th>\n",
       "      <td>-0.0514</td>\n",
       "      <td>-0.0319</td>\n",
       "      <td>0.0151</td>\n",
       "      <td>-0.0064</td>\n",
       "      <td>-0.0934</td>\n",
       "      <td>1.0000</td>\n",
       "      <td>-0.1158</td>\n",
       "      <td>-0.1158</td>\n",
       "      <td>0.0419</td>\n",
       "      <td>0.1239</td>\n",
       "    </tr>\n",
       "    <tr>\n",
       "      <th>community_Count</th>\n",
       "      <td>0.8353</td>\n",
       "      <td>0.0990</td>\n",
       "      <td>-0.1982</td>\n",
       "      <td>0.1405</td>\n",
       "      <td>0.8834</td>\n",
       "      <td>-0.1158</td>\n",
       "      <td>1.0000</td>\n",
       "      <td>1.0000</td>\n",
       "      <td>0.3996</td>\n",
       "      <td>0.0789</td>\n",
       "    </tr>\n",
       "    <tr>\n",
       "      <th>residence_Count</th>\n",
       "      <td>0.8353</td>\n",
       "      <td>0.0990</td>\n",
       "      <td>-0.1982</td>\n",
       "      <td>0.1405</td>\n",
       "      <td>0.8834</td>\n",
       "      <td>-0.1158</td>\n",
       "      <td>1.0000</td>\n",
       "      <td>1.0000</td>\n",
       "      <td>0.3996</td>\n",
       "      <td>0.0789</td>\n",
       "    </tr>\n",
       "    <tr>\n",
       "      <th>building_sum</th>\n",
       "      <td>0.4957</td>\n",
       "      <td>0.2359</td>\n",
       "      <td>-0.1981</td>\n",
       "      <td>0.0044</td>\n",
       "      <td>0.4738</td>\n",
       "      <td>0.0419</td>\n",
       "      <td>0.3996</td>\n",
       "      <td>0.3996</td>\n",
       "      <td>1.0000</td>\n",
       "      <td>0.2704</td>\n",
       "    </tr>\n",
       "    <tr>\n",
       "      <th>height_avg</th>\n",
       "      <td>0.2164</td>\n",
       "      <td>0.0099</td>\n",
       "      <td>-0.2114</td>\n",
       "      <td>0.0064</td>\n",
       "      <td>0.2109</td>\n",
       "      <td>0.1239</td>\n",
       "      <td>0.0789</td>\n",
       "      <td>0.0789</td>\n",
       "      <td>0.2704</td>\n",
       "      <td>1.0000</td>\n",
       "    </tr>\n",
       "  </tbody>\n",
       "</table>\n",
       "</div>"
      ],
      "text/plain": [
       "                                             busStop_Count  \\\n",
       "busStop_Count                                       1.0000   \n",
       "service_time                                        0.1376   \n",
       "busLine_Density                                    -0.3330   \n",
       "Service_direction                                   0.1723   \n",
       "poi_Count                                           0.9074   \n",
       "poi_Diversity                                      -0.0514   \n",
       "community_Count                                     0.8353   \n",
       "residence_Count                                     0.8353   \n",
       "building_sum                                        0.4957   \n",
       "height_avg                                          0.2164   \n",
       "\n",
       "                                              service_time  \\\n",
       "busStop_Count                                       0.1376   \n",
       "service_time                                        1.0000   \n",
       "busLine_Density                                    -0.1848   \n",
       "Service_direction                                   0.1778   \n",
       "poi_Count                                           0.1219   \n",
       "poi_Diversity                                      -0.0319   \n",
       "community_Count                                     0.0990   \n",
       "residence_Count                                     0.0990   \n",
       "building_sum                                        0.2359   \n",
       "height_avg                                          0.0099   \n",
       "\n",
       "                                           busLine_Density  \\\n",
       "busStop_Count                                      -0.3330   \n",
       "service_time                                       -0.1848   \n",
       "busLine_Density                                     1.0000   \n",
       "Service_direction                                  -0.1079   \n",
       "poi_Count                                          -0.2518   \n",
       "poi_Diversity                                       0.0151   \n",
       "community_Count                                    -0.1982   \n",
       "residence_Count                                    -0.1982   \n",
       "building_sum                                       -0.1981   \n",
       "height_avg                                         -0.2114   \n",
       "\n",
       "                                         Service_direction  \\\n",
       "busStop_Count                                       0.1723   \n",
       "service_time                                        0.1778   \n",
       "busLine_Density                                    -0.1079   \n",
       "Service_direction                                   1.0000   \n",
       "poi_Count                                           0.1163   \n",
       "poi_Diversity                                      -0.0064   \n",
       "community_Count                                     0.1405   \n",
       "residence_Count                                     0.1405   \n",
       "building_sum                                        0.0044   \n",
       "height_avg                                          0.0064   \n",
       "\n",
       "                                                 poi_Count  \\\n",
       "busStop_Count                                       0.9074   \n",
       "service_time                                        0.1219   \n",
       "busLine_Density                                    -0.2518   \n",
       "Service_direction                                   0.1163   \n",
       "poi_Count                                           1.0000   \n",
       "poi_Diversity                                      -0.0934   \n",
       "community_Count                                     0.8834   \n",
       "residence_Count                                     0.8834   \n",
       "building_sum                                        0.4738   \n",
       "height_avg                                          0.2109   \n",
       "\n",
       "                                             poi_Diversity  \\\n",
       "busStop_Count                                      -0.0514   \n",
       "service_time                                       -0.0319   \n",
       "busLine_Density                                     0.0151   \n",
       "Service_direction                                  -0.0064   \n",
       "poi_Count                                          -0.0934   \n",
       "poi_Diversity                                       1.0000   \n",
       "community_Count                                    -0.1158   \n",
       "residence_Count                                    -0.1158   \n",
       "building_sum                                        0.0419   \n",
       "height_avg                                          0.1239   \n",
       "\n",
       "                                           community_Count  \\\n",
       "busStop_Count                                       0.8353   \n",
       "service_time                                        0.0990   \n",
       "busLine_Density                                    -0.1982   \n",
       "Service_direction                                   0.1405   \n",
       "poi_Count                                           0.8834   \n",
       "poi_Diversity                                      -0.1158   \n",
       "community_Count                                     1.0000   \n",
       "residence_Count                                     1.0000   \n",
       "building_sum                                        0.3996   \n",
       "height_avg                                          0.0789   \n",
       "\n",
       "                                           residence_Count  \\\n",
       "busStop_Count                                       0.8353   \n",
       "service_time                                        0.0990   \n",
       "busLine_Density                                    -0.1982   \n",
       "Service_direction                                   0.1405   \n",
       "poi_Count                                           0.8834   \n",
       "poi_Diversity                                      -0.1158   \n",
       "community_Count                                     1.0000   \n",
       "residence_Count                                     1.0000   \n",
       "building_sum                                        0.3996   \n",
       "height_avg                                          0.0789   \n",
       "\n",
       "                                              building_sum  \\\n",
       "busStop_Count                                       0.4957   \n",
       "service_time                                        0.2359   \n",
       "busLine_Density                                    -0.1981   \n",
       "Service_direction                                   0.0044   \n",
       "poi_Count                                           0.4738   \n",
       "poi_Diversity                                       0.0419   \n",
       "community_Count                                     0.3996   \n",
       "residence_Count                                     0.3996   \n",
       "building_sum                                        1.0000   \n",
       "height_avg                                          0.2704   \n",
       "\n",
       "                                                height_avg  \n",
       "busStop_Count                                       0.2164  \n",
       "service_time                                        0.0099  \n",
       "busLine_Density                                    -0.2114  \n",
       "Service_direction                                   0.0064  \n",
       "poi_Count                                           0.2109  \n",
       "poi_Diversity                                       0.1239  \n",
       "community_Count                                     0.0789  \n",
       "residence_Count                                     0.0789  \n",
       "building_sum                                        0.2704  \n",
       "height_avg                                          1.0000  "
      ]
     },
     "execution_count": 78,
     "metadata": {},
     "output_type": "execute_result"
    }
   ],
   "source": [
    "gz_cor.corr()"
   ]
  },
  {
   "cell_type": "code",
   "execution_count": 79,
   "metadata": {},
   "outputs": [
    {
     "data": {
      "text/plain": [
       "<AxesSubplot:>"
      ]
     },
     "execution_count": 79,
     "metadata": {},
     "output_type": "execute_result"
    },
    {
     "data": {
      "image/png": "[encoded data removed]",
      "text/plain": [
       "<Figure size 432x288 with 2 Axes>"
      ]
     },
     "metadata": {
      "needs_background": "light"
     },
     "output_type": "display_data"
    }
   ],
   "source": [
    "corrMatrix = gz_cor.corr()\n",
    "sns_plot=sns.heatmap(corrMatrix, annot=True)\n",
    "sns_plot"
   ]
  },
  {
   "cell_type": "code",
   "execution_count": 80,
   "metadata": {},
   "outputs": [
    {
     "data": {
      "image/png": "[encoded data removed]",
      "text/plain": [
       "<Figure size 792x648 with 2 Axes>"
      ]
     },
     "metadata": {
      "needs_background": "light"
     },
     "output_type": "display_data"
    }
   ],
   "source": [
    "# Generate a mask for the upper triangle\n",
    "mask = np.triu(np.ones_like(corrMatrix, dtype=bool))\n",
    "\n",
    "# Set up the matplotlib figure\n",
    "f, ax = plt.subplots(figsize=(11, 9))\n",
    "\n",
    "# Generate a custom diverging colormap\n",
    "cmap = sns.diverging_palette(230, 20, as_cmap=True)\n",
    "\n",
    "# Draw the heatmap with the mask and correct aspect ratio\n",
    "plot1=sns.heatmap(corrMatrix,  cmap=cmap, vmax=1, center=0,\n",
    "            square=True, linewidths=.5, cbar_kws={\"shrink\": .5})"
   ]
  },
  {
   "cell_type": "code",
   "execution_count": 81,
   "metadata": {},
   "outputs": [],
   "source": [
    "plot1.figure.savefig(\"corr.png\",dpi=300)"
   ]
  },
  {
   "cell_type": "code",
   "execution_count": 82,
   "metadata": {},
   "outputs": [],
   "source": [
    "##增加的indicators\n",
    "##修改-node 公交线路覆盖率\n",
    "road_total = pd.read_csv('metro_data/广州/road_toal.csv',low_memory=False, encoding=\"utf-8\",\n",
    "                 usecols=['road_length',\"id\"])"
   ]
  },
  {
   "cell_type": "code",
   "execution_count": 83,
   "metadata": {},
   "outputs": [],
   "source": [
    "road_total = pd.merge(road_total, gz_busline_within_area, on='id')"
   ]
  },
  {
   "cell_type": "code",
   "execution_count": 84,
   "metadata": {},
   "outputs": [
    {
     "name": "stdout",
     "output_type": "stream",
     "text": [
      "<class 'pandas.core.frame.DataFrame'>\n",
      "Int64Index: 200 entries, 0 to 199\n",
      "Data columns (total 5 columns):\n",
      " #   Column       Non-Null Count  Dtype  \n",
      "---  ------       --------------  -----  \n",
      " 0   id           200 non-null    int64  \n",
      " 1   road_length  200 non-null    float64\n",
      " 2   station_na   200 non-null    object \n",
      " 3   LENGTH       200 non-null    float64\n",
      " 4   COUNT        200 non-null    int64  \n",
      "dtypes: float64(2), int64(2), object(1)\n",
      "memory usage: 9.4+ KB\n"
     ]
    }
   ],
   "source": [
    "road_total.info()"
   ]
  },
  {
   "cell_type": "code",
   "execution_count": 85,
   "metadata": {},
   "outputs": [],
   "source": [
    "road_total['busLine_Coverage']=road_total.LENGTH/road_total.road_length"
   ]
  },
  {
   "cell_type": "code",
   "execution_count": 86,
   "metadata": {},
   "outputs": [],
   "source": [
    "gz_area3 = pd.merge(gz_area3, road_total, on='id',how='left')"
   ]
  },
  {
   "cell_type": "code",
   "execution_count": 87,
   "metadata": {},
   "outputs": [],
   "source": [
    "gz_area3= gz_area3.drop(['station_na','LENGTH','COUNT','busLine_Density'],axis=1)"
   ]
  },
  {
   "cell_type": "code",
   "execution_count": 88,
   "metadata": {},
   "outputs": [
    {
     "data": {
      "text/html": [
       "<div>\n",
       "<style scoped>\n",
       "    .dataframe tbody tr th:only-of-type {\n",
       "        vertical-align: middle;\n",
       "    }\n",
       "\n",
       "    .dataframe tbody tr th {\n",
       "        vertical-align: top;\n",
       "    }\n",
       "\n",
       "    .dataframe thead th {\n",
       "        text-align: right;\n",
       "    }\n",
       "</style>\n",
       "<table border=\"1\" class=\"dataframe\">\n",
       "  <thead>\n",
       "    <tr style=\"text-align: right;\">\n",
       "      <th></th>\n",
       "      <th>id</th>\n",
       "      <th>lng84</th>\n",
       "      <th>lat84</th>\n",
       "      <th>area</th>\n",
       "      <th>geometry</th>\n",
       "      <th>line_name</th>\n",
       "      <th>station_name</th>\n",
       "      <th>lng</th>\n",
       "      <th>lat</th>\n",
       "      <th>busStop_Count</th>\n",
       "      <th>service_time</th>\n",
       "      <th>Service_direction</th>\n",
       "      <th>poi_Count</th>\n",
       "      <th>poi_Diversity</th>\n",
       "      <th>community_Count</th>\n",
       "      <th>residence_Count</th>\n",
       "      <th>building_sum</th>\n",
       "      <th>height_avg</th>\n",
       "      <th>road_length</th>\n",
       "      <th>busLine_Coverage</th>\n",
       "    </tr>\n",
       "  </thead>\n",
       "  <tbody>\n",
       "    <tr>\n",
       "      <th>0</th>\n",
       "      <td>1</td>\n",
       "      <td>113.2267</td>\n",
       "      <td>23.0681</td>\n",
       "      <td>1970009</td>\n",
       "      <td>POLYGON ((113.22565 23.07944, 113.22765 23.076...</td>\n",
       "      <td>地铁1号线(西塱--广州东站)</td>\n",
       "      <td>西塱</td>\n",
       "      <td>113.231978</td>\n",
       "      <td>23.065437</td>\n",
       "      <td>266</td>\n",
       "      <td>1015</td>\n",
       "      <td>2</td>\n",
       "      <td>195</td>\n",
       "      <td>0.6477</td>\n",
       "      <td>3</td>\n",
       "      <td>3</td>\n",
       "      <td>0.0000</td>\n",
       "      <td>15.6406</td>\n",
       "      <td>27,290.1233</td>\n",
       "      <td>4.9863</td>\n",
       "    </tr>\n",
       "    <tr>\n",
       "      <th>1</th>\n",
       "      <td>2</td>\n",
       "      <td>113.2272</td>\n",
       "      <td>23.0816</td>\n",
       "      <td>2193001</td>\n",
       "      <td>POLYGON ((113.22817 23.09182, 113.22957 23.090...</td>\n",
       "      <td>地铁1号线(西塱--广州东站)</td>\n",
       "      <td>坑口</td>\n",
       "      <td>113.232498</td>\n",
       "      <td>23.078878</td>\n",
       "      <td>314</td>\n",
       "      <td>1015</td>\n",
       "      <td>1</td>\n",
       "      <td>507</td>\n",
       "      <td>0.5265</td>\n",
       "      <td>2</td>\n",
       "      <td>2</td>\n",
       "      <td>0.0000</td>\n",
       "      <td>14.8217</td>\n",
       "      <td>42,401.8466</td>\n",
       "      <td>4.8030</td>\n",
       "    </tr>\n",
       "    <tr>\n",
       "      <th>2</th>\n",
       "      <td>3</td>\n",
       "      <td>113.2287</td>\n",
       "      <td>23.0897</td>\n",
       "      <td>2224351</td>\n",
       "      <td>POLYGON ((113.23071 23.10102, 113.23018 23.099...</td>\n",
       "      <td>地铁1号线(西塱--广州东站)</td>\n",
       "      <td>花地湾</td>\n",
       "      <td>113.23403</td>\n",
       "      <td>23.087055</td>\n",
       "      <td>403</td>\n",
       "      <td>1015</td>\n",
       "      <td>1</td>\n",
       "      <td>990</td>\n",
       "      <td>0.5951</td>\n",
       "      <td>3</td>\n",
       "      <td>3</td>\n",
       "      <td>0.0000</td>\n",
       "      <td>14.8139</td>\n",
       "      <td>40,325.4361</td>\n",
       "      <td>6.3319</td>\n",
       "    </tr>\n",
       "    <tr>\n",
       "      <th>3</th>\n",
       "      <td>4</td>\n",
       "      <td>113.2304</td>\n",
       "      <td>23.1013</td>\n",
       "      <td>2827239</td>\n",
       "      <td>POLYGON ((113.22538 23.10876, 113.22616 23.107...</td>\n",
       "      <td>地铁1号线(西塱--广州东站)</td>\n",
       "      <td>芳村</td>\n",
       "      <td>113.235703</td>\n",
       "      <td>23.098592</td>\n",
       "      <td>468</td>\n",
       "      <td>1015</td>\n",
       "      <td>1</td>\n",
       "      <td>1221</td>\n",
       "      <td>0.5969</td>\n",
       "      <td>7</td>\n",
       "      <td>7</td>\n",
       "      <td>0.0000</td>\n",
       "      <td>16.0873</td>\n",
       "      <td>50,933.2833</td>\n",
       "      <td>5.8260</td>\n",
       "    </tr>\n",
       "    <tr>\n",
       "      <th>4</th>\n",
       "      <td>5</td>\n",
       "      <td>113.2345</td>\n",
       "      <td>23.1132</td>\n",
       "      <td>2423683</td>\n",
       "      <td>POLYGON ((113.23753 23.12345, 113.23795 23.122...</td>\n",
       "      <td>地铁1号线(西塱--广州东站)</td>\n",
       "      <td>黄沙</td>\n",
       "      <td>113.239856</td>\n",
       "      <td>23.110524</td>\n",
       "      <td>340</td>\n",
       "      <td>1015</td>\n",
       "      <td>2</td>\n",
       "      <td>1707</td>\n",
       "      <td>0.6183</td>\n",
       "      <td>18</td>\n",
       "      <td>18</td>\n",
       "      <td>0.0000</td>\n",
       "      <td>20.8820</td>\n",
       "      <td>60,707.7252</td>\n",
       "      <td>4.0000</td>\n",
       "    </tr>\n",
       "  </tbody>\n",
       "</table>\n",
       "</div>"
      ],
      "text/plain": [
       "   id                                    lng84  \\\n",
       "0   1                                 113.2267   \n",
       "1   2                                 113.2272   \n",
       "2   3                                 113.2287   \n",
       "3   4                                 113.2304   \n",
       "4   5                                 113.2345   \n",
       "\n",
       "                                     lat84     area  \\\n",
       "0                                  23.0681  1970009   \n",
       "1                                  23.0816  2193001   \n",
       "2                                  23.0897  2224351   \n",
       "3                                  23.1013  2827239   \n",
       "4                                  23.1132  2423683   \n",
       "\n",
       "                                            geometry        line_name  \\\n",
       "0  POLYGON ((113.22565 23.07944, 113.22765 23.076...  地铁1号线(西塱--广州东站)   \n",
       "1  POLYGON ((113.22817 23.09182, 113.22957 23.090...  地铁1号线(西塱--广州东站)   \n",
       "2  POLYGON ((113.23071 23.10102, 113.23018 23.099...  地铁1号线(西塱--广州东站)   \n",
       "3  POLYGON ((113.22538 23.10876, 113.22616 23.107...  地铁1号线(西塱--广州东站)   \n",
       "4  POLYGON ((113.23753 23.12345, 113.23795 23.122...  地铁1号线(西塱--广州东站)   \n",
       "\n",
       "  station_name         lng        lat  busStop_Count  service_time  \\\n",
       "0           西塱  113.231978  23.065437            266          1015   \n",
       "1           坑口  113.232498  23.078878            314          1015   \n",
       "2          花地湾   113.23403  23.087055            403          1015   \n",
       "3           芳村  113.235703  23.098592            468          1015   \n",
       "4           黄沙  113.239856  23.110524            340          1015   \n",
       "\n",
       "   Service_direction  poi_Count                            poi_Diversity  \\\n",
       "0                  2        195                                   0.6477   \n",
       "1                  1        507                                   0.5265   \n",
       "2                  1        990                                   0.5951   \n",
       "3                  1       1221                                   0.5969   \n",
       "4                  2       1707                                   0.6183   \n",
       "\n",
       "   community_Count  residence_Count                             building_sum  \\\n",
       "0                3                3                                   0.0000   \n",
       "1                2                2                                   0.0000   \n",
       "2                3                3                                   0.0000   \n",
       "3                7                7                                   0.0000   \n",
       "4               18               18                                   0.0000   \n",
       "\n",
       "                                height_avg  \\\n",
       "0                                  15.6406   \n",
       "1                                  14.8217   \n",
       "2                                  14.8139   \n",
       "3                                  16.0873   \n",
       "4                                  20.8820   \n",
       "\n",
       "                               road_length  \\\n",
       "0                              27,290.1233   \n",
       "1                              42,401.8466   \n",
       "2                              40,325.4361   \n",
       "3                              50,933.2833   \n",
       "4                              60,707.7252   \n",
       "\n",
       "                          busLine_Coverage  \n",
       "0                                   4.9863  \n",
       "1                                   4.8030  \n",
       "2                                   6.3319  \n",
       "3                                   5.8260  \n",
       "4                                   4.0000  "
      ]
     },
     "execution_count": 88,
     "metadata": {},
     "output_type": "execute_result"
    }
   ],
   "source": [
    "gz_area3.head()"
   ]
  },
  {
   "cell_type": "code",
   "execution_count": 89,
   "metadata": {},
   "outputs": [],
   "source": [
    "gz_area3.rename(columns=\n",
    "{\n",
    "\"busStop_Count\": \"N_busStop_count\",\n",
    "\"service_time\": \"N_service_time\",\n",
    "\"Service_direction\": \"N_service_direc\",\n",
    "\"busLine_Coverage\": \"N_busLine_Coverage\",\n",
    "\"poi_Diversity\": \"P_poi_Diversity\",\n",
    "\"community_Count\": \"S_community_Count\",\n",
    "\"height_avg\": \"C_height_avg\"\n",
    "}, inplace=True)"
   ]
  },
  {
   "cell_type": "code",
   "execution_count": 90,
   "metadata": {},
   "outputs": [
    {
     "name": "stderr",
     "output_type": "stream",
     "text": [
      "/opt/conda/envs/sds2020/lib/python3.7/site-packages/ipykernel_launcher.py:1: UserWarning: Geometry is in a geographic CRS. Results from 'area' are likely incorrect. Use 'GeoSeries.to_crs()' to re-project geometries to a projected CRS before this operation.\n",
      "\n",
      "  \"\"\"Entry point for launching an IPython kernel.\n"
     ]
    }
   ],
   "source": [
    "gz_area3['C_building_density']=gz_area3.building_sum/gz_area3.area"
   ]
  },
  {
   "cell_type": "code",
   "execution_count": 91,
   "metadata": {},
   "outputs": [],
   "source": [
    "gz_area3= gz_area3.drop(['poi_Count','residence_Count','building_sum'],axis=1)"
   ]
  },
  {
   "cell_type": "code",
   "execution_count": 92,
   "metadata": {},
   "outputs": [],
   "source": [
    "#node-对外交通道路所占比例\n",
    "external_road = pd.read_csv('metro_data/广州/external_road.csv',low_memory=False, encoding=\"utf-8\",\n",
    "                 usecols=['external_length',\"id\"])\n",
    "external_road = pd.merge(external_road, road_total, on='id')\n",
    "external_road['N_external_Coverage']=external_road.external_length/external_road.road_length"
   ]
  },
  {
   "cell_type": "code",
   "execution_count": 93,
   "metadata": {},
   "outputs": [
    {
     "data": {
      "text/html": [
       "<div>\n",
       "<style scoped>\n",
       "    .dataframe tbody tr th:only-of-type {\n",
       "        vertical-align: middle;\n",
       "    }\n",
       "\n",
       "    .dataframe tbody tr th {\n",
       "        vertical-align: top;\n",
       "    }\n",
       "\n",
       "    .dataframe thead th {\n",
       "        text-align: right;\n",
       "    }\n",
       "</style>\n",
       "<table border=\"1\" class=\"dataframe\">\n",
       "  <thead>\n",
       "    <tr style=\"text-align: right;\">\n",
       "      <th></th>\n",
       "      <th>id</th>\n",
       "      <th>external_length</th>\n",
       "      <th>road_length</th>\n",
       "      <th>station_na</th>\n",
       "      <th>LENGTH</th>\n",
       "      <th>COUNT</th>\n",
       "      <th>busLine_Coverage</th>\n",
       "      <th>N_external_Coverage</th>\n",
       "    </tr>\n",
       "  </thead>\n",
       "  <tbody>\n",
       "    <tr>\n",
       "      <th>0</th>\n",
       "      <td>1</td>\n",
       "      <td>9,525.3717</td>\n",
       "      <td>27,290.1233</td>\n",
       "      <td>??</td>\n",
       "      <td>136,077.9080</td>\n",
       "      <td>76</td>\n",
       "      <td>4.9863</td>\n",
       "      <td>0.3490</td>\n",
       "    </tr>\n",
       "    <tr>\n",
       "      <th>1</th>\n",
       "      <td>2</td>\n",
       "      <td>12,093.3320</td>\n",
       "      <td>42,401.8466</td>\n",
       "      <td>??</td>\n",
       "      <td>203,655.7793</td>\n",
       "      <td>99</td>\n",
       "      <td>4.8030</td>\n",
       "      <td>0.2852</td>\n",
       "    </tr>\n",
       "    <tr>\n",
       "      <th>2</th>\n",
       "      <td>3</td>\n",
       "      <td>18,278.0977</td>\n",
       "      <td>40,325.4361</td>\n",
       "      <td>???</td>\n",
       "      <td>255,334.7997</td>\n",
       "      <td>123</td>\n",
       "      <td>6.3319</td>\n",
       "      <td>0.4533</td>\n",
       "    </tr>\n",
       "    <tr>\n",
       "      <th>3</th>\n",
       "      <td>4</td>\n",
       "      <td>13,210.1644</td>\n",
       "      <td>50,933.2833</td>\n",
       "      <td>??</td>\n",
       "      <td>296,738.2172</td>\n",
       "      <td>129</td>\n",
       "      <td>5.8260</td>\n",
       "      <td>0.2594</td>\n",
       "    </tr>\n",
       "    <tr>\n",
       "      <th>4</th>\n",
       "      <td>5</td>\n",
       "      <td>5,416.1238</td>\n",
       "      <td>60,707.7252</td>\n",
       "      <td>??</td>\n",
       "      <td>242,830.4837</td>\n",
       "      <td>156</td>\n",
       "      <td>4.0000</td>\n",
       "      <td>0.0892</td>\n",
       "    </tr>\n",
       "  </tbody>\n",
       "</table>\n",
       "</div>"
      ],
      "text/plain": [
       "   id                          external_length  \\\n",
       "0   1                               9,525.3717   \n",
       "1   2                              12,093.3320   \n",
       "2   3                              18,278.0977   \n",
       "3   4                              13,210.1644   \n",
       "4   5                               5,416.1238   \n",
       "\n",
       "                               road_length station_na  \\\n",
       "0                              27,290.1233         ??   \n",
       "1                              42,401.8466         ??   \n",
       "2                              40,325.4361        ???   \n",
       "3                              50,933.2833         ??   \n",
       "4                              60,707.7252         ??   \n",
       "\n",
       "                                    LENGTH  COUNT  \\\n",
       "0                             136,077.9080     76   \n",
       "1                             203,655.7793     99   \n",
       "2                             255,334.7997    123   \n",
       "3                             296,738.2172    129   \n",
       "4                             242,830.4837    156   \n",
       "\n",
       "                          busLine_Coverage  \\\n",
       "0                                   4.9863   \n",
       "1                                   4.8030   \n",
       "2                                   6.3319   \n",
       "3                                   5.8260   \n",
       "4                                   4.0000   \n",
       "\n",
       "                       N_external_Coverage  \n",
       "0                                   0.3490  \n",
       "1                                   0.2852  \n",
       "2                                   0.4533  \n",
       "3                                   0.2594  \n",
       "4                                   0.0892  "
      ]
     },
     "execution_count": 93,
     "metadata": {},
     "output_type": "execute_result"
    }
   ],
   "source": [
    "external_road.head()"
   ]
  },
  {
   "cell_type": "code",
   "execution_count": 94,
   "metadata": {},
   "outputs": [],
   "source": [
    "#community-对内交通道路所占比例\n",
    "internal_road = pd.read_csv('metro_data/广州/internal_road.csv',low_memory=False, encoding=\"utf-8\",\n",
    "                 usecols=['internal_length',\"id\"])\n",
    "internal_road = pd.merge(internal_road, external_road, on='id')\n",
    "internal_road['C_internal_Coverage']=internal_road.internal_length/internal_road.road_length"
   ]
  },
  {
   "cell_type": "code",
   "execution_count": 95,
   "metadata": {},
   "outputs": [],
   "source": [
    "gz_area3 = pd.merge(gz_area3, internal_road, on='id',how='left')"
   ]
  },
  {
   "cell_type": "code",
   "execution_count": 96,
   "metadata": {},
   "outputs": [
    {
     "name": "stdout",
     "output_type": "stream",
     "text": [
      "<class 'geopandas.geodataframe.GeoDataFrame'>\n",
      "Int64Index: 200 entries, 0 to 199\n",
      "Data columns (total 27 columns):\n",
      " #   Column               Non-Null Count  Dtype   \n",
      "---  ------               --------------  -----   \n",
      " 0   id                   200 non-null    int64   \n",
      " 1   lng84                200 non-null    float64 \n",
      " 2   lat84                200 non-null    float64 \n",
      " 3   area                 200 non-null    int64   \n",
      " 4   geometry             200 non-null    geometry\n",
      " 5   line_name            200 non-null    string  \n",
      " 6   station_name         200 non-null    object  \n",
      " 7   lng                  200 non-null    object  \n",
      " 8   lat                  200 non-null    object  \n",
      " 9   N_busStop_count      200 non-null    int64   \n",
      " 10  N_service_time       200 non-null    int64   \n",
      " 11  N_service_direc      200 non-null    int64   \n",
      " 12  P_poi_Diversity      200 non-null    float64 \n",
      " 13  S_community_Count    200 non-null    int64   \n",
      " 14  C_height_avg         200 non-null    float64 \n",
      " 15  road_length_x        200 non-null    float64 \n",
      " 16  N_busLine_Coverage   200 non-null    float64 \n",
      " 17  C_building_density   200 non-null    float64 \n",
      " 18  internal_length      200 non-null    float64 \n",
      " 19  external_length      200 non-null    float64 \n",
      " 20  road_length_y        200 non-null    float64 \n",
      " 21  station_na           200 non-null    object  \n",
      " 22  LENGTH               200 non-null    float64 \n",
      " 23  COUNT                200 non-null    int64   \n",
      " 24  busLine_Coverage     200 non-null    float64 \n",
      " 25  N_external_Coverage  200 non-null    float64 \n",
      " 26  C_internal_Coverage  200 non-null    float64 \n",
      "dtypes: float64(14), geometry(1), int64(7), object(4), string(1)\n",
      "memory usage: 43.8+ KB\n"
     ]
    }
   ],
   "source": [
    "gz_area3.info()"
   ]
  },
  {
   "cell_type": "code",
   "execution_count": 97,
   "metadata": {},
   "outputs": [],
   "source": [
    "gz_area3= gz_area3.drop(['station_na','LENGTH','COUNT','busLine_Coverage','internal_length','external_length','road_length_y'],axis=1)"
   ]
  },
  {
   "cell_type": "code",
   "execution_count": 98,
   "metadata": {},
   "outputs": [],
   "source": [
    "gz_area3.rename(columns=\n",
    "{\n",
    "\"C_internal_Coverage\": \"S_internal_Coverage\"\n",
    "}, inplace=True)"
   ]
  },
  {
   "cell_type": "code",
   "execution_count": 99,
   "metadata": {},
   "outputs": [
    {
     "name": "stderr",
     "output_type": "stream",
     "text": [
      "/opt/conda/envs/sds2020/lib/python3.7/site-packages/ipykernel_launcher.py:2: UserWarning: Geometry is in a geographic CRS. Results from 'area' are likely incorrect. Use 'GeoSeries.to_crs()' to re-project geometries to a projected CRS before this operation.\n",
      "\n",
      "  \n"
     ]
    }
   ],
   "source": [
    "#Contaner-道路网密度\n",
    "gz_area3['C_road_density']=gz_area3.road_length_x/gz_area3.area"
   ]
  },
  {
   "cell_type": "code",
   "execution_count": 100,
   "metadata": {},
   "outputs": [],
   "source": [
    "#place-范围内人口总数\n",
    "pop_area = pd.read_csv('metro_data/广州/pop_area.csv',low_memory=False, encoding=\"utf-8\",\n",
    "                 usecols=['pop',\"id\"])"
   ]
  },
  {
   "cell_type": "code",
   "execution_count": 101,
   "metadata": {},
   "outputs": [],
   "source": [
    "gz_pop = pop_area.groupby(['id'])['pop'].agg(P_pop_sum='sum').reset_index()"
   ]
  },
  {
   "cell_type": "code",
   "execution_count": 102,
   "metadata": {},
   "outputs": [
    {
     "name": "stdout",
     "output_type": "stream",
     "text": [
      "<class 'geopandas.geodataframe.GeoDataFrame'>\n",
      "Int64Index: 200 entries, 0 to 199\n",
      "Data columns (total 21 columns):\n",
      " #   Column               Non-Null Count  Dtype   \n",
      "---  ------               --------------  -----   \n",
      " 0   id                   200 non-null    int64   \n",
      " 1   lng84                200 non-null    float64 \n",
      " 2   lat84                200 non-null    float64 \n",
      " 3   area                 200 non-null    int64   \n",
      " 4   geometry             200 non-null    geometry\n",
      " 5   line_name            200 non-null    string  \n",
      " 6   station_name         200 non-null    object  \n",
      " 7   lng                  200 non-null    object  \n",
      " 8   lat                  200 non-null    object  \n",
      " 9   N_busStop_count      200 non-null    int64   \n",
      " 10  N_service_time       200 non-null    int64   \n",
      " 11  N_service_direc      200 non-null    int64   \n",
      " 12  P_poi_Diversity      200 non-null    float64 \n",
      " 13  S_community_Count    200 non-null    int64   \n",
      " 14  C_height_avg         200 non-null    float64 \n",
      " 15  road_length_x        200 non-null    float64 \n",
      " 16  N_busLine_Coverage   200 non-null    float64 \n",
      " 17  C_building_density   200 non-null    float64 \n",
      " 18  N_external_Coverage  200 non-null    float64 \n",
      " 19  S_internal_Coverage  200 non-null    float64 \n",
      " 20  C_road_density       200 non-null    float64 \n",
      "dtypes: float64(10), geometry(1), int64(6), object(3), string(1)\n",
      "memory usage: 34.4+ KB\n"
     ]
    }
   ],
   "source": [
    "gz_area3.info()"
   ]
  },
  {
   "cell_type": "code",
   "execution_count": 103,
   "metadata": {},
   "outputs": [],
   "source": [
    "gz_area3 = pd.merge(gz_area3, gz_pop, on='id',how='left')"
   ]
  },
  {
   "cell_type": "code",
   "execution_count": 104,
   "metadata": {},
   "outputs": [],
   "source": [
    "#node-交通用地占比/place-基本功能占比/非基本功能占比\n",
    "basic_function = pd.read_csv('metro_data/广州/basic_function.csv',low_memory=False, encoding=\"utf-8\",\n",
    "                 usecols=['LU_area',\"id\"])\n",
    "unbasic_function = pd.read_csv('metro_data/广州/unbasic_function.csv',low_memory=False, encoding=\"utf-8\",\n",
    "                 usecols=['LU_area',\"id\"])\n",
    "transpotation_function = pd.read_csv('metro_data/广州/transpotation_function.csv',low_memory=False, encoding=\"utf-8\",\n",
    "                 usecols=['LU_area',\"id\"])"
   ]
  },
  {
   "cell_type": "code",
   "execution_count": 105,
   "metadata": {},
   "outputs": [],
   "source": [
    "basic_function = basic_function.groupby(['id'])['LU_area'].agg(basic_sum='sum').reset_index()\n",
    "unbasic_function = unbasic_function.groupby(['id'])['LU_area'].agg(unbasic_sum='sum').reset_index()\n",
    "transpotation_function = transpotation_function.groupby(['id'])['LU_area'].agg(transpotation_sum='sum').reset_index()"
   ]
  },
  {
   "cell_type": "code",
   "execution_count": 106,
   "metadata": {},
   "outputs": [
    {
     "name": "stdout",
     "output_type": "stream",
     "text": [
      "<class 'pandas.core.frame.DataFrame'>\n",
      "RangeIndex: 188 entries, 0 to 187\n",
      "Data columns (total 2 columns):\n",
      " #   Column     Non-Null Count  Dtype  \n",
      "---  ------     --------------  -----  \n",
      " 0   id         188 non-null    int64  \n",
      " 1   basic_sum  188 non-null    float64\n",
      "dtypes: float64(1), int64(1)\n",
      "memory usage: 3.1 KB\n"
     ]
    }
   ],
   "source": [
    "basic_function.info()"
   ]
  },
  {
   "cell_type": "code",
   "execution_count": 107,
   "metadata": {},
   "outputs": [],
   "source": [
    "gz_area3 = pd.merge(gz_area3, basic_function, on='id',how='left')\n",
    "gz_area3 = pd.merge(gz_area3, unbasic_function, on='id',how='left')\n",
    "gz_area3 = pd.merge(gz_area3, transpotation_function, on='id',how='left')"
   ]
  },
  {
   "cell_type": "code",
   "execution_count": 108,
   "metadata": {},
   "outputs": [
    {
     "name": "stderr",
     "output_type": "stream",
     "text": [
      "/opt/conda/envs/sds2020/lib/python3.7/site-packages/ipykernel_launcher.py:1: UserWarning: Geometry is in a geographic CRS. Results from 'area' are likely incorrect. Use 'GeoSeries.to_crs()' to re-project geometries to a projected CRS before this operation.\n",
      "\n",
      "  \"\"\"Entry point for launching an IPython kernel.\n",
      "/opt/conda/envs/sds2020/lib/python3.7/site-packages/ipykernel_launcher.py:2: UserWarning: Geometry is in a geographic CRS. Results from 'area' are likely incorrect. Use 'GeoSeries.to_crs()' to re-project geometries to a projected CRS before this operation.\n",
      "\n",
      "  \n",
      "/opt/conda/envs/sds2020/lib/python3.7/site-packages/ipykernel_launcher.py:3: UserWarning: Geometry is in a geographic CRS. Results from 'area' are likely incorrect. Use 'GeoSeries.to_crs()' to re-project geometries to a projected CRS before this operation.\n",
      "\n",
      "  This is separate from the ipykernel package so we can avoid doing imports until\n"
     ]
    }
   ],
   "source": [
    "gz_area3['N_transland_Cover']=gz_area3.transpotation_sum/gz_area3.area\n",
    "gz_area3['P_basic_Cover']=gz_area3.basic_sum/gz_area3.area\n",
    "gz_area3['N_unbasic_Cover']=gz_area3.unbasic_sum/gz_area3.area"
   ]
  },
  {
   "cell_type": "code",
   "execution_count": 109,
   "metadata": {},
   "outputs": [],
   "source": [
    "gz_area3= gz_area3.drop(['transpotation_sum','basic_sum','unbasic_sum'],axis=1)"
   ]
  },
  {
   "cell_type": "code",
   "execution_count": 110,
   "metadata": {},
   "outputs": [],
   "source": [
    "#Place-Degree of landuse mix---entropy 熵 Frank（2005）\n",
    "landuse_area = pd.read_csv('metro_data/广州/landuse_area.csv',low_memory=False, encoding=\"utf-8\",\n",
    "                 usecols=['LU_area',\"id\",'area','Level1'])"
   ]
  },
  {
   "cell_type": "code",
   "execution_count": 111,
   "metadata": {},
   "outputs": [],
   "source": [
    "test = landuse_area.groupby(['id','Level1'])['LU_area'].agg(LU_sum='sum').reset_index()"
   ]
  },
  {
   "cell_type": "code",
   "execution_count": 113,
   "metadata": {},
   "outputs": [],
   "source": [
    "test1 = pd.pivot_table(test, index='id', columns='Level1', values='LU_sum')"
   ]
  },
  {
   "cell_type": "code",
   "execution_count": 114,
   "metadata": {},
   "outputs": [],
   "source": [
    "test2 = pd.DataFrame(test1.to_records())"
   ]
  },
  {
   "cell_type": "code",
   "execution_count": 115,
   "metadata": {},
   "outputs": [
    {
     "data": {
      "text/html": [
       "<div>\n",
       "<style scoped>\n",
       "    .dataframe tbody tr th:only-of-type {\n",
       "        vertical-align: middle;\n",
       "    }\n",
       "\n",
       "    .dataframe tbody tr th {\n",
       "        vertical-align: top;\n",
       "    }\n",
       "\n",
       "    .dataframe thead th {\n",
       "        text-align: right;\n",
       "    }\n",
       "</style>\n",
       "<table border=\"1\" class=\"dataframe\">\n",
       "  <thead>\n",
       "    <tr style=\"text-align: right;\">\n",
       "      <th></th>\n",
       "      <th>id</th>\n",
       "      <th>1</th>\n",
       "      <th>2</th>\n",
       "      <th>3</th>\n",
       "      <th>4</th>\n",
       "      <th>5</th>\n",
       "    </tr>\n",
       "  </thead>\n",
       "  <tbody>\n",
       "    <tr>\n",
       "      <th>0</th>\n",
       "      <td>1</td>\n",
       "      <td>1,598,061.2456</td>\n",
       "      <td>176,130.7435</td>\n",
       "      <td>7,440.5641</td>\n",
       "      <td>nan</td>\n",
       "      <td>nan</td>\n",
       "    </tr>\n",
       "    <tr>\n",
       "      <th>1</th>\n",
       "      <td>2</td>\n",
       "      <td>1,369,816.1970</td>\n",
       "      <td>216,773.4180</td>\n",
       "      <td>324,905.6377</td>\n",
       "      <td>nan</td>\n",
       "      <td>5,000.6761</td>\n",
       "    </tr>\n",
       "    <tr>\n",
       "      <th>2</th>\n",
       "      <td>3</td>\n",
       "      <td>1,263,597.7167</td>\n",
       "      <td>381,829.4660</td>\n",
       "      <td>235,518.5467</td>\n",
       "      <td>nan</td>\n",
       "      <td>5,000.6761</td>\n",
       "    </tr>\n",
       "    <tr>\n",
       "      <th>3</th>\n",
       "      <td>4</td>\n",
       "      <td>932,959.2297</td>\n",
       "      <td>277,263.8307</td>\n",
       "      <td>487,285.5904</td>\n",
       "      <td>407,058.6108</td>\n",
       "      <td>87,078.7169</td>\n",
       "    </tr>\n",
       "    <tr>\n",
       "      <th>4</th>\n",
       "      <td>5</td>\n",
       "      <td>969,764.2342</td>\n",
       "      <td>499,176.6885</td>\n",
       "      <td>nan</td>\n",
       "      <td>358,505.6215</td>\n",
       "      <td>209,735.1890</td>\n",
       "    </tr>\n",
       "  </tbody>\n",
       "</table>\n",
       "</div>"
      ],
      "text/plain": [
       "   id                                        1  \\\n",
       "0   1                           1,598,061.2456   \n",
       "1   2                           1,369,816.1970   \n",
       "2   3                           1,263,597.7167   \n",
       "3   4                             932,959.2297   \n",
       "4   5                             969,764.2342   \n",
       "\n",
       "                                         2  \\\n",
       "0                             176,130.7435   \n",
       "1                             216,773.4180   \n",
       "2                             381,829.4660   \n",
       "3                             277,263.8307   \n",
       "4                             499,176.6885   \n",
       "\n",
       "                                         3  \\\n",
       "0                               7,440.5641   \n",
       "1                             324,905.6377   \n",
       "2                             235,518.5467   \n",
       "3                             487,285.5904   \n",
       "4                                      nan   \n",
       "\n",
       "                                         4  \\\n",
       "0                                      nan   \n",
       "1                                      nan   \n",
       "2                                      nan   \n",
       "3                             407,058.6108   \n",
       "4                             358,505.6215   \n",
       "\n",
       "                                         5  \n",
       "0                                      nan  \n",
       "1                               5,000.6761  \n",
       "2                               5,000.6761  \n",
       "3                              87,078.7169  \n",
       "4                             209,735.1890  "
      ]
     },
     "execution_count": 115,
     "metadata": {},
     "output_type": "execute_result"
    }
   ],
   "source": [
    "test2.head()"
   ]
  },
  {
   "cell_type": "code",
   "execution_count": 116,
   "metadata": {},
   "outputs": [],
   "source": [
    "test_list=[]\n",
    "for i in range (0,200):\n",
    "    p=test2.loc[[i]].isna().sum().sum()\n",
    "    test_list.append(p)"
   ]
  },
  {
   "cell_type": "code",
   "execution_count": 117,
   "metadata": {},
   "outputs": [],
   "source": [
    "test2['na_vlaue']=test_list\n",
    "test2['conf']=5\n",
    "test2['n3']=test2.conf-test2.na_vlaue"
   ]
  },
  {
   "cell_type": "code",
   "execution_count": 118,
   "metadata": {},
   "outputs": [],
   "source": [
    "test2['1'] = test2['1'].fillna(0)\n",
    "test2['2'] = test2['2'].fillna(0)\n",
    "test2['3'] = test2['3'].fillna(0)\n",
    "test2['4'] = test2['4'].fillna(0)\n",
    "test2['5'] = test2['5'].fillna(0)"
   ]
  },
  {
   "cell_type": "code",
   "execution_count": 119,
   "metadata": {},
   "outputs": [],
   "source": [
    "test2['sum']=test2['1']+test2['2']+test2['3']+test2['4']+test2['5']"
   ]
  },
  {
   "cell_type": "code",
   "execution_count": 120,
   "metadata": {},
   "outputs": [],
   "source": [
    "import math"
   ]
  },
  {
   "cell_type": "code",
   "execution_count": 121,
   "metadata": {},
   "outputs": [
    {
     "data": {
      "text/plain": [
       "1598061.2456375537"
      ]
     },
     "execution_count": 121,
     "metadata": {},
     "output_type": "execute_result"
    }
   ],
   "source": [
    "test2.at[0,'1']"
   ]
  },
  {
   "cell_type": "code",
   "execution_count": 122,
   "metadata": {},
   "outputs": [
    {
     "data": {
      "text/plain": [
       "True"
      ]
     },
     "execution_count": 122,
     "metadata": {},
     "output_type": "execute_result"
    }
   ],
   "source": [
    "(test2['sum'] != 0).all()"
   ]
  },
  {
   "cell_type": "code",
   "execution_count": 123,
   "metadata": {},
   "outputs": [
    {
     "name": "stderr",
     "output_type": "stream",
     "text": [
      "/opt/conda/envs/sds2020/lib/python3.7/site-packages/ipykernel_launcher.py:27: RuntimeWarning: invalid value encountered in double_scalars\n"
     ]
    }
   ],
   "source": [
    "LUM_list=[]\n",
    "for i in range (0,200):\n",
    "    if test2.at[i,'1']==0:\n",
    "        t1=0\n",
    "    else:\n",
    "        t1=math.log(test2.at[i,'1']/test2.at[i,'sum'])\n",
    "    if test2.at[i,'2']==0:\n",
    "        t2=0\n",
    "    else:\n",
    "        t2=math.log(test2.at[i,'2']/test2.at[i,'sum'])\n",
    "    if test2.at[i,'3']==0:\n",
    "        t3=0\n",
    "    else:\n",
    "        t3=math.log(test2.at[i,'3']/test2.at[i,'sum'])\n",
    "    if test2.at[i,'4']==0:\n",
    "        t4=0\n",
    "    else:\n",
    "        t4=math.log(test2.at[i,'4']/test2.at[i,'sum'])\n",
    "    if test2.at[i,'5']==0:\n",
    "        t5=0\n",
    "    else:\n",
    "        t5=math.log(test2.at[i,'5']/test2.at[i,'sum'])\n",
    "    p=(-1)*((test2.at[i,'1']/test2.at[i,'sum'])*t1\n",
    "                   +(test2.at[i,'2']/test2.at[i,'sum'])*t2\n",
    "                  +(test2.at[i,'3']/test2.at[i,'sum'])*t3\n",
    "                  +(test2.at[i,'4']/test2.at[i,'sum'])*t4\n",
    "                  +(test2.at[i,'5']/test2.at[i,'sum'])*t5)/math.log(test2.at[i,'n3'])\n",
    "    LUM_list.append(p)"
   ]
  },
  {
   "cell_type": "code",
   "execution_count": 124,
   "metadata": {},
   "outputs": [
    {
     "name": "stdout",
     "output_type": "stream",
     "text": [
      "<class 'pandas.core.frame.DataFrame'>\n",
      "RangeIndex: 200 entries, 0 to 199\n",
      "Data columns (total 10 columns):\n",
      " #   Column    Non-Null Count  Dtype  \n",
      "---  ------    --------------  -----  \n",
      " 0   id        200 non-null    int64  \n",
      " 1   1         200 non-null    float64\n",
      " 2   2         200 non-null    float64\n",
      " 3   3         200 non-null    float64\n",
      " 4   4         200 non-null    float64\n",
      " 5   5         200 non-null    float64\n",
      " 6   na_vlaue  200 non-null    int64  \n",
      " 7   conf      200 non-null    int64  \n",
      " 8   n3        200 non-null    int64  \n",
      " 9   sum       200 non-null    float64\n",
      "dtypes: float64(6), int64(4)\n",
      "memory usage: 15.8 KB\n"
     ]
    }
   ],
   "source": [
    "test2.info()"
   ]
  },
  {
   "cell_type": "code",
   "execution_count": 125,
   "metadata": {},
   "outputs": [],
   "source": [
    "test2['P_LUM']=LUM_list\n",
    "test2['P_LUM'] = test2['P_LUM'].fillna(0)"
   ]
  },
  {
   "cell_type": "code",
   "execution_count": 126,
   "metadata": {},
   "outputs": [],
   "source": [
    "LUM_df = test2[['id', 'P_LUM']]\n",
    "gz_area3 = pd.merge(gz_area3, LUM_df, on='id',how='left')"
   ]
  },
  {
   "cell_type": "code",
   "execution_count": 129,
   "metadata": {},
   "outputs": [
    {
     "name": "stdout",
     "output_type": "stream",
     "text": [
      "<class 'geopandas.geodataframe.GeoDataFrame'>\n",
      "Int64Index: 200 entries, 0 to 199\n",
      "Data columns (total 26 columns):\n",
      " #   Column               Non-Null Count  Dtype   \n",
      "---  ------               --------------  -----   \n",
      " 0   id                   200 non-null    int64   \n",
      " 1   lng84                200 non-null    float64 \n",
      " 2   lat84                200 non-null    float64 \n",
      " 3   area                 200 non-null    int64   \n",
      " 4   geometry             200 non-null    geometry\n",
      " 5   line_name            200 non-null    string  \n",
      " 6   station_name         200 non-null    object  \n",
      " 7   lng                  200 non-null    object  \n",
      " 8   lat                  200 non-null    object  \n",
      " 9   N_busStop_count      200 non-null    int64   \n",
      " 10  N_service_time       200 non-null    int64   \n",
      " 11  N_service_direc      200 non-null    int64   \n",
      " 12  P_poi_Diversity      200 non-null    float64 \n",
      " 13  S_community_Count    200 non-null    int64   \n",
      " 14  C_height_avg         200 non-null    float64 \n",
      " 15  road_length_x        200 non-null    float64 \n",
      " 16  N_busLine_Coverage   200 non-null    float64 \n",
      " 17  C_building_density   200 non-null    float64 \n",
      " 18  N_external_Coverage  200 non-null    float64 \n",
      " 19  S_internal_Coverage  200 non-null    float64 \n",
      " 20  C_road_density       200 non-null    float64 \n",
      " 21  P_pop_sum            200 non-null    int64   \n",
      " 22  N_transland_Cover    200 non-null    float64 \n",
      " 23  P_basic_Cover        200 non-null    float64 \n",
      " 24  N_unbasic_Cover      200 non-null    float64 \n",
      " 25  P_LUM                200 non-null    float64 \n",
      "dtypes: float64(14), geometry(1), int64(7), object(3), string(1)\n",
      "memory usage: 42.2+ KB\n"
     ]
    }
   ],
   "source": [
    "gz_area3.info()"
   ]
  },
  {
   "cell_type": "code",
   "execution_count": 128,
   "metadata": {},
   "outputs": [],
   "source": [
    "gz_area3['N_transland_Cover'] = gz_area3['N_transland_Cover'].fillna(0)\n",
    "gz_area3['P_basic_Cover'] = gz_area3['P_basic_Cover'].fillna(0)\n",
    "gz_area3['N_unbasic_Cover'] = gz_area3['N_unbasic_Cover'].fillna(0)"
   ]
  },
  {
   "cell_type": "code",
   "execution_count": 130,
   "metadata": {},
   "outputs": [
    {
     "data": {
      "text/html": [
       "<div>\n",
       "<style scoped>\n",
       "    .dataframe tbody tr th:only-of-type {\n",
       "        vertical-align: middle;\n",
       "    }\n",
       "\n",
       "    .dataframe tbody tr th {\n",
       "        vertical-align: top;\n",
       "    }\n",
       "\n",
       "    .dataframe thead th {\n",
       "        text-align: right;\n",
       "    }\n",
       "</style>\n",
       "<table border=\"1\" class=\"dataframe\">\n",
       "  <thead>\n",
       "    <tr style=\"text-align: right;\">\n",
       "      <th></th>\n",
       "      <th>N_busStop_count</th>\n",
       "      <th>N_service_time</th>\n",
       "      <th>N_service_direc</th>\n",
       "      <th>P_poi_Diversity</th>\n",
       "      <th>S_community_Count</th>\n",
       "      <th>C_height_avg</th>\n",
       "      <th>N_busLine_Coverage</th>\n",
       "      <th>C_building_density</th>\n",
       "      <th>N_external_Coverage</th>\n",
       "      <th>S_internal_Coverage</th>\n",
       "      <th>C_road_density</th>\n",
       "      <th>P_pop_sum</th>\n",
       "      <th>N_transland_Cover</th>\n",
       "      <th>P_basic_Cover</th>\n",
       "      <th>N_unbasic_Cover</th>\n",
       "      <th>P_LUM</th>\n",
       "    </tr>\n",
       "  </thead>\n",
       "  <tbody>\n",
       "    <tr>\n",
       "      <th>N_busStop_count</th>\n",
       "      <td>1.0000</td>\n",
       "      <td>0.1376</td>\n",
       "      <td>0.1723</td>\n",
       "      <td>-0.0514</td>\n",
       "      <td>0.8353</td>\n",
       "      <td>0.2164</td>\n",
       "      <td>0.5907</td>\n",
       "      <td>0.3769</td>\n",
       "      <td>-0.0811</td>\n",
       "      <td>0.0045</td>\n",
       "      <td>0.5971</td>\n",
       "      <td>0.7918</td>\n",
       "      <td>-0.1908</td>\n",
       "      <td>-0.1181</td>\n",
       "      <td>0.2638</td>\n",
       "      <td>0.2442</td>\n",
       "    </tr>\n",
       "    <tr>\n",
       "      <th>N_service_time</th>\n",
       "      <td>0.1376</td>\n",
       "      <td>1.0000</td>\n",
       "      <td>0.1778</td>\n",
       "      <td>-0.0319</td>\n",
       "      <td>0.0990</td>\n",
       "      <td>0.0099</td>\n",
       "      <td>0.1199</td>\n",
       "      <td>0.2246</td>\n",
       "      <td>-0.1436</td>\n",
       "      <td>0.2093</td>\n",
       "      <td>0.1505</td>\n",
       "      <td>0.1414</td>\n",
       "      <td>0.1834</td>\n",
       "      <td>-0.1123</td>\n",
       "      <td>0.0755</td>\n",
       "      <td>-0.0501</td>\n",
       "    </tr>\n",
       "    <tr>\n",
       "      <th>N_service_direc</th>\n",
       "      <td>0.1723</td>\n",
       "      <td>0.1778</td>\n",
       "      <td>1.0000</td>\n",
       "      <td>-0.0064</td>\n",
       "      <td>0.1405</td>\n",
       "      <td>0.0064</td>\n",
       "      <td>0.1294</td>\n",
       "      <td>-0.0093</td>\n",
       "      <td>-0.0256</td>\n",
       "      <td>-0.1008</td>\n",
       "      <td>0.1743</td>\n",
       "      <td>0.1692</td>\n",
       "      <td>0.0941</td>\n",
       "      <td>-0.1035</td>\n",
       "      <td>0.0453</td>\n",
       "      <td>0.0360</td>\n",
       "    </tr>\n",
       "    <tr>\n",
       "      <th>P_poi_Diversity</th>\n",
       "      <td>-0.0514</td>\n",
       "      <td>-0.0319</td>\n",
       "      <td>-0.0064</td>\n",
       "      <td>1.0000</td>\n",
       "      <td>-0.1158</td>\n",
       "      <td>0.1239</td>\n",
       "      <td>-0.0031</td>\n",
       "      <td>0.0529</td>\n",
       "      <td>-0.0464</td>\n",
       "      <td>0.1639</td>\n",
       "      <td>0.0039</td>\n",
       "      <td>-0.0406</td>\n",
       "      <td>-0.0870</td>\n",
       "      <td>0.0841</td>\n",
       "      <td>-0.0332</td>\n",
       "      <td>-0.0138</td>\n",
       "    </tr>\n",
       "    <tr>\n",
       "      <th>S_community_Count</th>\n",
       "      <td>0.8353</td>\n",
       "      <td>0.0990</td>\n",
       "      <td>0.1405</td>\n",
       "      <td>-0.1158</td>\n",
       "      <td>1.0000</td>\n",
       "      <td>0.0789</td>\n",
       "      <td>0.3193</td>\n",
       "      <td>0.2686</td>\n",
       "      <td>-0.1164</td>\n",
       "      <td>-0.0079</td>\n",
       "      <td>0.4891</td>\n",
       "      <td>0.7808</td>\n",
       "      <td>-0.1587</td>\n",
       "      <td>-0.1457</td>\n",
       "      <td>0.2644</td>\n",
       "      <td>0.1514</td>\n",
       "    </tr>\n",
       "    <tr>\n",
       "      <th>C_height_avg</th>\n",
       "      <td>0.2164</td>\n",
       "      <td>0.0099</td>\n",
       "      <td>0.0064</td>\n",
       "      <td>0.1239</td>\n",
       "      <td>0.0789</td>\n",
       "      <td>1.0000</td>\n",
       "      <td>0.1255</td>\n",
       "      <td>0.2946</td>\n",
       "      <td>-0.0224</td>\n",
       "      <td>0.1424</td>\n",
       "      <td>0.3110</td>\n",
       "      <td>0.1744</td>\n",
       "      <td>0.0580</td>\n",
       "      <td>-0.1047</td>\n",
       "      <td>0.0885</td>\n",
       "      <td>0.1341</td>\n",
       "    </tr>\n",
       "    <tr>\n",
       "      <th>N_busLine_Coverage</th>\n",
       "      <td>0.5907</td>\n",
       "      <td>0.1199</td>\n",
       "      <td>0.1294</td>\n",
       "      <td>-0.0031</td>\n",
       "      <td>0.3193</td>\n",
       "      <td>0.1255</td>\n",
       "      <td>1.0000</td>\n",
       "      <td>0.4341</td>\n",
       "      <td>-0.0238</td>\n",
       "      <td>-0.0735</td>\n",
       "      <td>0.1738</td>\n",
       "      <td>0.3767</td>\n",
       "      <td>-0.0606</td>\n",
       "      <td>-0.0425</td>\n",
       "      <td>0.1088</td>\n",
       "      <td>0.1487</td>\n",
       "    </tr>\n",
       "    <tr>\n",
       "      <th>C_building_density</th>\n",
       "      <td>0.3769</td>\n",
       "      <td>0.2246</td>\n",
       "      <td>-0.0093</td>\n",
       "      <td>0.0529</td>\n",
       "      <td>0.2686</td>\n",
       "      <td>0.2946</td>\n",
       "      <td>0.4341</td>\n",
       "      <td>1.0000</td>\n",
       "      <td>-0.1108</td>\n",
       "      <td>0.1390</td>\n",
       "      <td>0.2181</td>\n",
       "      <td>0.3577</td>\n",
       "      <td>-0.0280</td>\n",
       "      <td>-0.1597</td>\n",
       "      <td>0.2396</td>\n",
       "      <td>0.0796</td>\n",
       "    </tr>\n",
       "    <tr>\n",
       "      <th>N_external_Coverage</th>\n",
       "      <td>-0.0811</td>\n",
       "      <td>-0.1436</td>\n",
       "      <td>-0.0256</td>\n",
       "      <td>-0.0464</td>\n",
       "      <td>-0.1164</td>\n",
       "      <td>-0.0224</td>\n",
       "      <td>-0.0238</td>\n",
       "      <td>-0.1108</td>\n",
       "      <td>1.0000</td>\n",
       "      <td>-0.1678</td>\n",
       "      <td>-0.1529</td>\n",
       "      <td>-0.1387</td>\n",
       "      <td>-0.1038</td>\n",
       "      <td>-0.0655</td>\n",
       "      <td>0.0927</td>\n",
       "      <td>-0.0141</td>\n",
       "    </tr>\n",
       "    <tr>\n",
       "      <th>S_internal_Coverage</th>\n",
       "      <td>0.0045</td>\n",
       "      <td>0.2093</td>\n",
       "      <td>-0.1008</td>\n",
       "      <td>0.1639</td>\n",
       "      <td>-0.0079</td>\n",
       "      <td>0.1424</td>\n",
       "      <td>-0.0735</td>\n",
       "      <td>0.1390</td>\n",
       "      <td>-0.1678</td>\n",
       "      <td>1.0000</td>\n",
       "      <td>-0.1078</td>\n",
       "      <td>0.0712</td>\n",
       "      <td>-0.1171</td>\n",
       "      <td>-0.0078</td>\n",
       "      <td>0.2037</td>\n",
       "      <td>-0.1143</td>\n",
       "    </tr>\n",
       "    <tr>\n",
       "      <th>C_road_density</th>\n",
       "      <td>0.5971</td>\n",
       "      <td>0.1505</td>\n",
       "      <td>0.1743</td>\n",
       "      <td>0.0039</td>\n",
       "      <td>0.4891</td>\n",
       "      <td>0.3110</td>\n",
       "      <td>0.1738</td>\n",
       "      <td>0.2181</td>\n",
       "      <td>-0.1529</td>\n",
       "      <td>-0.1078</td>\n",
       "      <td>1.0000</td>\n",
       "      <td>0.5901</td>\n",
       "      <td>0.0655</td>\n",
       "      <td>-0.1853</td>\n",
       "      <td>0.0817</td>\n",
       "      <td>0.2093</td>\n",
       "    </tr>\n",
       "    <tr>\n",
       "      <th>P_pop_sum</th>\n",
       "      <td>0.7918</td>\n",
       "      <td>0.1414</td>\n",
       "      <td>0.1692</td>\n",
       "      <td>-0.0406</td>\n",
       "      <td>0.7808</td>\n",
       "      <td>0.1744</td>\n",
       "      <td>0.3767</td>\n",
       "      <td>0.3577</td>\n",
       "      <td>-0.1387</td>\n",
       "      <td>0.0712</td>\n",
       "      <td>0.5901</td>\n",
       "      <td>1.0000</td>\n",
       "      <td>-0.1137</td>\n",
       "      <td>-0.2261</td>\n",
       "      <td>0.3027</td>\n",
       "      <td>0.1417</td>\n",
       "    </tr>\n",
       "    <tr>\n",
       "      <th>N_transland_Cover</th>\n",
       "      <td>-0.1908</td>\n",
       "      <td>0.1834</td>\n",
       "      <td>0.0941</td>\n",
       "      <td>-0.0870</td>\n",
       "      <td>-0.1587</td>\n",
       "      <td>0.0580</td>\n",
       "      <td>-0.0606</td>\n",
       "      <td>-0.0280</td>\n",
       "      <td>-0.1038</td>\n",
       "      <td>-0.1171</td>\n",
       "      <td>0.0655</td>\n",
       "      <td>-0.1137</td>\n",
       "      <td>1.0000</td>\n",
       "      <td>-0.1988</td>\n",
       "      <td>-0.4337</td>\n",
       "      <td>-0.0809</td>\n",
       "    </tr>\n",
       "    <tr>\n",
       "      <th>P_basic_Cover</th>\n",
       "      <td>-0.1181</td>\n",
       "      <td>-0.1123</td>\n",
       "      <td>-0.1035</td>\n",
       "      <td>0.0841</td>\n",
       "      <td>-0.1457</td>\n",
       "      <td>-0.1047</td>\n",
       "      <td>-0.0425</td>\n",
       "      <td>-0.1597</td>\n",
       "      <td>-0.0655</td>\n",
       "      <td>-0.0078</td>\n",
       "      <td>-0.1853</td>\n",
       "      <td>-0.2261</td>\n",
       "      <td>-0.1988</td>\n",
       "      <td>1.0000</td>\n",
       "      <td>-0.7044</td>\n",
       "      <td>0.0564</td>\n",
       "    </tr>\n",
       "    <tr>\n",
       "      <th>N_unbasic_Cover</th>\n",
       "      <td>0.2638</td>\n",
       "      <td>0.0755</td>\n",
       "      <td>0.0453</td>\n",
       "      <td>-0.0332</td>\n",
       "      <td>0.2644</td>\n",
       "      <td>0.0885</td>\n",
       "      <td>0.1088</td>\n",
       "      <td>0.2396</td>\n",
       "      <td>0.0927</td>\n",
       "      <td>0.2037</td>\n",
       "      <td>0.0817</td>\n",
       "      <td>0.3027</td>\n",
       "      <td>-0.4337</td>\n",
       "      <td>-0.7044</td>\n",
       "      <td>1.0000</td>\n",
       "      <td>-0.0391</td>\n",
       "    </tr>\n",
       "    <tr>\n",
       "      <th>P_LUM</th>\n",
       "      <td>0.2442</td>\n",
       "      <td>-0.0501</td>\n",
       "      <td>0.0360</td>\n",
       "      <td>-0.0138</td>\n",
       "      <td>0.1514</td>\n",
       "      <td>0.1341</td>\n",
       "      <td>0.1487</td>\n",
       "      <td>0.0796</td>\n",
       "      <td>-0.0141</td>\n",
       "      <td>-0.1143</td>\n",
       "      <td>0.2093</td>\n",
       "      <td>0.1417</td>\n",
       "      <td>-0.0809</td>\n",
       "      <td>0.0564</td>\n",
       "      <td>-0.0391</td>\n",
       "      <td>1.0000</td>\n",
       "    </tr>\n",
       "  </tbody>\n",
       "</table>\n",
       "</div>"
      ],
      "text/plain": [
       "                                             N_busStop_count  \\\n",
       "N_busStop_count                                       1.0000   \n",
       "N_service_time                                        0.1376   \n",
       "N_service_direc                                       0.1723   \n",
       "P_poi_Diversity                                      -0.0514   \n",
       "S_community_Count                                     0.8353   \n",
       "C_height_avg                                          0.2164   \n",
       "N_busLine_Coverage                                    0.5907   \n",
       "C_building_density                                    0.3769   \n",
       "N_external_Coverage                                  -0.0811   \n",
       "S_internal_Coverage                                   0.0045   \n",
       "C_road_density                                        0.5971   \n",
       "P_pop_sum                                             0.7918   \n",
       "N_transland_Cover                                    -0.1908   \n",
       "P_basic_Cover                                        -0.1181   \n",
       "N_unbasic_Cover                                       0.2638   \n",
       "P_LUM                                                 0.2442   \n",
       "\n",
       "                                              N_service_time  \\\n",
       "N_busStop_count                                       0.1376   \n",
       "N_service_time                                        1.0000   \n",
       "N_service_direc                                       0.1778   \n",
       "P_poi_Diversity                                      -0.0319   \n",
       "S_community_Count                                     0.0990   \n",
       "C_height_avg                                          0.0099   \n",
       "N_busLine_Coverage                                    0.1199   \n",
       "C_building_density                                    0.2246   \n",
       "N_external_Coverage                                  -0.1436   \n",
       "S_internal_Coverage                                   0.2093   \n",
       "C_road_density                                        0.1505   \n",
       "P_pop_sum                                             0.1414   \n",
       "N_transland_Cover                                     0.1834   \n",
       "P_basic_Cover                                        -0.1123   \n",
       "N_unbasic_Cover                                       0.0755   \n",
       "P_LUM                                                -0.0501   \n",
       "\n",
       "                                             N_service_direc  \\\n",
       "N_busStop_count                                       0.1723   \n",
       "N_service_time                                        0.1778   \n",
       "N_service_direc                                       1.0000   \n",
       "P_poi_Diversity                                      -0.0064   \n",
       "S_community_Count                                     0.1405   \n",
       "C_height_avg                                          0.0064   \n",
       "N_busLine_Coverage                                    0.1294   \n",
       "C_building_density                                   -0.0093   \n",
       "N_external_Coverage                                  -0.0256   \n",
       "S_internal_Coverage                                  -0.1008   \n",
       "C_road_density                                        0.1743   \n",
       "P_pop_sum                                             0.1692   \n",
       "N_transland_Cover                                     0.0941   \n",
       "P_basic_Cover                                        -0.1035   \n",
       "N_unbasic_Cover                                       0.0453   \n",
       "P_LUM                                                 0.0360   \n",
       "\n",
       "                                             P_poi_Diversity  \\\n",
       "N_busStop_count                                      -0.0514   \n",
       "N_service_time                                       -0.0319   \n",
       "N_service_direc                                      -0.0064   \n",
       "P_poi_Diversity                                       1.0000   \n",
       "S_community_Count                                    -0.1158   \n",
       "C_height_avg                                          0.1239   \n",
       "N_busLine_Coverage                                   -0.0031   \n",
       "C_building_density                                    0.0529   \n",
       "N_external_Coverage                                  -0.0464   \n",
       "S_internal_Coverage                                   0.1639   \n",
       "C_road_density                                        0.0039   \n",
       "P_pop_sum                                            -0.0406   \n",
       "N_transland_Cover                                    -0.0870   \n",
       "P_basic_Cover                                         0.0841   \n",
       "N_unbasic_Cover                                      -0.0332   \n",
       "P_LUM                                                -0.0138   \n",
       "\n",
       "                                           S_community_Count  \\\n",
       "N_busStop_count                                       0.8353   \n",
       "N_service_time                                        0.0990   \n",
       "N_service_direc                                       0.1405   \n",
       "P_poi_Diversity                                      -0.1158   \n",
       "S_community_Count                                     1.0000   \n",
       "C_height_avg                                          0.0789   \n",
       "N_busLine_Coverage                                    0.3193   \n",
       "C_building_density                                    0.2686   \n",
       "N_external_Coverage                                  -0.1164   \n",
       "S_internal_Coverage                                  -0.0079   \n",
       "C_road_density                                        0.4891   \n",
       "P_pop_sum                                             0.7808   \n",
       "N_transland_Cover                                    -0.1587   \n",
       "P_basic_Cover                                        -0.1457   \n",
       "N_unbasic_Cover                                       0.2644   \n",
       "P_LUM                                                 0.1514   \n",
       "\n",
       "                                                C_height_avg  \\\n",
       "N_busStop_count                                       0.2164   \n",
       "N_service_time                                        0.0099   \n",
       "N_service_direc                                       0.0064   \n",
       "P_poi_Diversity                                       0.1239   \n",
       "S_community_Count                                     0.0789   \n",
       "C_height_avg                                          1.0000   \n",
       "N_busLine_Coverage                                    0.1255   \n",
       "C_building_density                                    0.2946   \n",
       "N_external_Coverage                                  -0.0224   \n",
       "S_internal_Coverage                                   0.1424   \n",
       "C_road_density                                        0.3110   \n",
       "P_pop_sum                                             0.1744   \n",
       "N_transland_Cover                                     0.0580   \n",
       "P_basic_Cover                                        -0.1047   \n",
       "N_unbasic_Cover                                       0.0885   \n",
       "P_LUM                                                 0.1341   \n",
       "\n",
       "                                          N_busLine_Coverage  \\\n",
       "N_busStop_count                                       0.5907   \n",
       "N_service_time                                        0.1199   \n",
       "N_service_direc                                       0.1294   \n",
       "P_poi_Diversity                                      -0.0031   \n",
       "S_community_Count                                     0.3193   \n",
       "C_height_avg                                          0.1255   \n",
       "N_busLine_Coverage                                    1.0000   \n",
       "C_building_density                                    0.4341   \n",
       "N_external_Coverage                                  -0.0238   \n",
       "S_internal_Coverage                                  -0.0735   \n",
       "C_road_density                                        0.1738   \n",
       "P_pop_sum                                             0.3767   \n",
       "N_transland_Cover                                    -0.0606   \n",
       "P_basic_Cover                                        -0.0425   \n",
       "N_unbasic_Cover                                       0.1088   \n",
       "P_LUM                                                 0.1487   \n",
       "\n",
       "                                          C_building_density  \\\n",
       "N_busStop_count                                       0.3769   \n",
       "N_service_time                                        0.2246   \n",
       "N_service_direc                                      -0.0093   \n",
       "P_poi_Diversity                                       0.0529   \n",
       "S_community_Count                                     0.2686   \n",
       "C_height_avg                                          0.2946   \n",
       "N_busLine_Coverage                                    0.4341   \n",
       "C_building_density                                    1.0000   \n",
       "N_external_Coverage                                  -0.1108   \n",
       "S_internal_Coverage                                   0.1390   \n",
       "C_road_density                                        0.2181   \n",
       "P_pop_sum                                             0.3577   \n",
       "N_transland_Cover                                    -0.0280   \n",
       "P_basic_Cover                                        -0.1597   \n",
       "N_unbasic_Cover                                       0.2396   \n",
       "P_LUM                                                 0.0796   \n",
       "\n",
       "                                         N_external_Coverage  \\\n",
       "N_busStop_count                                      -0.0811   \n",
       "N_service_time                                       -0.1436   \n",
       "N_service_direc                                      -0.0256   \n",
       "P_poi_Diversity                                      -0.0464   \n",
       "S_community_Count                                    -0.1164   \n",
       "C_height_avg                                         -0.0224   \n",
       "N_busLine_Coverage                                   -0.0238   \n",
       "C_building_density                                   -0.1108   \n",
       "N_external_Coverage                                   1.0000   \n",
       "S_internal_Coverage                                  -0.1678   \n",
       "C_road_density                                       -0.1529   \n",
       "P_pop_sum                                            -0.1387   \n",
       "N_transland_Cover                                    -0.1038   \n",
       "P_basic_Cover                                        -0.0655   \n",
       "N_unbasic_Cover                                       0.0927   \n",
       "P_LUM                                                -0.0141   \n",
       "\n",
       "                                         S_internal_Coverage  \\\n",
       "N_busStop_count                                       0.0045   \n",
       "N_service_time                                        0.2093   \n",
       "N_service_direc                                      -0.1008   \n",
       "P_poi_Diversity                                       0.1639   \n",
       "S_community_Count                                    -0.0079   \n",
       "C_height_avg                                          0.1424   \n",
       "N_busLine_Coverage                                   -0.0735   \n",
       "C_building_density                                    0.1390   \n",
       "N_external_Coverage                                  -0.1678   \n",
       "S_internal_Coverage                                   1.0000   \n",
       "C_road_density                                       -0.1078   \n",
       "P_pop_sum                                             0.0712   \n",
       "N_transland_Cover                                    -0.1171   \n",
       "P_basic_Cover                                        -0.0078   \n",
       "N_unbasic_Cover                                       0.2037   \n",
       "P_LUM                                                -0.1143   \n",
       "\n",
       "                                              C_road_density  \\\n",
       "N_busStop_count                                       0.5971   \n",
       "N_service_time                                        0.1505   \n",
       "N_service_direc                                       0.1743   \n",
       "P_poi_Diversity                                       0.0039   \n",
       "S_community_Count                                     0.4891   \n",
       "C_height_avg                                          0.3110   \n",
       "N_busLine_Coverage                                    0.1738   \n",
       "C_building_density                                    0.2181   \n",
       "N_external_Coverage                                  -0.1529   \n",
       "S_internal_Coverage                                  -0.1078   \n",
       "C_road_density                                        1.0000   \n",
       "P_pop_sum                                             0.5901   \n",
       "N_transland_Cover                                     0.0655   \n",
       "P_basic_Cover                                        -0.1853   \n",
       "N_unbasic_Cover                                       0.0817   \n",
       "P_LUM                                                 0.2093   \n",
       "\n",
       "                                                   P_pop_sum  \\\n",
       "N_busStop_count                                       0.7918   \n",
       "N_service_time                                        0.1414   \n",
       "N_service_direc                                       0.1692   \n",
       "P_poi_Diversity                                      -0.0406   \n",
       "S_community_Count                                     0.7808   \n",
       "C_height_avg                                          0.1744   \n",
       "N_busLine_Coverage                                    0.3767   \n",
       "C_building_density                                    0.3577   \n",
       "N_external_Coverage                                  -0.1387   \n",
       "S_internal_Coverage                                   0.0712   \n",
       "C_road_density                                        0.5901   \n",
       "P_pop_sum                                             1.0000   \n",
       "N_transland_Cover                                    -0.1137   \n",
       "P_basic_Cover                                        -0.2261   \n",
       "N_unbasic_Cover                                       0.3027   \n",
       "P_LUM                                                 0.1417   \n",
       "\n",
       "                                           N_transland_Cover  \\\n",
       "N_busStop_count                                      -0.1908   \n",
       "N_service_time                                        0.1834   \n",
       "N_service_direc                                       0.0941   \n",
       "P_poi_Diversity                                      -0.0870   \n",
       "S_community_Count                                    -0.1587   \n",
       "C_height_avg                                          0.0580   \n",
       "N_busLine_Coverage                                   -0.0606   \n",
       "C_building_density                                   -0.0280   \n",
       "N_external_Coverage                                  -0.1038   \n",
       "S_internal_Coverage                                  -0.1171   \n",
       "C_road_density                                        0.0655   \n",
       "P_pop_sum                                            -0.1137   \n",
       "N_transland_Cover                                     1.0000   \n",
       "P_basic_Cover                                        -0.1988   \n",
       "N_unbasic_Cover                                      -0.4337   \n",
       "P_LUM                                                -0.0809   \n",
       "\n",
       "                                               P_basic_Cover  \\\n",
       "N_busStop_count                                      -0.1181   \n",
       "N_service_time                                       -0.1123   \n",
       "N_service_direc                                      -0.1035   \n",
       "P_poi_Diversity                                       0.0841   \n",
       "S_community_Count                                    -0.1457   \n",
       "C_height_avg                                         -0.1047   \n",
       "N_busLine_Coverage                                   -0.0425   \n",
       "C_building_density                                   -0.1597   \n",
       "N_external_Coverage                                  -0.0655   \n",
       "S_internal_Coverage                                  -0.0078   \n",
       "C_road_density                                       -0.1853   \n",
       "P_pop_sum                                            -0.2261   \n",
       "N_transland_Cover                                    -0.1988   \n",
       "P_basic_Cover                                         1.0000   \n",
       "N_unbasic_Cover                                      -0.7044   \n",
       "P_LUM                                                 0.0564   \n",
       "\n",
       "                                             N_unbasic_Cover  \\\n",
       "N_busStop_count                                       0.2638   \n",
       "N_service_time                                        0.0755   \n",
       "N_service_direc                                       0.0453   \n",
       "P_poi_Diversity                                      -0.0332   \n",
       "S_community_Count                                     0.2644   \n",
       "C_height_avg                                          0.0885   \n",
       "N_busLine_Coverage                                    0.1088   \n",
       "C_building_density                                    0.2396   \n",
       "N_external_Coverage                                   0.0927   \n",
       "S_internal_Coverage                                   0.2037   \n",
       "C_road_density                                        0.0817   \n",
       "P_pop_sum                                             0.3027   \n",
       "N_transland_Cover                                    -0.4337   \n",
       "P_basic_Cover                                        -0.7044   \n",
       "N_unbasic_Cover                                       1.0000   \n",
       "P_LUM                                                -0.0391   \n",
       "\n",
       "                                                       P_LUM  \n",
       "N_busStop_count                                       0.2442  \n",
       "N_service_time                                       -0.0501  \n",
       "N_service_direc                                       0.0360  \n",
       "P_poi_Diversity                                      -0.0138  \n",
       "S_community_Count                                     0.1514  \n",
       "C_height_avg                                          0.1341  \n",
       "N_busLine_Coverage                                    0.1487  \n",
       "C_building_density                                    0.0796  \n",
       "N_external_Coverage                                  -0.0141  \n",
       "S_internal_Coverage                                  -0.1143  \n",
       "C_road_density                                        0.2093  \n",
       "P_pop_sum                                             0.1417  \n",
       "N_transland_Cover                                    -0.0809  \n",
       "P_basic_Cover                                         0.0564  \n",
       "N_unbasic_Cover                                      -0.0391  \n",
       "P_LUM                                                 1.0000  "
      ]
     },
     "execution_count": 130,
     "metadata": {},
     "output_type": "execute_result"
    }
   ],
   "source": [
    "###测量correlation\n",
    "gz_cor2=gz_area3.copy()\n",
    "gz_cor2= gz_cor2.drop(['id','lng84','lat84','geometry','line_name','station_name','lng','lat','area','road_length_x'],axis=1)"
   ]
  },
  {
   "cell_type": "code",
   "execution_count": 131,
   "metadata": {},
   "outputs": [],
   "source": [
    "corrMatrix=gz_cor2.corr()"
   ]
  },
  {
   "cell_type": "code",
   "execution_count": 132,
   "metadata": {},
   "outputs": [
    {
     "data": {
      "image/png": "[encoded data removed]",
      "text/plain": [
       "<Figure size 792x648 with 2 Axes>"
      ]
     },
     "metadata": {
      "needs_background": "light"
     },
     "output_type": "display_data"
    }
   ],
   "source": [
    "# Generate a mask for the upper triangle\n",
    "mask = np.triu(np.ones_like(corrMatrix, dtype=bool))\n",
    "\n",
    "# Set up the matplotlib figure\n",
    "f, ax = plt.subplots(figsize=(11, 9))\n",
    "\n",
    "# Generate a custom diverging colormap\n",
    "cmap = sns.diverging_palette(230, 20, as_cmap=True)\n",
    "\n",
    "# Draw the heatmap with the mask and correct aspect ratio\n",
    "plot1=sns.heatmap(corrMatrix,  cmap=cmap, vmax=1, center=0,\n",
    "            square=True, linewidths=.5, cbar_kws={\"shrink\": .5})"
   ]
  },
  {
   "cell_type": "code",
   "execution_count": 133,
   "metadata": {},
   "outputs": [],
   "source": [
    "plot1.figure.savefig(\"corr.png\",dpi=300)"
   ]
  },
  {
   "cell_type": "code",
   "execution_count": 137,
   "metadata": {},
   "outputs": [],
   "source": [
    "gz_area3.rename(columns={'N_unbasic_Cover':'P_unbasic_Cover'},inplace=True)"
   ]
  },
  {
   "cell_type": "code",
   "execution_count": 138,
   "metadata": {},
   "outputs": [],
   "source": [
    "gz_area3.to_csv('gz_all_variables.csv',encoding='utf-8',index=False)"
   ]
  },
  {
   "cell_type": "code",
   "execution_count": 139,
   "metadata": {},
   "outputs": [],
   "source": [
    "#尝试PCA\n",
    "gz_PCA=gz_area3.copy()"
   ]
  },
  {
   "cell_type": "code",
   "execution_count": 136,
   "metadata": {},
   "outputs": [],
   "source": [
    "from sklearn.preprocessing import StandardScaler\n",
    "from sklearn.decomposition import PCA"
   ]
  },
  {
   "cell_type": "code",
   "execution_count": 211,
   "metadata": {},
   "outputs": [],
   "source": [
    "features = ['N_busStop_count', 'N_service_time', 'N_service_direc', 'N_busLine_Coverage','N_external_Coverage','N_transland_Cover'\n",
    "           ,'P_poi_Diversity', 'P_pop_sum', 'P_basic_Cover', 'P_unbasic_Cover','P_LUM'\n",
    "           ,'S_community_Count','S_internal_Coverage','C_height_avg','C_building_density','C_road_density']\n",
    "# Separating out the features\n",
    "x = gz_PCA.loc[:, features].values\n",
    "# Separating out the target\n",
    "y = gz_PCA.loc[:,['id']].values\n",
    "# Standardizing the features\n",
    "x = StandardScaler().fit_transform(x)"
   ]
  },
  {
   "cell_type": "code",
   "execution_count": 212,
   "metadata": {},
   "outputs": [],
   "source": [
    "gz_pca_all = PCA(n_components=10)\n",
    "principalComponents = gz_pca_all.fit_transform(x)\n",
    "gz_pca_df = pd.DataFrame(data = principalComponents\n",
    "             , columns = ['principal component 1', 'principal component 2','principal component 3', 'principal component 4',\n",
    "                         'principal component 5', 'principal component 6','principal component 7', 'principal component 8',\n",
    "                         'principal component 9', 'principal component 10'])"
   ]
  },
  {
   "cell_type": "code",
   "execution_count": 213,
   "metadata": {},
   "outputs": [
    {
     "data": {
      "text/html": [
       "<div>\n",
       "<style scoped>\n",
       "    .dataframe tbody tr th:only-of-type {\n",
       "        vertical-align: middle;\n",
       "    }\n",
       "\n",
       "    .dataframe tbody tr th {\n",
       "        vertical-align: top;\n",
       "    }\n",
       "\n",
       "    .dataframe thead th {\n",
       "        text-align: right;\n",
       "    }\n",
       "</style>\n",
       "<table border=\"1\" class=\"dataframe\">\n",
       "  <thead>\n",
       "    <tr style=\"text-align: right;\">\n",
       "      <th></th>\n",
       "      <th>principal component 1</th>\n",
       "      <th>principal component 2</th>\n",
       "      <th>principal component 3</th>\n",
       "      <th>principal component 4</th>\n",
       "      <th>principal component 5</th>\n",
       "      <th>principal component 6</th>\n",
       "      <th>principal component 7</th>\n",
       "      <th>principal component 8</th>\n",
       "      <th>principal component 9</th>\n",
       "      <th>principal component 10</th>\n",
       "    </tr>\n",
       "  </thead>\n",
       "  <tbody>\n",
       "    <tr>\n",
       "      <th>0</th>\n",
       "      <td>-0.2187</td>\n",
       "      <td>1.7653</td>\n",
       "      <td>-0.0249</td>\n",
       "      <td>1.2595</td>\n",
       "      <td>1.2674</td>\n",
       "      <td>0.3157</td>\n",
       "      <td>1.7087</td>\n",
       "      <td>0.1010</td>\n",
       "      <td>0.1984</td>\n",
       "      <td>1.1331</td>\n",
       "    </tr>\n",
       "    <tr>\n",
       "      <th>1</th>\n",
       "      <td>-0.3696</td>\n",
       "      <td>0.4555</td>\n",
       "      <td>-0.6726</td>\n",
       "      <td>0.6527</td>\n",
       "      <td>0.9627</td>\n",
       "      <td>0.0471</td>\n",
       "      <td>-0.6656</td>\n",
       "      <td>-0.3524</td>\n",
       "      <td>0.1711</td>\n",
       "      <td>0.0430</td>\n",
       "    </tr>\n",
       "    <tr>\n",
       "      <th>2</th>\n",
       "      <td>0.0857</td>\n",
       "      <td>0.0834</td>\n",
       "      <td>-1.3004</td>\n",
       "      <td>0.6464</td>\n",
       "      <td>0.5415</td>\n",
       "      <td>0.7910</td>\n",
       "      <td>-0.1734</td>\n",
       "      <td>0.0918</td>\n",
       "      <td>0.4858</td>\n",
       "      <td>-0.5332</td>\n",
       "    </tr>\n",
       "    <tr>\n",
       "      <th>3</th>\n",
       "      <td>0.8218</td>\n",
       "      <td>-1.2665</td>\n",
       "      <td>-0.5969</td>\n",
       "      <td>0.6256</td>\n",
       "      <td>0.6761</td>\n",
       "      <td>0.0094</td>\n",
       "      <td>-0.7055</td>\n",
       "      <td>-0.3151</td>\n",
       "      <td>-0.1121</td>\n",
       "      <td>-0.6936</td>\n",
       "    </tr>\n",
       "    <tr>\n",
       "      <th>4</th>\n",
       "      <td>1.9911</td>\n",
       "      <td>-1.3457</td>\n",
       "      <td>0.2571</td>\n",
       "      <td>1.3621</td>\n",
       "      <td>1.1000</td>\n",
       "      <td>-1.6607</td>\n",
       "      <td>0.8183</td>\n",
       "      <td>-0.8552</td>\n",
       "      <td>-0.2112</td>\n",
       "      <td>0.6344</td>\n",
       "    </tr>\n",
       "  </tbody>\n",
       "</table>\n",
       "</div>"
      ],
      "text/plain": [
       "                     principal component 1  \\\n",
       "0                                  -0.2187   \n",
       "1                                  -0.3696   \n",
       "2                                   0.0857   \n",
       "3                                   0.8218   \n",
       "4                                   1.9911   \n",
       "\n",
       "                     principal component 2  \\\n",
       "0                                   1.7653   \n",
       "1                                   0.4555   \n",
       "2                                   0.0834   \n",
       "3                                  -1.2665   \n",
       "4                                  -1.3457   \n",
       "\n",
       "                     principal component 3  \\\n",
       "0                                  -0.0249   \n",
       "1                                  -0.6726   \n",
       "2                                  -1.3004   \n",
       "3                                  -0.5969   \n",
       "4                                   0.2571   \n",
       "\n",
       "                     principal component 4  \\\n",
       "0                                   1.2595   \n",
       "1                                   0.6527   \n",
       "2                                   0.6464   \n",
       "3                                   0.6256   \n",
       "4                                   1.3621   \n",
       "\n",
       "                     principal component 5  \\\n",
       "0                                   1.2674   \n",
       "1                                   0.9627   \n",
       "2                                   0.5415   \n",
       "3                                   0.6761   \n",
       "4                                   1.1000   \n",
       "\n",
       "                     principal component 6  \\\n",
       "0                                   0.3157   \n",
       "1                                   0.0471   \n",
       "2                                   0.7910   \n",
       "3                                   0.0094   \n",
       "4                                  -1.6607   \n",
       "\n",
       "                     principal component 7  \\\n",
       "0                                   1.7087   \n",
       "1                                  -0.6656   \n",
       "2                                  -0.1734   \n",
       "3                                  -0.7055   \n",
       "4                                   0.8183   \n",
       "\n",
       "                     principal component 8  \\\n",
       "0                                   0.1010   \n",
       "1                                  -0.3524   \n",
       "2                                   0.0918   \n",
       "3                                  -0.3151   \n",
       "4                                  -0.8552   \n",
       "\n",
       "                     principal component 9  \\\n",
       "0                                   0.1984   \n",
       "1                                   0.1711   \n",
       "2                                   0.4858   \n",
       "3                                  -0.1121   \n",
       "4                                  -0.2112   \n",
       "\n",
       "                    principal component 10  \n",
       "0                                   1.1331  \n",
       "1                                   0.0430  \n",
       "2                                  -0.5332  \n",
       "3                                  -0.6936  \n",
       "4                                   0.6344  "
      ]
     },
     "execution_count": 213,
     "metadata": {},
     "output_type": "execute_result"
    }
   ],
   "source": [
    "gz_pca_df.head()"
   ]
  },
  {
   "cell_type": "code",
   "execution_count": 214,
   "metadata": {},
   "outputs": [
    {
     "data": {
      "text/plain": [
       "array([0.24871867, 0.1074318 , 0.09521623, 0.09075294, 0.07355163,\n",
       "       0.06560022, 0.0613112 , 0.05364651, 0.04902682, 0.04388852])"
      ]
     },
     "execution_count": 214,
     "metadata": {},
     "output_type": "execute_result"
    }
   ],
   "source": [
    "gz_pca_all.explained_variance_ratio_"
   ]
  },
  {
   "cell_type": "code",
   "execution_count": 156,
   "metadata": {},
   "outputs": [
    {
     "data": {
      "text/plain": [
       "10"
      ]
     },
     "execution_count": 156,
     "metadata": {},
     "output_type": "execute_result"
    }
   ],
   "source": [
    "gz_pca_all.n_components_"
   ]
  },
  {
   "cell_type": "code",
   "execution_count": 304,
   "metadata": {},
   "outputs": [],
   "source": [
    "#PCA for Node\n",
    "features_N = ['N_busStop_count', 'N_service_time', 'N_service_direc', 'N_busLine_Coverage','N_external_Coverage','N_transland_Cover'\n",
    "           ]\n",
    "# Separating out the features\n",
    "x_N = gz_PCA.loc[:, features_N].values\n",
    "# Separating out the target\n",
    "y_N = gz_PCA.loc[:,['id']].values\n",
    "# Standardizing the features\n",
    "x_N =MinMaxScaler().fit_transform(x_N)#MinMaxScaler/StandardScaler"
   ]
  },
  {
   "cell_type": "code",
   "execution_count": 208,
   "metadata": {},
   "outputs": [],
   "source": [
    "gz_pca_N = PCA(n_components=6)\n",
    "principalComponents_N = gz_pca_N.fit_transform(x_N)\n",
    "gz_pca_df_N = pd.DataFrame(data = principalComponents_N\n",
    "             , columns = ['principal component 1', 'principal component 2','principal component 3', 'principal component 4'\n",
    "                         ,'principal component 5', 'principal component 6'])"
   ]
  },
  {
   "cell_type": "code",
   "execution_count": 209,
   "metadata": {},
   "outputs": [
    {
     "data": {
      "text/plain": [
       "array([0.33644854, 0.24092281, 0.14606542, 0.12664326, 0.09234485,\n",
       "       0.05757512])"
      ]
     },
     "execution_count": 209,
     "metadata": {},
     "output_type": "execute_result"
    }
   ],
   "source": [
    "gz_pca_N.explained_variance_ratio_"
   ]
  },
  {
   "cell_type": "code",
   "execution_count": 181,
   "metadata": {},
   "outputs": [],
   "source": [
    "#PCA for Plcae\n",
    "features_P = ['P_poi_Diversity', 'P_pop_sum', 'P_basic_Cover', 'P_unbasic_Cover','P_LUM'\n",
    "           ]\n",
    "# Separating out the features\n",
    "x_P = gz_PCA.loc[:, features_P].values\n",
    "# Separating out the target\n",
    "y_P = gz_PCA.loc[:,['id']].values\n",
    "# Standardizing the features\n",
    "x_P = MinMaxScaler().fit_transform(x_P)"
   ]
  },
  {
   "cell_type": "code",
   "execution_count": 182,
   "metadata": {},
   "outputs": [],
   "source": [
    "gz_pca_P = PCA(n_components=4)\n",
    "principalComponents_P = gz_pca_P.fit_transform(x_P)\n",
    "gz_pca_df_P = pd.DataFrame(data = principalComponents_P\n",
    "             , columns = ['principal component 1', 'principal component 2','principal component 3', 'principal component 4'\n",
    "                         ])"
   ]
  },
  {
   "cell_type": "code",
   "execution_count": 183,
   "metadata": {},
   "outputs": [
    {
     "data": {
      "text/plain": [
       "array([0.43085864, 0.26664209, 0.15815591, 0.08037164])"
      ]
     },
     "execution_count": 183,
     "metadata": {},
     "output_type": "execute_result"
    }
   ],
   "source": [
    "gz_pca_P.explained_variance_ratio_"
   ]
  },
  {
   "cell_type": "code",
   "execution_count": 177,
   "metadata": {},
   "outputs": [],
   "source": [
    "#PCA for Settlement\n",
    "features_S = ['S_community_Count','S_internal_Coverage'\n",
    "           ]\n",
    "# Separating out the features\n",
    "x_S = gz_PCA.loc[:, features_S].values\n",
    "# Separating out the target\n",
    "y_S = gz_PCA.loc[:,['id']].values\n",
    "# Standardizing the features\n",
    "x_S = MinMaxScaler().fit_transform(x_S)"
   ]
  },
  {
   "cell_type": "code",
   "execution_count": 178,
   "metadata": {},
   "outputs": [],
   "source": [
    "gz_pca_S = PCA(n_components=2)\n",
    "principalComponents_S = gz_pca_S.fit_transform(x_S)\n",
    "gz_pca_df_S = pd.DataFrame(data = principalComponents_S\n",
    "             , columns = ['principal component 1', 'principal component 2'])"
   ]
  },
  {
   "cell_type": "code",
   "execution_count": 179,
   "metadata": {},
   "outputs": [
    {
     "data": {
      "text/plain": [
       "array([0.60477555, 0.39522445])"
      ]
     },
     "execution_count": 179,
     "metadata": {},
     "output_type": "execute_result"
    }
   ],
   "source": [
    "gz_pca_S.explained_variance_ratio_"
   ]
  },
  {
   "cell_type": "code",
   "execution_count": 174,
   "metadata": {},
   "outputs": [],
   "source": [
    "#PCA for Container\n",
    "features_C = ['C_height_avg','C_building_density','C_road_density'\n",
    "           ]\n",
    "# Separating out the features\n",
    "x_C = gz_PCA.loc[:, features_C].values\n",
    "# Separating out the target\n",
    "y_C = gz_PCA.loc[:,['id']].values\n",
    "# Standardizing the features\n",
    "x_C = MinMaxScaler().fit_transform(x_C)"
   ]
  },
  {
   "cell_type": "code",
   "execution_count": 175,
   "metadata": {},
   "outputs": [],
   "source": [
    "gz_pca_C = PCA(n_components=3)\n",
    "principalComponents_C = gz_pca_C.fit_transform(x_C)\n",
    "gz_pca_df_C = pd.DataFrame(data = principalComponents_C\n",
    "             , columns = ['principal component 1', 'principal component 2', 'principal component 3'])"
   ]
  },
  {
   "cell_type": "code",
   "execution_count": 180,
   "metadata": {},
   "outputs": [
    {
     "data": {
      "text/plain": [
       "array([0.6206879, 0.2358419, 0.1434702])"
      ]
     },
     "execution_count": 180,
     "metadata": {},
     "output_type": "execute_result"
    }
   ],
   "source": [
    "gz_pca_C.explained_variance_ratio_"
   ]
  },
  {
   "cell_type": "code",
   "execution_count": 198,
   "metadata": {},
   "outputs": [],
   "source": [
    "#mcdm-CRITIC METHOD"
   ]
  },
  {
   "cell_type": "code",
   "execution_count": 197,
   "metadata": {},
   "outputs": [
    {
     "name": "stdout",
     "output_type": "stream",
     "text": [
      "Collecting mcdm\n",
      "  Downloading mcdm-1.2-py3-none-any.whl (69 kB)\n",
      "\u001b[K     |████████████████████████████████| 69 kB 267 kB/s eta 0:00:01\n",
      "\u001b[?25hCollecting numpy>=1.19.2\n",
      "  Downloading numpy-1.21.0-cp37-cp37m-manylinux_2_12_x86_64.manylinux2010_x86_64.whl (15.7 MB)\n",
      "\u001b[K     |████████████████████████████████| 15.7 MB 161 kB/s eta 0:00:01    |████                            | 1.9 MB 885 kB/s eta 0:00:16     |██████                          | 3.0 MB 994 kB/s eta 0:00:13     |██████████▌                     | 5.2 MB 1.1 MB/s eta 0:00:10     |███████████▏                    | 5.5 MB 1.1 MB/s eta 0:00:10     |██████████████▎                 | 7.0 MB 1.8 MB/s eta 0:00:05     |██████████████▌                 | 7.1 MB 1.8 MB/s eta 0:00:05     |███████████████▏                | 7.4 MB 1.8 MB/s eta 0:00:05     |████████████████████████        | 11.8 MB 1.7 MB/s eta 0:00:03     |████████████████████████▌       | 12.0 MB 1.7 MB/s eta 0:00:03     |████████████████████████▊       | 12.1 MB 1.7 MB/s eta 0:00:03     |█████████████████████████▏      | 12.3 MB 1.7 MB/s eta 0:00:03     |█████████████████████████▊      | 12.6 MB 1.7 MB/s eta 0:00:02     |██████████████████████████▏     | 12.8 MB 1.7 MB/s eta 0:00:02     |███████████████████████████▉    | 13.7 MB 1.4 MB/s eta 0:00:02     |████████████████████████████▋   | 14.0 MB 1.4 MB/s eta 0:00:02     |█████████████████████████████▎  | 14.3 MB 1.4 MB/s eta 0:00:01     |█████████████████████████████▍  | 14.4 MB 1.4 MB/s eta 0:00:01     |██████████████████████████████  | 14.7 MB 1.7 MB/s eta 0:00:01     |███████████████████████████████▎| 15.4 MB 1.7 MB/s eta 0:00:01     |███████████████████████████████▌| 15.4 MB 161 kB/s eta 0:00:02     |████████████████████████████████| 15.7 MB 161 kB/s eta 0:00:01\n",
      "\u001b[?25hInstalling collected packages: numpy, mcdm\n",
      "  Attempting uninstall: numpy\n",
      "    Found existing installation: numpy 1.19.1\n",
      "    Uninstalling numpy-1.19.1:\n",
      "      Successfully uninstalled numpy-1.19.1\n",
      "\u001b[31mERROR: After October 2020 you may experience errors when installing or updating packages. This is because pip will change the way that it resolves dependency conflicts.\n",
      "\n",
      "We recommend you use --use-feature=2020-resolver to test your packages with the new resolver before it becomes the default.\n",
      "\n",
      "pointpats 2.2.0 requires opencv-contrib-python>=4.2.0, which is not installed.\n",
      "access 1.1.1 requires Sphinx==2.4.3, which is not installed.\u001b[0m\n",
      "Successfully installed mcdm-1.2 numpy-1.21.0\n",
      "Note: you may need to restart the kernel to use updated packages.\n"
     ]
    }
   ],
   "source": [
    "pip install mcdm"
   ]
  },
  {
   "cell_type": "code",
   "execution_count": 199,
   "metadata": {},
   "outputs": [],
   "source": [
    "import mcdm"
   ]
  },
  {
   "cell_type": "code",
   "execution_count": 202,
   "metadata": {},
   "outputs": [
    {
     "name": "stdout",
     "output_type": "stream",
     "text": [
      "Help on function critic in module mcdm.weighting.critic:\n",
      "\n",
      "critic(z_matrix, c_method='Pearson')\n",
      "    Python implementation of the CRITIC weighting method.\n",
      "    \n",
      "    For more information, see the following publication:\n",
      "      * D. Diakoulaki, G. Mavrotas, and L. Papayannakis, \"Determining\n",
      "        objective weights in multiple criteria problems: The CRITIC method,\"\n",
      "        Computers & Operations Research, vol. 22, no. 7, pp. 763--770, 1995.\n",
      "        DOI: 10.1016/0305-0548(94)00059-H.\n",
      "\n"
     ]
    }
   ],
   "source": [
    "help(mcdm.weighting.critic)"
   ]
  },
  {
   "cell_type": "code",
   "execution_count": 220,
   "metadata": {},
   "outputs": [],
   "source": [
    "Node_arry=mcdm.weighting.critic(x_N)\n",
    "Node_wgt=Node_arry.tolist()"
   ]
  },
  {
   "cell_type": "code",
   "execution_count": 272,
   "metadata": {},
   "outputs": [],
   "source": [
    "Place_arry=mcdm.weighting.critic(x_P)\n",
    "Place_wgt=Place_arry.tolist()"
   ]
  },
  {
   "cell_type": "code",
   "execution_count": 222,
   "metadata": {},
   "outputs": [],
   "source": [
    "Settlement_arry=mcdm.weighting.critic(x_S)\n",
    "Settlement_wgt=Settlement_arry.tolist()"
   ]
  },
  {
   "cell_type": "code",
   "execution_count": 223,
   "metadata": {},
   "outputs": [],
   "source": [
    "Container_arry=mcdm.weighting.critic(x_C)\n",
    "Container_wgt=Container_arry.tolist()"
   ]
  },
  {
   "cell_type": "code",
   "execution_count": 225,
   "metadata": {},
   "outputs": [
    {
     "data": {
      "text/plain": [
       "0.1691359566538255"
      ]
     },
     "execution_count": 225,
     "metadata": {},
     "output_type": "execute_result"
    }
   ],
   "source": [
    "Node_wgt[0]"
   ]
  },
  {
   "cell_type": "code",
   "execution_count": 253,
   "metadata": {},
   "outputs": [],
   "source": [
    "Node['0_0']=Node_wgt[0]\n",
    "Node['0_1']=Node_wgt[1]\n",
    "Node['0_2']=Node_wgt[2]\n",
    "Node['0_3']=Node_wgt[3]\n",
    "Node['0_4']=Node_wgt[4]\n",
    "Node['0_5']=Node_wgt[5]"
   ]
  },
  {
   "cell_type": "code",
   "execution_count": 262,
   "metadata": {},
   "outputs": [],
   "source": [
    "Node.rename(columns={'0':'a',\n",
    "                      '1':'b',\n",
    "                      '2':'c',\n",
    "                      '3':'d',\n",
    "                      '4':'e',\n",
    "                      '5':'f'}, inplace=True)"
   ]
  },
  {
   "cell_type": "code",
   "execution_count": 264,
   "metadata": {},
   "outputs": [],
   "source": [
    "###测量correlation\n",
    "gz_index=gz_area3.copy()\n",
    "gz_index= gz_index.drop(['lng84','lat84','geometry','line_name','station_name','lng','lat','area','road_length_x'],axis=1)"
   ]
  },
  {
   "cell_type": "code",
   "execution_count": 265,
   "metadata": {},
   "outputs": [
    {
     "data": {
      "text/plain": [
       "Index(['id', 'N_busStop_count', 'N_service_time', 'N_service_direc',\n",
       "       'P_poi_Diversity', 'S_community_Count', 'C_height_avg',\n",
       "       'N_busLine_Coverage', 'C_building_density', 'N_external_Coverage',\n",
       "       'S_internal_Coverage', 'C_road_density', 'P_pop_sum',\n",
       "       'N_transland_Cover', 'P_basic_Cover', 'P_unbasic_Cover', 'P_LUM'],\n",
       "      dtype='object')"
      ]
     },
     "execution_count": 265,
     "metadata": {},
     "output_type": "execute_result"
    }
   ],
   "source": [
    "gz_index.columns"
   ]
  },
  {
   "cell_type": "code",
   "execution_count": 268,
   "metadata": {},
   "outputs": [],
   "source": [
    "scaler = MinMaxScaler()\n",
    "# fit and transform the data\n",
    "gz_norm = pd.DataFrame(scaler.fit_transform(gz_index), columns=gz_index.columns)"
   ]
  },
  {
   "cell_type": "code",
   "execution_count": 273,
   "metadata": {},
   "outputs": [],
   "source": [
    "#计算各维度index\n",
    "gz_norm['Node_index']=gz_norm.N_busStop_count*Node_wgt[0]+gz_norm.N_service_time*Node_wgt[1]+gz_norm.N_service_direc*Node_wgt[2]+gz_norm.N_busLine_Coverage*Node_wgt[3]+gz_norm.N_external_Coverage*Node_wgt[4]+gz_norm.N_transland_Cover*Node_wgt[5]\n",
    "gz_norm['Place_index']=gz_norm.P_poi_Diversity*Place_wgt[0]+gz_norm.P_pop_sum*Place_wgt[1]+gz_norm.P_basic_Cover*Node_wgt[2]+gz_norm.P_unbasic_Cover*Place_wgt[3]+gz_norm.P_LUM*Place_wgt[4]\n",
    "gz_norm['Settlement_index']=gz_norm.S_community_Count*Settlement_wgt[0]+gz_norm.S_internal_Coverage*Settlement_wgt[1]\n",
    "gz_norm['Container_index']=gz_norm.C_height_avg*Container_wgt[0]+gz_norm.C_building_density*Container_wgt[1]+gz_norm.C_road_density*Container_wgt[2]"
   ]
  },
  {
   "cell_type": "code",
   "execution_count": 281,
   "metadata": {},
   "outputs": [],
   "source": [
    "gz_final=gz_norm[['Node_index','Place_index','Settlement_index','Container_index','id']]"
   ]
  },
  {
   "cell_type": "code",
   "execution_count": 283,
   "metadata": {},
   "outputs": [
    {
     "data": {
      "text/html": [
       "<div>\n",
       "<style scoped>\n",
       "    .dataframe tbody tr th:only-of-type {\n",
       "        vertical-align: middle;\n",
       "    }\n",
       "\n",
       "    .dataframe tbody tr th {\n",
       "        vertical-align: top;\n",
       "    }\n",
       "\n",
       "    .dataframe thead th {\n",
       "        text-align: right;\n",
       "    }\n",
       "</style>\n",
       "<table border=\"1\" class=\"dataframe\">\n",
       "  <thead>\n",
       "    <tr style=\"text-align: right;\">\n",
       "      <th></th>\n",
       "      <th>Node_index</th>\n",
       "      <th>Place_index</th>\n",
       "      <th>Settlement_index</th>\n",
       "      <th>Container_index</th>\n",
       "      <th>id</th>\n",
       "    </tr>\n",
       "  </thead>\n",
       "  <tbody>\n",
       "    <tr>\n",
       "      <th>0</th>\n",
       "      <td>0.3471</td>\n",
       "      <td>0.4052</td>\n",
       "      <td>0.2016</td>\n",
       "      <td>0.1421</td>\n",
       "      <td>1</td>\n",
       "    </tr>\n",
       "    <tr>\n",
       "      <th>1</th>\n",
       "      <td>0.2620</td>\n",
       "      <td>0.4184</td>\n",
       "      <td>0.1349</td>\n",
       "      <td>0.1831</td>\n",
       "      <td>2</td>\n",
       "    </tr>\n",
       "    <tr>\n",
       "      <th>2</th>\n",
       "      <td>0.3274</td>\n",
       "      <td>0.4447</td>\n",
       "      <td>0.1231</td>\n",
       "      <td>0.1731</td>\n",
       "      <td>3</td>\n",
       "    </tr>\n",
       "    <tr>\n",
       "      <th>3</th>\n",
       "      <td>0.3188</td>\n",
       "      <td>0.4751</td>\n",
       "      <td>0.1988</td>\n",
       "      <td>0.1788</td>\n",
       "      <td>4</td>\n",
       "    </tr>\n",
       "    <tr>\n",
       "      <th>4</th>\n",
       "      <td>0.3226</td>\n",
       "      <td>0.4969</td>\n",
       "      <td>0.4399</td>\n",
       "      <td>0.2621</td>\n",
       "      <td>5</td>\n",
       "    </tr>\n",
       "  </tbody>\n",
       "</table>\n",
       "</div>"
      ],
      "text/plain": [
       "                                Node_index  \\\n",
       "0                                   0.3471   \n",
       "1                                   0.2620   \n",
       "2                                   0.3274   \n",
       "3                                   0.3188   \n",
       "4                                   0.3226   \n",
       "\n",
       "                               Place_index  \\\n",
       "0                                   0.4052   \n",
       "1                                   0.4184   \n",
       "2                                   0.4447   \n",
       "3                                   0.4751   \n",
       "4                                   0.4969   \n",
       "\n",
       "                          Settlement_index  \\\n",
       "0                                   0.2016   \n",
       "1                                   0.1349   \n",
       "2                                   0.1231   \n",
       "3                                   0.1988   \n",
       "4                                   0.4399   \n",
       "\n",
       "                           Container_index  id  \n",
       "0                                   0.1421   1  \n",
       "1                                   0.1831   2  \n",
       "2                                   0.1731   3  \n",
       "3                                   0.1788   4  \n",
       "4                                   0.2621   5  "
      ]
     },
     "execution_count": 283,
     "metadata": {},
     "output_type": "execute_result"
    }
   ],
   "source": [
    "gz_final.head()"
   ]
  },
  {
   "cell_type": "code",
   "execution_count": 282,
   "metadata": {},
   "outputs": [
    {
     "name": "stderr",
     "output_type": "stream",
     "text": [
      "/opt/conda/envs/sds2020/lib/python3.7/site-packages/ipykernel_launcher.py:1: SettingWithCopyWarning: \n",
      "A value is trying to be set on a copy of a slice from a DataFrame.\n",
      "Try using .loc[row_indexer,col_indexer] = value instead\n",
      "\n",
      "See the caveats in the documentation: https://pandas.pydata.org/pandas-docs/stable/user_guide/indexing.html#returning-a-view-versus-a-copy\n",
      "  \"\"\"Entry point for launching an IPython kernel.\n"
     ]
    }
   ],
   "source": [
    "gz_final['uid']=gz_final.index.values+1\n",
    "gz_final=gz_final.drop(['id'],axis=1)\n",
    "gz_final.rename(columns={'uid':'id'},inplace=True)"
   ]
  },
  {
   "cell_type": "code",
   "execution_count": 291,
   "metadata": {},
   "outputs": [],
   "source": [
    "gz_final_area=pd.merge(gz_area3,gz_final,on='id',how='left')\n",
    "gz_temp=gz_final_area[['id','lng','Node_index','Place_index','Settlement_index','Container_index']]"
   ]
  },
  {
   "cell_type": "code",
   "execution_count": 292,
   "metadata": {},
   "outputs": [],
   "source": [
    "gz_final_station=pd.merge(gz_station,gz_temp,on='lng',how='left')"
   ]
  },
  {
   "cell_type": "code",
   "execution_count": 293,
   "metadata": {},
   "outputs": [
    {
     "name": "stdout",
     "output_type": "stream",
     "text": [
      "<class 'geopandas.geodataframe.GeoDataFrame'>\n",
      "Int64Index: 200 entries, 0 to 199\n",
      "Data columns (total 12 columns):\n",
      " #   Column            Non-Null Count  Dtype   \n",
      "---  ------            --------------  -----   \n",
      " 0   line_name         200 non-null    object  \n",
      " 1   station_na        200 non-null    object  \n",
      " 2   lng               200 non-null    object  \n",
      " 3   lat               200 non-null    object  \n",
      " 4   lng84             200 non-null    object  \n",
      " 5   lat84             200 non-null    object  \n",
      " 6   geometry          200 non-null    geometry\n",
      " 7   id                200 non-null    int64   \n",
      " 8   Node_index        200 non-null    float64 \n",
      " 9   Place_index       200 non-null    float64 \n",
      " 10  Settlement_index  200 non-null    float64 \n",
      " 11  Container_index   200 non-null    float64 \n",
      "dtypes: float64(4), geometry(1), int64(1), object(6)\n",
      "memory usage: 30.3+ KB\n"
     ]
    }
   ],
   "source": [
    "gz_final_station.info()"
   ]
  },
  {
   "cell_type": "code",
   "execution_count": 300,
   "metadata": {},
   "outputs": [],
   "source": [
    "gz_final_station = gz_final_station.astype({\"line_name\":'string', \"station_na\":'string',\"lat\":'float64',\"lng\":'float64',\"lat84\":'float64',\"lng84\":'float64'})"
   ]
  },
  {
   "cell_type": "code",
   "execution_count": 301,
   "metadata": {},
   "outputs": [],
   "source": [
    "gz_final_station.to_file(\"gz_station_withindex.shp\")"
   ]
  },
  {
   "cell_type": "code",
   "execution_count": 298,
   "metadata": {},
   "outputs": [],
   "source": [
    "gz_final_area.to_file(\"gz_area_withindex.shp\")"
   ]
  },
  {
   "cell_type": "code",
   "execution_count": 302,
   "metadata": {},
   "outputs": [
    {
     "name": "stdout",
     "output_type": "stream",
     "text": [
      "<class 'geopandas.geodataframe.GeoDataFrame'>\n",
      "RangeIndex: 14 entries, 0 to 13\n",
      "Data columns (total 10 columns):\n",
      " #   Column        Non-Null Count  Dtype   \n",
      "---  ------        --------------  -----   \n",
      " 0   line_name     14 non-null     object  \n",
      " 1   start_time    14 non-null     object  \n",
      " 2   end_time      14 non-null     object  \n",
      " 3   start_stop    14 non-null     object  \n",
      " 4   end_stop      14 non-null     object  \n",
      " 5   distance      14 non-null     object  \n",
      " 6   basic_pric    14 non-null     object  \n",
      " 7   total_pric    14 non-null     object  \n",
      " 8   geometry      14 non-null     geometry\n",
      " 9   service_time  14 non-null     object  \n",
      "dtypes: geometry(1), object(9)\n",
      "memory usage: 1.2+ KB\n"
     ]
    }
   ],
   "source": [
    "gz_line.info()"
   ]
  },
  {
   "cell_type": "code",
   "execution_count": 303,
   "metadata": {},
   "outputs": [
    {
     "ename": "ValueError",
     "evalue": "Invalid field type <class 'bytes'>",
     "output_type": "error",
     "traceback": [
      "\u001b[0;31m---------------------------------------------------------------------------\u001b[0m",
      "\u001b[0;31mValueError\u001b[0m                                Traceback (most recent call last)",
      "\u001b[0;32m<ipython-input-303-513faed16208>\u001b[0m in \u001b[0;36m<module>\u001b[0;34m\u001b[0m\n\u001b[0;32m----> 1\u001b[0;31m \u001b[0mgz_line\u001b[0m\u001b[0;34m.\u001b[0m\u001b[0mto_file\u001b[0m\u001b[0;34m(\u001b[0m\u001b[0;34m'gz_line.shp'\u001b[0m\u001b[0;34m)\u001b[0m\u001b[0;34m\u001b[0m\u001b[0;34m\u001b[0m\u001b[0m\n\u001b[0m",
      "\u001b[0;32m/opt/conda/envs/sds2020/lib/python3.7/site-packages/geopandas/geodataframe.py\u001b[0m in \u001b[0;36mto_file\u001b[0;34m(self, filename, driver, schema, index, **kwargs)\u001b[0m\n\u001b[1;32m    744\u001b[0m         \u001b[0;32mfrom\u001b[0m \u001b[0mgeopandas\u001b[0m\u001b[0;34m.\u001b[0m\u001b[0mio\u001b[0m\u001b[0;34m.\u001b[0m\u001b[0mfile\u001b[0m \u001b[0;32mimport\u001b[0m \u001b[0m_to_file\u001b[0m\u001b[0;34m\u001b[0m\u001b[0;34m\u001b[0m\u001b[0m\n\u001b[1;32m    745\u001b[0m \u001b[0;34m\u001b[0m\u001b[0m\n\u001b[0;32m--> 746\u001b[0;31m         \u001b[0m_to_file\u001b[0m\u001b[0;34m(\u001b[0m\u001b[0mself\u001b[0m\u001b[0;34m,\u001b[0m \u001b[0mfilename\u001b[0m\u001b[0;34m,\u001b[0m \u001b[0mdriver\u001b[0m\u001b[0;34m,\u001b[0m \u001b[0mschema\u001b[0m\u001b[0;34m,\u001b[0m \u001b[0mindex\u001b[0m\u001b[0;34m,\u001b[0m \u001b[0;34m**\u001b[0m\u001b[0mkwargs\u001b[0m\u001b[0;34m)\u001b[0m\u001b[0;34m\u001b[0m\u001b[0;34m\u001b[0m\u001b[0m\n\u001b[0m\u001b[1;32m    747\u001b[0m \u001b[0;34m\u001b[0m\u001b[0m\n\u001b[1;32m    748\u001b[0m     \u001b[0;32mdef\u001b[0m \u001b[0mset_crs\u001b[0m\u001b[0;34m(\u001b[0m\u001b[0mself\u001b[0m\u001b[0;34m,\u001b[0m \u001b[0mcrs\u001b[0m\u001b[0;34m=\u001b[0m\u001b[0;32mNone\u001b[0m\u001b[0;34m,\u001b[0m \u001b[0mepsg\u001b[0m\u001b[0;34m=\u001b[0m\u001b[0;32mNone\u001b[0m\u001b[0;34m,\u001b[0m \u001b[0minplace\u001b[0m\u001b[0;34m=\u001b[0m\u001b[0;32mFalse\u001b[0m\u001b[0;34m,\u001b[0m \u001b[0mallow_override\u001b[0m\u001b[0;34m=\u001b[0m\u001b[0;32mFalse\u001b[0m\u001b[0;34m)\u001b[0m\u001b[0;34m:\u001b[0m\u001b[0;34m\u001b[0m\u001b[0;34m\u001b[0m\u001b[0m\n",
      "\u001b[0;32m/opt/conda/envs/sds2020/lib/python3.7/site-packages/geopandas/io/file.py\u001b[0m in \u001b[0;36m_to_file\u001b[0;34m(df, filename, driver, schema, index, mode, crs, **kwargs)\u001b[0m\n\u001b[1;32m    255\u001b[0m             \u001b[0mfilename\u001b[0m\u001b[0;34m,\u001b[0m \u001b[0mmode\u001b[0m\u001b[0;34m=\u001b[0m\u001b[0mmode\u001b[0m\u001b[0;34m,\u001b[0m \u001b[0mdriver\u001b[0m\u001b[0;34m=\u001b[0m\u001b[0mdriver\u001b[0m\u001b[0;34m,\u001b[0m \u001b[0mcrs_wkt\u001b[0m\u001b[0;34m=\u001b[0m\u001b[0mcrs_wkt\u001b[0m\u001b[0;34m,\u001b[0m \u001b[0mschema\u001b[0m\u001b[0;34m=\u001b[0m\u001b[0mschema\u001b[0m\u001b[0;34m,\u001b[0m \u001b[0;34m**\u001b[0m\u001b[0mkwargs\u001b[0m\u001b[0;34m\u001b[0m\u001b[0;34m\u001b[0m\u001b[0m\n\u001b[1;32m    256\u001b[0m         ) as colxn:\n\u001b[0;32m--> 257\u001b[0;31m             \u001b[0mcolxn\u001b[0m\u001b[0;34m.\u001b[0m\u001b[0mwriterecords\u001b[0m\u001b[0;34m(\u001b[0m\u001b[0mdf\u001b[0m\u001b[0;34m.\u001b[0m\u001b[0miterfeatures\u001b[0m\u001b[0;34m(\u001b[0m\u001b[0;34m)\u001b[0m\u001b[0;34m)\u001b[0m\u001b[0;34m\u001b[0m\u001b[0;34m\u001b[0m\u001b[0m\n\u001b[0m\u001b[1;32m    258\u001b[0m \u001b[0;34m\u001b[0m\u001b[0m\n\u001b[1;32m    259\u001b[0m \u001b[0;34m\u001b[0m\u001b[0m\n",
      "\u001b[0;32m/opt/conda/envs/sds2020/lib/python3.7/site-packages/fiona/collection.py\u001b[0m in \u001b[0;36mwriterecords\u001b[0;34m(self, records)\u001b[0m\n\u001b[1;32m    340\u001b[0m         \u001b[0;32mif\u001b[0m \u001b[0mself\u001b[0m\u001b[0;34m.\u001b[0m\u001b[0mmode\u001b[0m \u001b[0;32mnot\u001b[0m \u001b[0;32min\u001b[0m \u001b[0;34m(\u001b[0m\u001b[0;34m'a'\u001b[0m\u001b[0;34m,\u001b[0m \u001b[0;34m'w'\u001b[0m\u001b[0;34m)\u001b[0m\u001b[0;34m:\u001b[0m\u001b[0;34m\u001b[0m\u001b[0;34m\u001b[0m\u001b[0m\n\u001b[1;32m    341\u001b[0m             \u001b[0;32mraise\u001b[0m \u001b[0mIOError\u001b[0m\u001b[0;34m(\u001b[0m\u001b[0;34m\"collection not open for writing\"\u001b[0m\u001b[0;34m)\u001b[0m\u001b[0;34m\u001b[0m\u001b[0;34m\u001b[0m\u001b[0m\n\u001b[0;32m--> 342\u001b[0;31m         \u001b[0mself\u001b[0m\u001b[0;34m.\u001b[0m\u001b[0msession\u001b[0m\u001b[0;34m.\u001b[0m\u001b[0mwriterecs\u001b[0m\u001b[0;34m(\u001b[0m\u001b[0mrecords\u001b[0m\u001b[0;34m,\u001b[0m \u001b[0mself\u001b[0m\u001b[0;34m)\u001b[0m\u001b[0;34m\u001b[0m\u001b[0;34m\u001b[0m\u001b[0m\n\u001b[0m\u001b[1;32m    343\u001b[0m         \u001b[0mself\u001b[0m\u001b[0;34m.\u001b[0m\u001b[0m_len\u001b[0m \u001b[0;34m=\u001b[0m \u001b[0mself\u001b[0m\u001b[0;34m.\u001b[0m\u001b[0msession\u001b[0m\u001b[0;34m.\u001b[0m\u001b[0mget_length\u001b[0m\u001b[0;34m(\u001b[0m\u001b[0;34m)\u001b[0m\u001b[0;34m\u001b[0m\u001b[0;34m\u001b[0m\u001b[0m\n\u001b[1;32m    344\u001b[0m         \u001b[0mself\u001b[0m\u001b[0;34m.\u001b[0m\u001b[0m_bounds\u001b[0m \u001b[0;34m=\u001b[0m \u001b[0mself\u001b[0m\u001b[0;34m.\u001b[0m\u001b[0msession\u001b[0m\u001b[0;34m.\u001b[0m\u001b[0mget_extent\u001b[0m\u001b[0;34m(\u001b[0m\u001b[0;34m)\u001b[0m\u001b[0;34m\u001b[0m\u001b[0;34m\u001b[0m\u001b[0m\n",
      "\u001b[0;32mfiona/ogrext.pyx\u001b[0m in \u001b[0;36mfiona.ogrext.WritingSession.writerecs\u001b[0;34m()\u001b[0m\n",
      "\u001b[0;32mfiona/ogrext.pyx\u001b[0m in \u001b[0;36mfiona.ogrext.OGRFeatureBuilder.build\u001b[0;34m()\u001b[0m\n",
      "\u001b[0;31mValueError\u001b[0m: Invalid field type <class 'bytes'>"
     ]
    }
   ],
   "source": [
    "gz_line.to_file('gz_line.shp')"
   ]
  }
 ],
 "metadata": {
  "kernelspec": {
   "display_name": "Python 3",
   "language": "python",
   "name": "python3"
  },
  "language_info": {
   "codemirror_mode": {
    "name": "ipython",
    "version": 3
   },
   "file_extension": ".py",
   "mimetype": "text/x-python",
   "name": "python",
   "nbconvert_exporter": "python",
   "pygments_lexer": "ipython3",
   "version": "3.7.8"
  }
 },
 "nbformat": 4,
 "nbformat_minor": 4
}
