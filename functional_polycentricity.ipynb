{
 "cells": [
  {
   "cell_type": "code",
   "execution_count": 1,
   "metadata": {},
   "outputs": [],
   "source": [
    "import numpy as np\n",
    "import pandas as pd\n",
    "import geopandas as gpd\n",
    "import seaborn as sns\n",
    "import matplotlib.pyplot as plt\n",
    "import matplotlib.cm as cm\n",
    "import matplotlib as mpl\n",
    "import re\n",
    "import os\n",
    "import patsy\n",
    "\n",
    "from matplotlib.colors import ListedColormap\n",
    "\n",
    "import sklearn\n",
    "from sklearn.neighbors import NearestNeighbors\n",
    "from sklearn.manifold import TSNE\n",
    "from sklearn.decomposition import PCA\n",
    "from sklearn.preprocessing import PowerTransformer, RobustScaler, StandardScaler, MinMaxScaler\n",
    "from sklearn.cluster import KMeans, DBSCAN, OPTICS\n",
    "from esda.adbscan import ADBSCAN\n",
    "from pysal.model import mgwr\n",
    "from mgwr.sel_bw import Sel_BW\n",
    "\n",
    "import random\n",
    "random.seed(42)    # For reproducibility\n",
    "np.random.seed(42) # For reproducibility\n",
    "\n",
    "# Make numeric display a bit neater\n",
    "pd.set_option('display.float_format', lambda x: '{:,.2f}'.format(x))"
   ]
  },
  {
   "cell_type": "code",
   "execution_count": 2,
   "metadata": {},
   "outputs": [],
   "source": [
    "from sklearn.linear_model import LinearRegression\n",
    "import statsmodels.api as sm\n",
    "\n",
    "from sklearn.linear_model import LogisticRegression\n",
    "from sklearn.metrics import confusion_matrix\n",
    "\n",
    "pd.set_option('display.max_rows', 300) # specifies number of rows to show\n",
    "pd.options.display.float_format = '{:40,.4f}'.format # specifies default number format to 4 decimal places\n",
    "plt.style.use('ggplot') # specifies that graphs should use ggplot styling\n",
    "%matplotlib inline"
   ]
  },
  {
   "cell_type": "code",
   "execution_count": 3,
   "metadata": {},
   "outputs": [],
   "source": [
    "tfont = {'fontname':'Liberation Sans Narrow', 'horizontalalignment':'left'}\n",
    "import math\n",
    "from geopandas import GeoDataFrame\n",
    "from sklearn.preprocessing import StandardScaler\n",
    "from sklearn.decomposition import PCA\n",
    "from sklearn.preprocessing import MinMaxScaler\n",
    "from sklearn.preprocessing import minmax_scale\n",
    "from sklearn.preprocessing import MaxAbsScaler\n",
    "from sklearn.preprocessing import StandardScaler\n",
    "import mcdm"
   ]
  },
  {
   "cell_type": "code",
   "execution_count": 59,
   "metadata": {},
   "outputs": [],
   "source": [
    "#加载数据\n",
    "fs_area=gpd.read_file('final_output/fs/fs_area_withindex.shp',encoding=\"utf-8\")\n",
    "fs_station=gpd.read_file('final_output/fs/fs_station_withindex.shp',encoding=\"utf-8\")\n",
    "subway_grid=gpd.read_file('metro_data/mobile_grid/grid_subway_catchmentarea.shp',encoding=\"utf-8\")\n",
    "subway_flow=pd.read_csv('metro_data/mobile_grid/20190624.csv',low_memory=False,encoding=\"utf-8\")"
   ]
  },
  {
   "cell_type": "code",
   "execution_count": 12,
   "metadata": {},
   "outputs": [],
   "source": [
    "#提取站点area的grid\n",
    "subway_grid2=subway_grid.copy()\n",
    "subway_grid2.to_crs('EPSG:4326',inplace=True)"
   ]
  },
  {
   "cell_type": "code",
   "execution_count": 14,
   "metadata": {},
   "outputs": [],
   "source": [
    "test = gpd.sjoin(subway_grid2, fs_area, how='left')"
   ]
  },
  {
   "cell_type": "code",
   "execution_count": 19,
   "metadata": {},
   "outputs": [],
   "source": [
    "test.dropna(subset = [\"id\"], inplace=True)"
   ]
  },
  {
   "cell_type": "code",
   "execution_count": 30,
   "metadata": {
    "collapsed": true,
    "jupyter": {
     "outputs_hidden": true
    }
   },
   "outputs": [
    {
     "name": "stdout",
     "output_type": "stream",
     "text": [
      "<class 'geopandas.geodataframe.GeoDataFrame'>\n",
      "Int64Index: 526 entries, 7304 to 8096\n",
      "Data columns (total 38 columns):\n",
      " #   Column       Non-Null Count  Dtype   \n",
      "---  ------       --------------  -----   \n",
      " 0   OBJECTID     526 non-null    int64   \n",
      " 1   Id           526 non-null    int64   \n",
      " 2   Tid          526 non-null    int64   \n",
      " 3   Province     526 non-null    object  \n",
      " 4   Zone         526 non-null    object  \n",
      " 5   Shape_Leng   526 non-null    float64 \n",
      " 6   Shape_Area   526 non-null    float64 \n",
      " 7   geometry     526 non-null    geometry\n",
      " 8   index_right  526 non-null    float64 \n",
      " 9   id           526 non-null    float64 \n",
      " 10  P_pop_sum    526 non-null    float64 \n",
      " 11  road_lengt   526 non-null    float64 \n",
      " 12  line_name    526 non-null    object  \n",
      " 13  station_na   526 non-null    object  \n",
      " 14  lng          526 non-null    float64 \n",
      " 15  time         526 non-null    float64 \n",
      " 16  area         526 non-null    float64 \n",
      " 17  lat          526 non-null    float64 \n",
      " 18  lng84        526 non-null    float64 \n",
      " 19  lat84        526 non-null    float64 \n",
      " 20  N_busStop_   526 non-null    float64 \n",
      " 21  N_Service_   526 non-null    float64 \n",
      " 22  N_busline_   526 non-null    float64 \n",
      " 23  N_external   526 non-null    float64 \n",
      " 24  S_internal   526 non-null    float64 \n",
      " 25  C_road_den   526 non-null    float64 \n",
      " 26  N_translan   526 non-null    float64 \n",
      " 27  P_basic_Co   526 non-null    float64 \n",
      " 28  P_unbasic_   526 non-null    float64 \n",
      " 29  P_LUM        526 non-null    float64 \n",
      " 30  P_poi_Dive   526 non-null    float64 \n",
      " 31  S_communit   526 non-null    float64 \n",
      " 32  C_height_a   526 non-null    float64 \n",
      " 33  C_building   526 non-null    float64 \n",
      " 34  Node_index   526 non-null    float64 \n",
      " 35  Place_inde   526 non-null    float64 \n",
      " 36  Settlement   526 non-null    float64 \n",
      " 37  Container_   526 non-null    float64 \n",
      "dtypes: float64(30), geometry(1), int64(3), object(4)\n",
      "memory usage: 160.3+ KB\n"
     ]
    }
   ],
   "source": [
    "test.info()"
   ]
  },
  {
   "cell_type": "code",
   "execution_count": 62,
   "metadata": {},
   "outputs": [],
   "source": [
    "#加载人流\n",
    "subway_flow_69 = subway_flow[subway_flow[\"time\"].isin([6, 9])]"
   ]
  },
  {
   "cell_type": "code",
   "execution_count": 63,
   "metadata": {},
   "outputs": [],
   "source": [
    "subway_flow_69 = subway_flow_69.groupby(['o_grid','d_grid'])['num_total'].agg(flow_day_sum='sum').reset_index()"
   ]
  },
  {
   "cell_type": "code",
   "execution_count": 64,
   "metadata": {},
   "outputs": [],
   "source": [
    "subway_flow_O=subway_flow_69.copy()\n",
    "subway_flow_O.rename(columns={'flow_day_sum':'O_flow','o_grid':'Tid'},inplace=True)"
   ]
  },
  {
   "cell_type": "code",
   "execution_count": 65,
   "metadata": {},
   "outputs": [],
   "source": [
    "test1=pd.merge(test,subway_flow_O,on='Tid',how='left')"
   ]
  },
  {
   "cell_type": "code",
   "execution_count": 66,
   "metadata": {},
   "outputs": [],
   "source": [
    "test_sub=test[['Tid']]"
   ]
  },
  {
   "cell_type": "code",
   "execution_count": 67,
   "metadata": {},
   "outputs": [
    {
     "name": "stderr",
     "output_type": "stream",
     "text": [
      "/opt/conda/envs/sds2020/lib/python3.7/site-packages/pandas/core/frame.py:4303: SettingWithCopyWarning: \n",
      "A value is trying to be set on a copy of a slice from a DataFrame\n",
      "\n",
      "See the caveats in the documentation: https://pandas.pydata.org/pandas-docs/stable/user_guide/indexing.html#returning-a-view-versus-a-copy\n",
      "  errors=errors,\n"
     ]
    }
   ],
   "source": [
    "test_sub.rename(columns={'Tid':'d_grid'},inplace=True)"
   ]
  },
  {
   "cell_type": "code",
   "execution_count": 68,
   "metadata": {},
   "outputs": [],
   "source": [
    "test2=pd.merge(test1,test_sub,on='d_grid',how='right')"
   ]
  },
  {
   "cell_type": "code",
   "execution_count": 69,
   "metadata": {},
   "outputs": [],
   "source": [
    "O_fs_flow = test2.groupby(['id'])['O_flow'].agg(O_flw='sum').reset_index()\n",
    "fs_area=pd.merge(fs_area,O_fs_flow,on='id',how='left')"
   ]
  },
  {
   "cell_type": "code",
   "execution_count": 70,
   "metadata": {},
   "outputs": [],
   "source": [
    "subway_flow_D=subway_flow_69.copy()\n",
    "subway_flow_D.rename(columns={'flow_day_sum':'D_flow','d_grid':'Tid'},inplace=True)\n",
    "test1=pd.merge(test,subway_flow_D,on='Tid',how='left')\n",
    "test_sub=test[['Tid']]\n",
    "test_sub.rename(columns={'Tid':'o_grid'},inplace=True)"
   ]
  },
  {
   "cell_type": "code",
   "execution_count": 71,
   "metadata": {},
   "outputs": [],
   "source": [
    "test2=pd.merge(test1,test_sub,on='o_grid',how='right')\n",
    "D_fs_flow = test2.groupby(['id'])['D_flow'].agg(D_flw='sum').reset_index()\n",
    "fs_area=pd.merge(fs_area,D_fs_flow,on='id',how='left')"
   ]
  },
  {
   "cell_type": "code",
   "execution_count": 74,
   "metadata": {
    "collapsed": true,
    "jupyter": {
     "outputs_hidden": true
    }
   },
   "outputs": [
    {
     "data": {
      "text/plain": [
       "id                                                          325\n",
       "P_pop_sum                                               1271878\n",
       "road_lengt                                       1,030,933.2548\n",
       "line_name     ???(??--???)???(??--???)???(??--???)???(??--??...\n",
       "station_na    ??????????????????????????????????????????????...\n",
       "lng                                                  2,829.5083\n",
       "time                                                        375\n",
       "area                                            59,965,549.1670\n",
       "lat                                                    575.9091\n",
       "lng84                                                2,829.3728\n",
       "lat84                                                  575.9745\n",
       "N_busStop_                                                 4411\n",
       "N_Service_                                                   27\n",
       "N_busline_                                              56.7652\n",
       "N_external                                               8.2217\n",
       "S_internal                                               7.5132\n",
       "C_road_den                                               0.4282\n",
       "N_translan                                               0.1545\n",
       "P_basic_Co                                               6.4133\n",
       "P_unbasic_                                              13.3958\n",
       "P_LUM                                                   17.7871\n",
       "P_poi_Dive                                              10.7035\n",
       "S_communit                                                   82\n",
       "C_height_a                                             344.4718\n",
       "C_building                                  83,622,343,163.1840\n",
       "Node_index                                               6.7702\n",
       "Place_inde                                              11.1367\n",
       "Settlement                                               8.4013\n",
       "Container_                                              11.1255\n",
       "O_flw                                               37,638.0000\n",
       "D_flw                                               37,638.0000\n",
       "dtype: object"
      ]
     },
     "execution_count": 74,
     "metadata": {},
     "output_type": "execute_result"
    }
   ],
   "source": [
    "fs_area.sum(axis = 0, skipna = True)\n",
    "##该时段流动的总人口37638"
   ]
  },
  {
   "cell_type": "code",
   "execution_count": 75,
   "metadata": {},
   "outputs": [],
   "source": [
    "fs_area['centricity_index']=(fs_area.D_flw-fs_area.O_flw)/37638"
   ]
  },
  {
   "cell_type": "code",
   "execution_count": 79,
   "metadata": {},
   "outputs": [
    {
     "name": "stderr",
     "output_type": "stream",
     "text": [
      "/opt/conda/envs/sds2020/lib/python3.7/site-packages/pandas/core/frame.py:4303: SettingWithCopyWarning: \n",
      "A value is trying to be set on a copy of a slice from a DataFrame\n",
      "\n",
      "See the caveats in the documentation: https://pandas.pydata.org/pandas-docs/stable/user_guide/indexing.html#returning-a-view-versus-a-copy\n",
      "  errors=errors,\n"
     ]
    }
   ],
   "source": [
    "###计算functional polycentricity\n",
    "subway_flow_O=subway_flow_69.copy()\n",
    "subway_flow_O.rename(columns={'flow_day_sum':'O_flow','o_grid':'Tid'},inplace=True)\n",
    "temp1=pd.merge(test,subway_flow_O,on='Tid',how='left')\n",
    "temp_sub=test[['Tid','id']]\n",
    "temp_sub.rename(columns={'Tid':'d_grid','id':'D_id'},inplace=True)"
   ]
  },
  {
   "cell_type": "code",
   "execution_count": 80,
   "metadata": {},
   "outputs": [],
   "source": [
    "fs_within_flow=pd.merge(temp1,temp_sub,on='d_grid',how='right')"
   ]
  },
  {
   "cell_type": "code",
   "execution_count": 83,
   "metadata": {},
   "outputs": [],
   "source": [
    "fs_flow = fs_within_flow.groupby(['id','D_id'])['O_flow'].agg(flw='sum').reset_index()"
   ]
  },
  {
   "cell_type": "code",
   "execution_count": 84,
   "metadata": {},
   "outputs": [
    {
     "data": {
      "text/html": [
       "<div>\n",
       "<style scoped>\n",
       "    .dataframe tbody tr th:only-of-type {\n",
       "        vertical-align: middle;\n",
       "    }\n",
       "\n",
       "    .dataframe tbody tr th {\n",
       "        vertical-align: top;\n",
       "    }\n",
       "\n",
       "    .dataframe thead th {\n",
       "        text-align: right;\n",
       "    }\n",
       "</style>\n",
       "<table border=\"1\" class=\"dataframe\">\n",
       "  <thead>\n",
       "    <tr style=\"text-align: right;\">\n",
       "      <th></th>\n",
       "      <th>id</th>\n",
       "      <th>D_id</th>\n",
       "      <th>flw</th>\n",
       "    </tr>\n",
       "  </thead>\n",
       "  <tbody>\n",
       "    <tr>\n",
       "      <th>0</th>\n",
       "      <td>1.0000</td>\n",
       "      <td>1.0000</td>\n",
       "      <td>78.0000</td>\n",
       "    </tr>\n",
       "    <tr>\n",
       "      <th>1</th>\n",
       "      <td>1.0000</td>\n",
       "      <td>2.0000</td>\n",
       "      <td>113.0000</td>\n",
       "    </tr>\n",
       "    <tr>\n",
       "      <th>2</th>\n",
       "      <td>1.0000</td>\n",
       "      <td>3.0000</td>\n",
       "      <td>85.0000</td>\n",
       "    </tr>\n",
       "    <tr>\n",
       "      <th>3</th>\n",
       "      <td>1.0000</td>\n",
       "      <td>4.0000</td>\n",
       "      <td>38.0000</td>\n",
       "    </tr>\n",
       "    <tr>\n",
       "      <th>4</th>\n",
       "      <td>1.0000</td>\n",
       "      <td>5.0000</td>\n",
       "      <td>16.0000</td>\n",
       "    </tr>\n",
       "    <tr>\n",
       "      <th>...</th>\n",
       "      <td>...</td>\n",
       "      <td>...</td>\n",
       "      <td>...</td>\n",
       "    </tr>\n",
       "    <tr>\n",
       "      <th>579</th>\n",
       "      <td>25.0000</td>\n",
       "      <td>21.0000</td>\n",
       "      <td>10.0000</td>\n",
       "    </tr>\n",
       "    <tr>\n",
       "      <th>580</th>\n",
       "      <td>25.0000</td>\n",
       "      <td>22.0000</td>\n",
       "      <td>6.0000</td>\n",
       "    </tr>\n",
       "    <tr>\n",
       "      <th>581</th>\n",
       "      <td>25.0000</td>\n",
       "      <td>23.0000</td>\n",
       "      <td>35.0000</td>\n",
       "    </tr>\n",
       "    <tr>\n",
       "      <th>582</th>\n",
       "      <td>25.0000</td>\n",
       "      <td>24.0000</td>\n",
       "      <td>39.0000</td>\n",
       "    </tr>\n",
       "    <tr>\n",
       "      <th>583</th>\n",
       "      <td>25.0000</td>\n",
       "      <td>25.0000</td>\n",
       "      <td>43.0000</td>\n",
       "    </tr>\n",
       "  </tbody>\n",
       "</table>\n",
       "<p>584 rows × 3 columns</p>\n",
       "</div>"
      ],
      "text/plain": [
       "                                          id  \\\n",
       "0                                     1.0000   \n",
       "1                                     1.0000   \n",
       "2                                     1.0000   \n",
       "3                                     1.0000   \n",
       "4                                     1.0000   \n",
       "..                                       ...   \n",
       "579                                  25.0000   \n",
       "580                                  25.0000   \n",
       "581                                  25.0000   \n",
       "582                                  25.0000   \n",
       "583                                  25.0000   \n",
       "\n",
       "                                        D_id  \\\n",
       "0                                     1.0000   \n",
       "1                                     2.0000   \n",
       "2                                     3.0000   \n",
       "3                                     4.0000   \n",
       "4                                     5.0000   \n",
       "..                                       ...   \n",
       "579                                  21.0000   \n",
       "580                                  22.0000   \n",
       "581                                  23.0000   \n",
       "582                                  24.0000   \n",
       "583                                  25.0000   \n",
       "\n",
       "                                         flw  \n",
       "0                                    78.0000  \n",
       "1                                   113.0000  \n",
       "2                                    85.0000  \n",
       "3                                    38.0000  \n",
       "4                                    16.0000  \n",
       "..                                       ...  \n",
       "579                                  10.0000  \n",
       "580                                   6.0000  \n",
       "581                                  35.0000  \n",
       "582                                  39.0000  \n",
       "583                                  43.0000  \n",
       "\n",
       "[584 rows x 3 columns]"
      ]
     },
     "execution_count": 84,
     "metadata": {},
     "output_type": "execute_result"
    }
   ],
   "source": [
    "fs_flow"
   ]
  },
  {
   "cell_type": "code",
   "execution_count": 86,
   "metadata": {},
   "outputs": [
    {
     "name": "stdout",
     "output_type": "stream",
     "text": [
      "Requirement already satisfied: networkx in /opt/conda/envs/sds2020/lib/python3.7/site-packages (2.5)\n",
      "Requirement already satisfied: decorator>=4.3.0 in /opt/conda/envs/sds2020/lib/python3.7/site-packages (from networkx) (4.4.2)\n",
      "Note: you may need to restart the kernel to use updated packages.\n"
     ]
    }
   ],
   "source": [
    "pip install networkx"
   ]
  },
  {
   "cell_type": "code",
   "execution_count": 90,
   "metadata": {},
   "outputs": [],
   "source": [
    "import networkx as nx\n",
    "G_fs = nx.Graph()\n",
    "G_fs = nx.from_pandas_edgelist(fs_flow, 'id', 'D_id',['flw'],create_using=nx.DiGraph)"
   ]
  },
  {
   "cell_type": "code",
   "execution_count": 91,
   "metadata": {},
   "outputs": [
    {
     "data": {
      "image/png": "[encoded data removed]",
      "text/plain": [
       "<Figure size 432x288 with 1 Axes>"
      ]
     },
     "metadata": {},
     "output_type": "display_data"
    }
   ],
   "source": [
    "nx.draw(G_fs,\n",
    "        node_color='b',\n",
    "        node_size=8,\n",
    "        edge_color='gray',\n",
    "        width=0.4)"
   ]
  },
  {
   "cell_type": "code",
   "execution_count": 95,
   "metadata": {},
   "outputs": [
    {
     "data": {
      "text/plain": [
       "[(1.0, 1.0, {'flw': 78.0}),\n",
       " (1.0, 2.0, {'flw': 113.0}),\n",
       " (1.0, 3.0, {'flw': 85.0}),\n",
       " (1.0, 4.0, {'flw': 38.0}),\n",
       " (1.0, 5.0, {'flw': 16.0}),\n",
       " (1.0, 6.0, {'flw': 4.0}),\n",
       " (1.0, 7.0, {'flw': 8.0}),\n",
       " (1.0, 8.0, {'flw': 4.0}),\n",
       " (1.0, 9.0, {'flw': 2.0}),\n",
       " (1.0, 10.0, {'flw': 3.0}),\n",
       " (1.0, 11.0, {'flw': 2.0}),\n",
       " (1.0, 13.0, {'flw': 1.0}),\n",
       " (1.0, 14.0, {'flw': 1.0}),\n",
       " (1.0, 15.0, {'flw': 2.0}),\n",
       " (1.0, 16.0, {'flw': 2.0}),\n",
       " (1.0, 17.0, {'flw': 2.0}),\n",
       " (1.0, 18.0, {'flw': 3.0}),\n",
       " (1.0, 19.0, {'flw': 1.0}),\n",
       " (1.0, 20.0, {'flw': 1.0}),\n",
       " (1.0, 21.0, {'flw': 2.0}),\n",
       " (1.0, 22.0, {'flw': 2.0}),\n",
       " (1.0, 24.0, {'flw': 1.0}),\n",
       " (1.0, 25.0, {'flw': 1.0}),\n",
       " (2.0, 1.0, {'flw': 101.0}),\n",
       " (2.0, 2.0, {'flw': 264.0}),\n",
       " (2.0, 3.0, {'flw': 226.0}),\n",
       " (2.0, 4.0, {'flw': 136.0}),\n",
       " (2.0, 5.0, {'flw': 106.0}),\n",
       " (2.0, 6.0, {'flw': 16.0}),\n",
       " (2.0, 7.0, {'flw': 24.0}),\n",
       " (2.0, 8.0, {'flw': 13.0}),\n",
       " (2.0, 9.0, {'flw': 10.0}),\n",
       " (2.0, 10.0, {'flw': 8.0}),\n",
       " (2.0, 11.0, {'flw': 2.0}),\n",
       " (2.0, 12.0, {'flw': 2.0}),\n",
       " (2.0, 13.0, {'flw': 2.0}),\n",
       " (2.0, 14.0, {'flw': 2.0}),\n",
       " (2.0, 15.0, {'flw': 3.0}),\n",
       " (2.0, 16.0, {'flw': 2.0}),\n",
       " (2.0, 17.0, {'flw': 4.0}),\n",
       " (2.0, 18.0, {'flw': 5.0}),\n",
       " (2.0, 19.0, {'flw': 5.0}),\n",
       " (2.0, 20.0, {'flw': 1.0}),\n",
       " (2.0, 25.0, {'flw': 1.0}),\n",
       " (3.0, 1.0, {'flw': 62.0}),\n",
       " (3.0, 2.0, {'flw': 238.0}),\n",
       " (3.0, 3.0, {'flw': 261.0}),\n",
       " (3.0, 4.0, {'flw': 202.0}),\n",
       " (3.0, 5.0, {'flw': 174.0}),\n",
       " (3.0, 6.0, {'flw': 21.0})]"
      ]
     },
     "execution_count": 95,
     "metadata": {},
     "output_type": "execute_result"
    }
   ],
   "source": [
    "list(G_fs.edges(data = True))[0:50]"
   ]
  },
  {
   "cell_type": "code",
   "execution_count": null,
   "metadata": {},
   "outputs": [],
   "source": [
    "list(g_shp.nodes(data=True))[0:10]"
   ]
  },
  {
   "cell_type": "code",
   "execution_count": 97,
   "metadata": {},
   "outputs": [
    {
     "data": {
      "text/plain": [
       "DiDegreeView({1.0: 678.0, 2.0: 1918.0, 3.0: 2076.0, 4.0: 2206.0, 5.0: 2324.0, 6.0: 1031.0, 7.0: 1526.0, 8.0: 1072.0, 9.0: 962.0, 10.0: 1042.0, 11.0: 2194.0, 13.0: 3339.0, 14.0: 4246.0, 15.0: 5201.0, 16.0: 5691.0, 17.0: 7729.0, 18.0: 7766.0, 19.0: 7502.0, 20.0: 4650.0, 21.0: 3969.0, 22.0: 2513.0, 24.0: 713.0, 25.0: 462.0, 12.0: 3731.0, 23.0: 735.0})"
      ]
     },
     "execution_count": 97,
     "metadata": {},
     "output_type": "execute_result"
    }
   ],
   "source": [
    "#degree for each node\n",
    "deg=nx.degree(G_fs,weight='flw')\n",
    "deg"
   ]
  },
  {
   "cell_type": "code",
   "execution_count": 102,
   "metadata": {},
   "outputs": [],
   "source": [
    "fs_den=nx.density(G_fs)"
   ]
  },
  {
   "cell_type": "code",
   "execution_count": 99,
   "metadata": {},
   "outputs": [],
   "source": [
    "fs_degree = pd.DataFrame(dict(\n",
    "    DEGREE = dict(deg)))"
   ]
  },
  {
   "cell_type": "code",
   "execution_count": 101,
   "metadata": {},
   "outputs": [],
   "source": [
    "fs_degree['id']=fs_degree.index.values\n",
    "fs_area=pd.merge(fs_area,fs_degree,on='id',how='left')"
   ]
  },
  {
   "cell_type": "code",
   "execution_count": 103,
   "metadata": {},
   "outputs": [
    {
     "data": {
      "text/html": [
       "<div>\n",
       "<style scoped>\n",
       "    .dataframe tbody tr th:only-of-type {\n",
       "        vertical-align: middle;\n",
       "    }\n",
       "\n",
       "    .dataframe tbody tr th {\n",
       "        vertical-align: top;\n",
       "    }\n",
       "\n",
       "    .dataframe thead th {\n",
       "        text-align: right;\n",
       "    }\n",
       "</style>\n",
       "<table border=\"1\" class=\"dataframe\">\n",
       "  <thead>\n",
       "    <tr style=\"text-align: right;\">\n",
       "      <th></th>\n",
       "      <th>id</th>\n",
       "      <th>P_pop_sum</th>\n",
       "      <th>road_lengt</th>\n",
       "      <th>line_name</th>\n",
       "      <th>station_na</th>\n",
       "      <th>lng</th>\n",
       "      <th>time</th>\n",
       "      <th>area</th>\n",
       "      <th>lat</th>\n",
       "      <th>lng84</th>\n",
       "      <th>...</th>\n",
       "      <th>C_building</th>\n",
       "      <th>Node_index</th>\n",
       "      <th>Place_inde</th>\n",
       "      <th>Settlement</th>\n",
       "      <th>Container_</th>\n",
       "      <th>geometry</th>\n",
       "      <th>O_flw</th>\n",
       "      <th>D_flw</th>\n",
       "      <th>centricity_index</th>\n",
       "      <th>DEGREE</th>\n",
       "    </tr>\n",
       "  </thead>\n",
       "  <tbody>\n",
       "    <tr>\n",
       "      <th>0</th>\n",
       "      <td>1</td>\n",
       "      <td>30533</td>\n",
       "      <td>24,402.7133</td>\n",
       "      <td>???(??--???)</td>\n",
       "      <td>??</td>\n",
       "      <td>113.3186</td>\n",
       "      <td>15</td>\n",
       "      <td>1,851,542.4230</td>\n",
       "      <td>23.0548</td>\n",
       "      <td>113.3131</td>\n",
       "      <td>...</td>\n",
       "      <td>5,166,524,974.2797</td>\n",
       "      <td>0.3359</td>\n",
       "      <td>0.2517</td>\n",
       "      <td>0.1273</td>\n",
       "      <td>0.4645</td>\n",
       "      <td>POLYGON ((113.31215 23.06564, 113.31315 23.064...</td>\n",
       "      <td>372.0000</td>\n",
       "      <td>306.0000</td>\n",
       "      <td>-0.0018</td>\n",
       "      <td>678.0000</td>\n",
       "    </tr>\n",
       "    <tr>\n",
       "      <th>1</th>\n",
       "      <td>2</td>\n",
       "      <td>49382</td>\n",
       "      <td>40,003.4282</td>\n",
       "      <td>???(??--???)</td>\n",
       "      <td>??</td>\n",
       "      <td>113.2974</td>\n",
       "      <td>15</td>\n",
       "      <td>2,052,048.3210</td>\n",
       "      <td>23.0648</td>\n",
       "      <td>113.2920</td>\n",
       "      <td>...</td>\n",
       "      <td>4,360,053,831.7791</td>\n",
       "      <td>0.0725</td>\n",
       "      <td>0.3100</td>\n",
       "      <td>0.1385</td>\n",
       "      <td>0.5766</td>\n",
       "      <td>POLYGON ((113.28900 23.07730, 113.28986 23.075...</td>\n",
       "      <td>933.0000</td>\n",
       "      <td>985.0000</td>\n",
       "      <td>0.0014</td>\n",
       "      <td>1,918.0000</td>\n",
       "    </tr>\n",
       "    <tr>\n",
       "      <th>2</th>\n",
       "      <td>3</td>\n",
       "      <td>88246</td>\n",
       "      <td>43,474.8167</td>\n",
       "      <td>???(??--???)</td>\n",
       "      <td>??</td>\n",
       "      <td>113.2860</td>\n",
       "      <td>15</td>\n",
       "      <td>2,576,017.6180</td>\n",
       "      <td>23.0679</td>\n",
       "      <td>113.2806</td>\n",
       "      <td>...</td>\n",
       "      <td>4,613,925,545.3237</td>\n",
       "      <td>0.0379</td>\n",
       "      <td>0.3331</td>\n",
       "      <td>0.2372</td>\n",
       "      <td>0.5596</td>\n",
       "      <td>POLYGON ((113.28060 23.07761, 113.28155 23.077...</td>\n",
       "      <td>1,057.0000</td>\n",
       "      <td>1,019.0000</td>\n",
       "      <td>-0.0010</td>\n",
       "      <td>2,076.0000</td>\n",
       "    </tr>\n",
       "    <tr>\n",
       "      <th>3</th>\n",
       "      <td>4</td>\n",
       "      <td>144904</td>\n",
       "      <td>38,773.6043</td>\n",
       "      <td>???(??--???)</td>\n",
       "      <td>??</td>\n",
       "      <td>113.2720</td>\n",
       "      <td>15</td>\n",
       "      <td>2,375,596.6240</td>\n",
       "      <td>23.0751</td>\n",
       "      <td>113.2667</td>\n",
       "      <td>...</td>\n",
       "      <td>3,889,849,843.9724</td>\n",
       "      <td>0.0419</td>\n",
       "      <td>0.3736</td>\n",
       "      <td>0.2472</td>\n",
       "      <td>0.5100</td>\n",
       "      <td>POLYGON ((113.25966 23.08700, 113.26066 23.085...</td>\n",
       "      <td>1,096.0000</td>\n",
       "      <td>1,110.0000</td>\n",
       "      <td>0.0004</td>\n",
       "      <td>2,206.0000</td>\n",
       "    </tr>\n",
       "    <tr>\n",
       "      <th>4</th>\n",
       "      <td>5</td>\n",
       "      <td>209972</td>\n",
       "      <td>55,605.6156</td>\n",
       "      <td>???(??--???)</td>\n",
       "      <td>??</td>\n",
       "      <td>113.2606</td>\n",
       "      <td>15</td>\n",
       "      <td>2,165,296.7320</td>\n",
       "      <td>23.0886</td>\n",
       "      <td>113.2553</td>\n",
       "      <td>...</td>\n",
       "      <td>4,284,222,505.3338</td>\n",
       "      <td>0.1692</td>\n",
       "      <td>0.3757</td>\n",
       "      <td>0.3432</td>\n",
       "      <td>0.6856</td>\n",
       "      <td>POLYGON ((113.25426 23.10037, 113.25463 23.099...</td>\n",
       "      <td>944.0000</td>\n",
       "      <td>1,380.0000</td>\n",
       "      <td>0.0116</td>\n",
       "      <td>2,324.0000</td>\n",
       "    </tr>\n",
       "  </tbody>\n",
       "</table>\n",
       "<p>5 rows × 34 columns</p>\n",
       "</div>"
      ],
      "text/plain": [
       "   id  P_pop_sum                               road_lengt     line_name  \\\n",
       "0   1      30533                              24,402.7133  ???(??--???)   \n",
       "1   2      49382                              40,003.4282  ???(??--???)   \n",
       "2   3      88246                              43,474.8167  ???(??--???)   \n",
       "3   4     144904                              38,773.6043  ???(??--???)   \n",
       "4   5     209972                              55,605.6156  ???(??--???)   \n",
       "\n",
       "  station_na                                      lng  time  \\\n",
       "0         ??                                 113.3186    15   \n",
       "1         ??                                 113.2974    15   \n",
       "2         ??                                 113.2860    15   \n",
       "3         ??                                 113.2720    15   \n",
       "4         ??                                 113.2606    15   \n",
       "\n",
       "                                      area  \\\n",
       "0                           1,851,542.4230   \n",
       "1                           2,052,048.3210   \n",
       "2                           2,576,017.6180   \n",
       "3                           2,375,596.6240   \n",
       "4                           2,165,296.7320   \n",
       "\n",
       "                                       lat  \\\n",
       "0                                  23.0548   \n",
       "1                                  23.0648   \n",
       "2                                  23.0679   \n",
       "3                                  23.0751   \n",
       "4                                  23.0886   \n",
       "\n",
       "                                     lng84  ...  \\\n",
       "0                                 113.3131  ...   \n",
       "1                                 113.2920  ...   \n",
       "2                                 113.2806  ...   \n",
       "3                                 113.2667  ...   \n",
       "4                                 113.2553  ...   \n",
       "\n",
       "                                C_building  \\\n",
       "0                       5,166,524,974.2797   \n",
       "1                       4,360,053,831.7791   \n",
       "2                       4,613,925,545.3237   \n",
       "3                       3,889,849,843.9724   \n",
       "4                       4,284,222,505.3338   \n",
       "\n",
       "                                Node_index  \\\n",
       "0                                   0.3359   \n",
       "1                                   0.0725   \n",
       "2                                   0.0379   \n",
       "3                                   0.0419   \n",
       "4                                   0.1692   \n",
       "\n",
       "                                Place_inde  \\\n",
       "0                                   0.2517   \n",
       "1                                   0.3100   \n",
       "2                                   0.3331   \n",
       "3                                   0.3736   \n",
       "4                                   0.3757   \n",
       "\n",
       "                                Settlement  \\\n",
       "0                                   0.1273   \n",
       "1                                   0.1385   \n",
       "2                                   0.2372   \n",
       "3                                   0.2472   \n",
       "4                                   0.3432   \n",
       "\n",
       "                                Container_  \\\n",
       "0                                   0.4645   \n",
       "1                                   0.5766   \n",
       "2                                   0.5596   \n",
       "3                                   0.5100   \n",
       "4                                   0.6856   \n",
       "\n",
       "                                            geometry  \\\n",
       "0  POLYGON ((113.31215 23.06564, 113.31315 23.064...   \n",
       "1  POLYGON ((113.28900 23.07730, 113.28986 23.075...   \n",
       "2  POLYGON ((113.28060 23.07761, 113.28155 23.077...   \n",
       "3  POLYGON ((113.25966 23.08700, 113.26066 23.085...   \n",
       "4  POLYGON ((113.25426 23.10037, 113.25463 23.099...   \n",
       "\n",
       "                                     O_flw  \\\n",
       "0                                 372.0000   \n",
       "1                                 933.0000   \n",
       "2                               1,057.0000   \n",
       "3                               1,096.0000   \n",
       "4                                 944.0000   \n",
       "\n",
       "                                     D_flw  \\\n",
       "0                                 306.0000   \n",
       "1                                 985.0000   \n",
       "2                               1,019.0000   \n",
       "3                               1,110.0000   \n",
       "4                               1,380.0000   \n",
       "\n",
       "                          centricity_index  \\\n",
       "0                                  -0.0018   \n",
       "1                                   0.0014   \n",
       "2                                  -0.0010   \n",
       "3                                   0.0004   \n",
       "4                                   0.0116   \n",
       "\n",
       "                                    DEGREE  \n",
       "0                                 678.0000  \n",
       "1                               1,918.0000  \n",
       "2                               2,076.0000  \n",
       "3                               2,206.0000  \n",
       "4                               2,324.0000  \n",
       "\n",
       "[5 rows x 34 columns]"
      ]
     },
     "execution_count": 103,
     "metadata": {},
     "output_type": "execute_result"
    }
   ],
   "source": [
    "fs_area.head()"
   ]
  },
  {
   "cell_type": "code",
   "execution_count": 106,
   "metadata": {},
   "outputs": [
    {
     "data": {
      "text/plain": [
       "462.0"
      ]
     },
     "execution_count": 106,
     "metadata": {},
     "output_type": "execute_result"
    }
   ],
   "source": [
    "fs_area.DEGREE.min()"
   ]
  },
  {
   "cell_type": "code",
   "execution_count": 109,
   "metadata": {},
   "outputs": [
    {
     "data": {
      "text/plain": [
       "0.5394030816515751"
      ]
     },
     "execution_count": 109,
     "metadata": {},
     "output_type": "execute_result"
    }
   ],
   "source": [
    "from statistics import stdev\n",
    "sample=(fs_area.DEGREE.min(),fs_area.DEGREE.max())\n",
    "fs_FP=fs_den*(1-(fs_area.DEGREE.std())/(stdev(sample)))\n",
    "fs_FP\n",
    "###佛山functional polycentricity——————0.5394030816515751"
   ]
  },
  {
   "cell_type": "code",
   "execution_count": 110,
   "metadata": {},
   "outputs": [],
   "source": [
    "temp=fs_area[['centricity_index','DEGREE','id']]\n",
    "fs_station=pd.merge(fs_station,temp,on='id',how='left')"
   ]
  },
  {
   "cell_type": "code",
   "execution_count": 111,
   "metadata": {},
   "outputs": [],
   "source": [
    "fs_station.to_file(\"fs_station_withcentricity.shp\")\n",
    "fs_area.to_file(\"fs_area_withcentricity.shp\")"
   ]
  }
 ],
 "metadata": {
  "kernelspec": {
   "display_name": "Python 3",
   "language": "python",
   "name": "python3"
  },
  "language_info": {
   "codemirror_mode": {
    "name": "ipython",
    "version": 3
   },
   "file_extension": ".py",
   "mimetype": "text/x-python",
   "name": "python",
   "nbconvert_exporter": "python",
   "pygments_lexer": "ipython3",
   "version": "3.7.8"
  }
 },
 "nbformat": 4,
 "nbformat_minor": 4
}
